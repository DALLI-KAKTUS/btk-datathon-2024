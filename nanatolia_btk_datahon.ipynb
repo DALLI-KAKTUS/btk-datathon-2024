{
 "cells": [
  {
   "cell_type": "code",
   "execution_count": 1,
   "id": "1d1e91ec-1607-404e-97b2-455d2c358280",
   "metadata": {},
   "outputs": [],
   "source": [
    "import pandas as pd\n",
    "import numpy as np \n",
    "import unicodedata\n",
    "import re\n",
    "from difflib import get_close_matches"
   ]
  },
  {
   "cell_type": "code",
   "execution_count": 2,
   "id": "2d9e53ca-6165-4774-83c1-2c6633f99da1",
   "metadata": {},
   "outputs": [
    {
     "data": {
      "text/html": [
       "<div>\n",
       "<style scoped>\n",
       "    .dataframe tbody tr th:only-of-type {\n",
       "        vertical-align: middle;\n",
       "    }\n",
       "\n",
       "    .dataframe tbody tr th {\n",
       "        vertical-align: top;\n",
       "    }\n",
       "\n",
       "    .dataframe thead th {\n",
       "        text-align: right;\n",
       "    }\n",
       "</style>\n",
       "<table border=\"1\" class=\"dataframe\">\n",
       "  <thead>\n",
       "    <tr style=\"text-align: right;\">\n",
       "      <th></th>\n",
       "      <th>Basvuru Yili</th>\n",
       "      <th>Degerlendirme Puani</th>\n",
       "      <th>Cinsiyet</th>\n",
       "      <th>Dogum Tarihi</th>\n",
       "      <th>Dogum Yeri</th>\n",
       "      <th>Ikametgah Sehri</th>\n",
       "      <th>Universite Adi</th>\n",
       "      <th>Universite Turu</th>\n",
       "      <th>Burslu ise Burs Yuzdesi</th>\n",
       "      <th>Burs Aliyor mu?</th>\n",
       "      <th>...</th>\n",
       "      <th>Spor Dalindaki Rolunuz Nedir?</th>\n",
       "      <th>Aktif olarak bir STK üyesi misiniz?</th>\n",
       "      <th>Hangi STK'nin Uyesisiniz?</th>\n",
       "      <th>Stk Projesine Katildiniz Mi?</th>\n",
       "      <th>Girisimcilikle Ilgili Deneyiminiz Var Mi?</th>\n",
       "      <th>Girisimcilikle Ilgili Deneyiminizi Aciklayabilir misiniz?</th>\n",
       "      <th>Ingilizce Biliyor musunuz?</th>\n",
       "      <th>Ingilizce Seviyeniz?</th>\n",
       "      <th>Daha Önceden Mezun Olunduysa, Mezun Olunan Üniversite</th>\n",
       "      <th>id</th>\n",
       "    </tr>\n",
       "  </thead>\n",
       "  <tbody>\n",
       "    <tr>\n",
       "      <th>0</th>\n",
       "      <td>2014</td>\n",
       "      <td>52.0</td>\n",
       "      <td>Erkek</td>\n",
       "      <td>4/6/1994</td>\n",
       "      <td>Altindag, Ankara</td>\n",
       "      <td>Ankara</td>\n",
       "      <td>İHSAN DOĞRAMACI BİLKENT</td>\n",
       "      <td>Özel</td>\n",
       "      <td>100.0</td>\n",
       "      <td>Evet</td>\n",
       "      <td>...</td>\n",
       "      <td>Diğer</td>\n",
       "      <td>Hayır</td>\n",
       "      <td>NaN</td>\n",
       "      <td>Evet</td>\n",
       "      <td>Hayır</td>\n",
       "      <td>NaN</td>\n",
       "      <td>NaN</td>\n",
       "      <td>NaN</td>\n",
       "      <td>NaN</td>\n",
       "      <td>0</td>\n",
       "    </tr>\n",
       "    <tr>\n",
       "      <th>1</th>\n",
       "      <td>2014</td>\n",
       "      <td>30.0</td>\n",
       "      <td>Erkek</td>\n",
       "      <td>6/11/1993</td>\n",
       "      <td>Üsküdar</td>\n",
       "      <td>İstanbul</td>\n",
       "      <td>İHSAN DOĞRAMACI BİLKENT</td>\n",
       "      <td>Özel</td>\n",
       "      <td>100.0</td>\n",
       "      <td>Hayır</td>\n",
       "      <td>...</td>\n",
       "      <td>0</td>\n",
       "      <td>Hayır</td>\n",
       "      <td>NaN</td>\n",
       "      <td>Evet</td>\n",
       "      <td>Evet</td>\n",
       "      <td>Bilkent Cyberparkta bir şirkette Türkiye nin i...</td>\n",
       "      <td>NaN</td>\n",
       "      <td>NaN</td>\n",
       "      <td>NaN</td>\n",
       "      <td>1</td>\n",
       "    </tr>\n",
       "    <tr>\n",
       "      <th>2</th>\n",
       "      <td>2014</td>\n",
       "      <td>18.0</td>\n",
       "      <td>Erkek</td>\n",
       "      <td>1/15/1986</td>\n",
       "      <td>Samsun</td>\n",
       "      <td>İstanbul</td>\n",
       "      <td>ULUSLARARASI KIBRIS ÜNİVERSİTESİ</td>\n",
       "      <td>Özel</td>\n",
       "      <td>100.0</td>\n",
       "      <td>Hayır</td>\n",
       "      <td>...</td>\n",
       "      <td>0</td>\n",
       "      <td>Hayır</td>\n",
       "      <td>NaN</td>\n",
       "      <td>Hayır</td>\n",
       "      <td>Hayır</td>\n",
       "      <td>NaN</td>\n",
       "      <td>NaN</td>\n",
       "      <td>NaN</td>\n",
       "      <td>NaN</td>\n",
       "      <td>2</td>\n",
       "    </tr>\n",
       "    <tr>\n",
       "      <th>3</th>\n",
       "      <td>2014</td>\n",
       "      <td>40.0</td>\n",
       "      <td>Erkek</td>\n",
       "      <td>6/4/1991</td>\n",
       "      <td>Diyarbakır</td>\n",
       "      <td>İstanbul</td>\n",
       "      <td>İSTANBUL ŞEHİR ÜNİVERSİTESİ</td>\n",
       "      <td>Özel</td>\n",
       "      <td>100.0</td>\n",
       "      <td>Evet</td>\n",
       "      <td>...</td>\n",
       "      <td>0</td>\n",
       "      <td>Hayır</td>\n",
       "      <td>NaN</td>\n",
       "      <td>Evet</td>\n",
       "      <td>Hayır</td>\n",
       "      <td>NaN</td>\n",
       "      <td>NaN</td>\n",
       "      <td>NaN</td>\n",
       "      <td>NaN</td>\n",
       "      <td>3</td>\n",
       "    </tr>\n",
       "    <tr>\n",
       "      <th>4</th>\n",
       "      <td>2014</td>\n",
       "      <td>24.0</td>\n",
       "      <td>Erkek</td>\n",
       "      <td>2 Kasim 1992</td>\n",
       "      <td>Ankara/Altındağ</td>\n",
       "      <td>Ankara</td>\n",
       "      <td>TURGUT ÖZAL ÜNİVERSİTESİ</td>\n",
       "      <td>Özel</td>\n",
       "      <td>100.0</td>\n",
       "      <td>Evet</td>\n",
       "      <td>...</td>\n",
       "      <td>0</td>\n",
       "      <td>Hayır</td>\n",
       "      <td>NaN</td>\n",
       "      <td>Hayır</td>\n",
       "      <td>Hayır</td>\n",
       "      <td>NaN</td>\n",
       "      <td>NaN</td>\n",
       "      <td>NaN</td>\n",
       "      <td>NaN</td>\n",
       "      <td>4</td>\n",
       "    </tr>\n",
       "    <tr>\n",
       "      <th>...</th>\n",
       "      <td>...</td>\n",
       "      <td>...</td>\n",
       "      <td>...</td>\n",
       "      <td>...</td>\n",
       "      <td>...</td>\n",
       "      <td>...</td>\n",
       "      <td>...</td>\n",
       "      <td>...</td>\n",
       "      <td>...</td>\n",
       "      <td>...</td>\n",
       "      <td>...</td>\n",
       "      <td>...</td>\n",
       "      <td>...</td>\n",
       "      <td>...</td>\n",
       "      <td>...</td>\n",
       "      <td>...</td>\n",
       "      <td>...</td>\n",
       "      <td>...</td>\n",
       "      <td>...</td>\n",
       "      <td>...</td>\n",
       "      <td>...</td>\n",
       "    </tr>\n",
       "    <tr>\n",
       "      <th>65120</th>\n",
       "      <td>2022</td>\n",
       "      <td>0.0</td>\n",
       "      <td>Erkek</td>\n",
       "      <td>18.06.2003 00:00</td>\n",
       "      <td>İstanbul</td>\n",
       "      <td>İstanbul</td>\n",
       "      <td>İstanbul Aydın Üniversitesi</td>\n",
       "      <td>Özel</td>\n",
       "      <td>NaN</td>\n",
       "      <td>Evet</td>\n",
       "      <td>...</td>\n",
       "      <td>-</td>\n",
       "      <td>Hayır</td>\n",
       "      <td>-</td>\n",
       "      <td>NaN</td>\n",
       "      <td>Hayır</td>\n",
       "      <td>-</td>\n",
       "      <td>Hayır</td>\n",
       "      <td>NaN</td>\n",
       "      <td>NaN</td>\n",
       "      <td>65120</td>\n",
       "    </tr>\n",
       "    <tr>\n",
       "      <th>65121</th>\n",
       "      <td>2022</td>\n",
       "      <td>0.0</td>\n",
       "      <td>Erkek</td>\n",
       "      <td>18.04.2002 00:00</td>\n",
       "      <td>Hatay</td>\n",
       "      <td>Muğla</td>\n",
       "      <td>Muğla Sıtkı Koçman Üniversitesi</td>\n",
       "      <td>Devlet</td>\n",
       "      <td>NaN</td>\n",
       "      <td>Hayır</td>\n",
       "      <td>...</td>\n",
       "      <td>-</td>\n",
       "      <td>Hayır</td>\n",
       "      <td>-</td>\n",
       "      <td>NaN</td>\n",
       "      <td>Hayır</td>\n",
       "      <td>-</td>\n",
       "      <td>Hayır</td>\n",
       "      <td>NaN</td>\n",
       "      <td>NaN</td>\n",
       "      <td>65121</td>\n",
       "    </tr>\n",
       "    <tr>\n",
       "      <th>65122</th>\n",
       "      <td>2022</td>\n",
       "      <td>0.0</td>\n",
       "      <td>Erkek</td>\n",
       "      <td>23.10.1999 00:00</td>\n",
       "      <td>Mersin</td>\n",
       "      <td>Mersin</td>\n",
       "      <td>Süleyman Demirel Üniversitesi</td>\n",
       "      <td>Devlet</td>\n",
       "      <td>NaN</td>\n",
       "      <td>Hayır</td>\n",
       "      <td>...</td>\n",
       "      <td>-</td>\n",
       "      <td>Hayır</td>\n",
       "      <td>-</td>\n",
       "      <td>NaN</td>\n",
       "      <td>Hayır</td>\n",
       "      <td>-</td>\n",
       "      <td>Hayır</td>\n",
       "      <td>NaN</td>\n",
       "      <td>NaN</td>\n",
       "      <td>65122</td>\n",
       "    </tr>\n",
       "    <tr>\n",
       "      <th>65123</th>\n",
       "      <td>2022</td>\n",
       "      <td>0.0</td>\n",
       "      <td>Erkek</td>\n",
       "      <td>17.11.2000 00:00</td>\n",
       "      <td>Samsun</td>\n",
       "      <td>Samsun</td>\n",
       "      <td>Karabük Üniversitesi</td>\n",
       "      <td>Devlet</td>\n",
       "      <td>NaN</td>\n",
       "      <td>Hayır</td>\n",
       "      <td>...</td>\n",
       "      <td>-</td>\n",
       "      <td>Hayır</td>\n",
       "      <td>-</td>\n",
       "      <td>NaN</td>\n",
       "      <td>Hayır</td>\n",
       "      <td>-</td>\n",
       "      <td>Hayır</td>\n",
       "      <td>NaN</td>\n",
       "      <td>NaN</td>\n",
       "      <td>65123</td>\n",
       "    </tr>\n",
       "    <tr>\n",
       "      <th>65124</th>\n",
       "      <td>2022</td>\n",
       "      <td>NaN</td>\n",
       "      <td>Kadın</td>\n",
       "      <td>27.04.2000 00:00</td>\n",
       "      <td>Hatay</td>\n",
       "      <td>Hatay</td>\n",
       "      <td>Gaziantep Üniversitesi</td>\n",
       "      <td>Devlet</td>\n",
       "      <td>NaN</td>\n",
       "      <td>Hayır</td>\n",
       "      <td>...</td>\n",
       "      <td>Takım Oyuncusu</td>\n",
       "      <td>Evet</td>\n",
       "      <td>Genç Kızılay Topluluğu'nda 3 yıldır gönüllüyüm...</td>\n",
       "      <td>NaN</td>\n",
       "      <td>Evet</td>\n",
       "      <td>Aile desteğiyle yemek sektöründe küçük bir işl...</td>\n",
       "      <td>Evet</td>\n",
       "      <td>NaN</td>\n",
       "      <td>NaN</td>\n",
       "      <td>65124</td>\n",
       "    </tr>\n",
       "  </tbody>\n",
       "</table>\n",
       "<p>65125 rows × 44 columns</p>\n",
       "</div>"
      ],
      "text/plain": [
       "       Basvuru Yili  Degerlendirme Puani Cinsiyet      Dogum Tarihi  \\\n",
       "0              2014                 52.0    Erkek          4/6/1994   \n",
       "1              2014                 30.0    Erkek         6/11/1993   \n",
       "2              2014                 18.0    Erkek         1/15/1986   \n",
       "3              2014                 40.0    Erkek          6/4/1991   \n",
       "4              2014                 24.0    Erkek      2 Kasim 1992   \n",
       "...             ...                  ...      ...               ...   \n",
       "65120          2022                  0.0    Erkek  18.06.2003 00:00   \n",
       "65121          2022                  0.0    Erkek  18.04.2002 00:00   \n",
       "65122          2022                  0.0    Erkek  23.10.1999 00:00   \n",
       "65123          2022                  0.0    Erkek  17.11.2000 00:00   \n",
       "65124          2022                  NaN    Kadın  27.04.2000 00:00   \n",
       "\n",
       "             Dogum Yeri Ikametgah Sehri                    Universite Adi  \\\n",
       "0      Altindag, Ankara          Ankara           İHSAN DOĞRAMACI BİLKENT   \n",
       "1               Üsküdar        İstanbul           İHSAN DOĞRAMACI BİLKENT   \n",
       "2                Samsun        İstanbul  ULUSLARARASI KIBRIS ÜNİVERSİTESİ   \n",
       "3            Diyarbakır        İstanbul       İSTANBUL ŞEHİR ÜNİVERSİTESİ   \n",
       "4       Ankara/Altındağ          Ankara          TURGUT ÖZAL ÜNİVERSİTESİ   \n",
       "...                 ...             ...                               ...   \n",
       "65120          İstanbul        İstanbul       İstanbul Aydın Üniversitesi   \n",
       "65121             Hatay           Muğla   Muğla Sıtkı Koçman Üniversitesi   \n",
       "65122            Mersin          Mersin     Süleyman Demirel Üniversitesi   \n",
       "65123            Samsun          Samsun              Karabük Üniversitesi   \n",
       "65124             Hatay           Hatay            Gaziantep Üniversitesi   \n",
       "\n",
       "      Universite Turu  Burslu ise Burs Yuzdesi Burs Aliyor mu?  ...  \\\n",
       "0                Özel                    100.0            Evet  ...   \n",
       "1                Özel                    100.0           Hayır  ...   \n",
       "2                Özel                    100.0           Hayır  ...   \n",
       "3                Özel                    100.0            Evet  ...   \n",
       "4                Özel                    100.0            Evet  ...   \n",
       "...               ...                      ...             ...  ...   \n",
       "65120            Özel                      NaN            Evet  ...   \n",
       "65121          Devlet                      NaN           Hayır  ...   \n",
       "65122          Devlet                      NaN           Hayır  ...   \n",
       "65123          Devlet                      NaN           Hayır  ...   \n",
       "65124          Devlet                      NaN           Hayır  ...   \n",
       "\n",
       "      Spor Dalindaki Rolunuz Nedir? Aktif olarak bir STK üyesi misiniz?  \\\n",
       "0                             Diğer                               Hayır   \n",
       "1                                 0                               Hayır   \n",
       "2                                 0                               Hayır   \n",
       "3                                 0                               Hayır   \n",
       "4                                 0                               Hayır   \n",
       "...                             ...                                 ...   \n",
       "65120                             -                               Hayır   \n",
       "65121                             -                               Hayır   \n",
       "65122                             -                               Hayır   \n",
       "65123                             -                               Hayır   \n",
       "65124                Takım Oyuncusu                                Evet   \n",
       "\n",
       "                               Hangi STK'nin Uyesisiniz?  \\\n",
       "0                                                    NaN   \n",
       "1                                                    NaN   \n",
       "2                                                    NaN   \n",
       "3                                                    NaN   \n",
       "4                                                    NaN   \n",
       "...                                                  ...   \n",
       "65120                                                  -   \n",
       "65121                                                  -   \n",
       "65122                                                  -   \n",
       "65123                                                  -   \n",
       "65124  Genç Kızılay Topluluğu'nda 3 yıldır gönüllüyüm...   \n",
       "\n",
       "      Stk Projesine Katildiniz Mi? Girisimcilikle Ilgili Deneyiminiz Var Mi?  \\\n",
       "0                             Evet                                     Hayır   \n",
       "1                             Evet                                      Evet   \n",
       "2                            Hayır                                     Hayır   \n",
       "3                             Evet                                     Hayır   \n",
       "4                            Hayır                                     Hayır   \n",
       "...                            ...                                       ...   \n",
       "65120                          NaN                                     Hayır   \n",
       "65121                          NaN                                     Hayır   \n",
       "65122                          NaN                                     Hayır   \n",
       "65123                          NaN                                     Hayır   \n",
       "65124                          NaN                                      Evet   \n",
       "\n",
       "      Girisimcilikle Ilgili Deneyiminizi Aciklayabilir misiniz?  \\\n",
       "0                                                    NaN          \n",
       "1      Bilkent Cyberparkta bir şirkette Türkiye nin i...          \n",
       "2                                                    NaN          \n",
       "3                                                    NaN          \n",
       "4                                                    NaN          \n",
       "...                                                  ...          \n",
       "65120                                                  -          \n",
       "65121                                                  -          \n",
       "65122                                                  -          \n",
       "65123                                                  -          \n",
       "65124  Aile desteğiyle yemek sektöründe küçük bir işl...          \n",
       "\n",
       "      Ingilizce Biliyor musunuz? Ingilizce Seviyeniz?  \\\n",
       "0                            NaN                  NaN   \n",
       "1                            NaN                  NaN   \n",
       "2                            NaN                  NaN   \n",
       "3                            NaN                  NaN   \n",
       "4                            NaN                  NaN   \n",
       "...                          ...                  ...   \n",
       "65120                      Hayır                  NaN   \n",
       "65121                      Hayır                  NaN   \n",
       "65122                      Hayır                  NaN   \n",
       "65123                      Hayır                  NaN   \n",
       "65124                       Evet                  NaN   \n",
       "\n",
       "      Daha Önceden Mezun Olunduysa, Mezun Olunan Üniversite     id  \n",
       "0                                                    NaN         0  \n",
       "1                                                    NaN         1  \n",
       "2                                                    NaN         2  \n",
       "3                                                    NaN         3  \n",
       "4                                                    NaN         4  \n",
       "...                                                  ...       ...  \n",
       "65120                                                NaN     65120  \n",
       "65121                                                NaN     65121  \n",
       "65122                                                NaN     65122  \n",
       "65123                                                NaN     65123  \n",
       "65124                                                NaN     65124  \n",
       "\n",
       "[65125 rows x 44 columns]"
      ]
     },
     "execution_count": 2,
     "metadata": {},
     "output_type": "execute_result"
    }
   ],
   "source": [
    "df = pd.read_csv(\"train.csv\", low_memory=False)\n",
    "df"
   ]
  },
  {
   "cell_type": "code",
   "execution_count": 3,
   "id": "5ca2ae44-8392-48a9-a7a2-4397b9dd1e7c",
   "metadata": {},
   "outputs": [],
   "source": [
    "df_raw=df.copy()"
   ]
  },
  {
   "cell_type": "markdown",
   "id": "df12a456-22b0-4ea9-8e6e-af0f8eb09f11",
   "metadata": {},
   "source": [
    "> Görüldüğü gibi çok fazla boş değerimiz var. Dolayısıyla, ilk önce <mark>boş değer analizi</mark> yapılacak."
   ]
  },
  {
   "cell_type": "code",
   "execution_count": 4,
   "id": "92138237-77d4-4752-8717-9d5d86c48781",
   "metadata": {},
   "outputs": [
    {
     "data": {
      "text/html": [
       "<div>\n",
       "<style scoped>\n",
       "    .dataframe tbody tr th:only-of-type {\n",
       "        vertical-align: middle;\n",
       "    }\n",
       "\n",
       "    .dataframe tbody tr th {\n",
       "        vertical-align: top;\n",
       "    }\n",
       "\n",
       "    .dataframe thead th {\n",
       "        text-align: right;\n",
       "    }\n",
       "</style>\n",
       "<table border=\"1\" class=\"dataframe\">\n",
       "  <thead>\n",
       "    <tr style=\"text-align: right;\">\n",
       "      <th></th>\n",
       "      <th>Kayıp veri miktarı</th>\n",
       "      <th>% Kayıp veri miktarı</th>\n",
       "    </tr>\n",
       "  </thead>\n",
       "  <tbody>\n",
       "    <tr>\n",
       "      <th>Daha Önceden Mezun Olunduysa, Mezun Olunan Üniversite</th>\n",
       "      <td>64706</td>\n",
       "      <td>0.993566</td>\n",
       "    </tr>\n",
       "    <tr>\n",
       "      <th>Lise Bolum Diger</th>\n",
       "      <td>63599</td>\n",
       "      <td>0.976568</td>\n",
       "    </tr>\n",
       "    <tr>\n",
       "      <th>Lise Adi Diger</th>\n",
       "      <td>60392</td>\n",
       "      <td>0.927324</td>\n",
       "    </tr>\n",
       "    <tr>\n",
       "      <th>Girisimcilikle Ilgili Deneyiminizi Aciklayabilir misiniz?</th>\n",
       "      <td>50526</td>\n",
       "      <td>0.775831</td>\n",
       "    </tr>\n",
       "    <tr>\n",
       "      <th>Hangi STK'nin Uyesisiniz?</th>\n",
       "      <td>49518</td>\n",
       "      <td>0.760353</td>\n",
       "    </tr>\n",
       "    <tr>\n",
       "      <th>Uye Oldugunuz Kulubun Ismi</th>\n",
       "      <td>48691</td>\n",
       "      <td>0.747655</td>\n",
       "    </tr>\n",
       "    <tr>\n",
       "      <th>Baska Kurumdan Aldigi Burs Miktari</th>\n",
       "      <td>44162</td>\n",
       "      <td>0.678111</td>\n",
       "    </tr>\n",
       "    <tr>\n",
       "      <th>Burs Aldigi Baska Kurum</th>\n",
       "      <td>43977</td>\n",
       "      <td>0.675271</td>\n",
       "    </tr>\n",
       "    <tr>\n",
       "      <th>Burslu ise Burs Yuzdesi</th>\n",
       "      <td>42685</td>\n",
       "      <td>0.655432</td>\n",
       "    </tr>\n",
       "    <tr>\n",
       "      <th>Daha Once Baska Bir Universiteden Mezun Olmus</th>\n",
       "      <td>37345</td>\n",
       "      <td>0.573436</td>\n",
       "    </tr>\n",
       "    <tr>\n",
       "      <th>Ingilizce Seviyeniz?</th>\n",
       "      <td>36533</td>\n",
       "      <td>0.560967</td>\n",
       "    </tr>\n",
       "    <tr>\n",
       "      <th>Anne Sektor</th>\n",
       "      <td>34537</td>\n",
       "      <td>0.530319</td>\n",
       "    </tr>\n",
       "    <tr>\n",
       "      <th>Spor Dalindaki Rolunuz Nedir?</th>\n",
       "      <td>32275</td>\n",
       "      <td>0.495585</td>\n",
       "    </tr>\n",
       "    <tr>\n",
       "      <th>Stk Projesine Katildiniz Mi?</th>\n",
       "      <td>28308</td>\n",
       "      <td>0.434672</td>\n",
       "    </tr>\n",
       "    <tr>\n",
       "      <th>Baba Sektor</th>\n",
       "      <td>20378</td>\n",
       "      <td>0.312906</td>\n",
       "    </tr>\n",
       "    <tr>\n",
       "      <th>Aktif olarak bir STK üyesi misiniz?</th>\n",
       "      <td>12842</td>\n",
       "      <td>0.197190</td>\n",
       "    </tr>\n",
       "    <tr>\n",
       "      <th>Girisimcilikle Ilgili Deneyiminiz Var Mi?</th>\n",
       "      <td>12840</td>\n",
       "      <td>0.197159</td>\n",
       "    </tr>\n",
       "    <tr>\n",
       "      <th>Baba Calisma Durumu</th>\n",
       "      <td>12618</td>\n",
       "      <td>0.193750</td>\n",
       "    </tr>\n",
       "    <tr>\n",
       "      <th>Anne Calisma Durumu</th>\n",
       "      <td>11896</td>\n",
       "      <td>0.182664</td>\n",
       "    </tr>\n",
       "    <tr>\n",
       "      <th>Ingilizce Biliyor musunuz?</th>\n",
       "      <td>6454</td>\n",
       "      <td>0.099102</td>\n",
       "    </tr>\n",
       "    <tr>\n",
       "      <th>Lise Mezuniyet Notu</th>\n",
       "      <td>5917</td>\n",
       "      <td>0.090856</td>\n",
       "    </tr>\n",
       "    <tr>\n",
       "      <th>Universite Not Ortalamasi</th>\n",
       "      <td>2753</td>\n",
       "      <td>0.042273</td>\n",
       "    </tr>\n",
       "    <tr>\n",
       "      <th>Ikametgah Sehri</th>\n",
       "      <td>2037</td>\n",
       "      <td>0.031278</td>\n",
       "    </tr>\n",
       "    <tr>\n",
       "      <th>Girisimcilik Kulupleri Tarzi Bir Kulube Uye misiniz?</th>\n",
       "      <td>1829</td>\n",
       "      <td>0.028084</td>\n",
       "    </tr>\n",
       "    <tr>\n",
       "      <th>Kardes Sayisi</th>\n",
       "      <td>1132</td>\n",
       "      <td>0.017382</td>\n",
       "    </tr>\n",
       "    <tr>\n",
       "      <th>Profesyonel Bir Spor Daliyla Mesgul musunuz?</th>\n",
       "      <td>1115</td>\n",
       "      <td>0.017121</td>\n",
       "    </tr>\n",
       "    <tr>\n",
       "      <th>Lise Sehir</th>\n",
       "      <td>1054</td>\n",
       "      <td>0.016184</td>\n",
       "    </tr>\n",
       "    <tr>\n",
       "      <th>Lise Bolumu</th>\n",
       "      <td>1009</td>\n",
       "      <td>0.015493</td>\n",
       "    </tr>\n",
       "    <tr>\n",
       "      <th>Baba Egitim Durumu</th>\n",
       "      <td>1007</td>\n",
       "      <td>0.015463</td>\n",
       "    </tr>\n",
       "    <tr>\n",
       "      <th>Lise Turu</th>\n",
       "      <td>847</td>\n",
       "      <td>0.013006</td>\n",
       "    </tr>\n",
       "    <tr>\n",
       "      <th>Dogum Yeri</th>\n",
       "      <td>791</td>\n",
       "      <td>0.012146</td>\n",
       "    </tr>\n",
       "    <tr>\n",
       "      <th>Anne Egitim Durumu</th>\n",
       "      <td>406</td>\n",
       "      <td>0.006234</td>\n",
       "    </tr>\n",
       "    <tr>\n",
       "      <th>Lise Adi</th>\n",
       "      <td>384</td>\n",
       "      <td>0.005896</td>\n",
       "    </tr>\n",
       "    <tr>\n",
       "      <th>Universite Kacinci Sinif</th>\n",
       "      <td>374</td>\n",
       "      <td>0.005743</td>\n",
       "    </tr>\n",
       "    <tr>\n",
       "      <th>Universite Turu</th>\n",
       "      <td>255</td>\n",
       "      <td>0.003916</td>\n",
       "    </tr>\n",
       "    <tr>\n",
       "      <th>Bölüm</th>\n",
       "      <td>231</td>\n",
       "      <td>0.003547</td>\n",
       "    </tr>\n",
       "    <tr>\n",
       "      <th>Baska Bir Kurumdan Burs Aliyor mu?</th>\n",
       "      <td>231</td>\n",
       "      <td>0.003547</td>\n",
       "    </tr>\n",
       "    <tr>\n",
       "      <th>Dogum Tarihi</th>\n",
       "      <td>177</td>\n",
       "      <td>0.002718</td>\n",
       "    </tr>\n",
       "    <tr>\n",
       "      <th>Cinsiyet</th>\n",
       "      <td>169</td>\n",
       "      <td>0.002595</td>\n",
       "    </tr>\n",
       "    <tr>\n",
       "      <th>Universite Adi</th>\n",
       "      <td>132</td>\n",
       "      <td>0.002027</td>\n",
       "    </tr>\n",
       "    <tr>\n",
       "      <th>Degerlendirme Puani</th>\n",
       "      <td>1</td>\n",
       "      <td>0.000015</td>\n",
       "    </tr>\n",
       "    <tr>\n",
       "      <th>Basvuru Yili</th>\n",
       "      <td>0</td>\n",
       "      <td>0.000000</td>\n",
       "    </tr>\n",
       "    <tr>\n",
       "      <th>Burs Aliyor mu?</th>\n",
       "      <td>0</td>\n",
       "      <td>0.000000</td>\n",
       "    </tr>\n",
       "    <tr>\n",
       "      <th>id</th>\n",
       "      <td>0</td>\n",
       "      <td>0.000000</td>\n",
       "    </tr>\n",
       "  </tbody>\n",
       "</table>\n",
       "</div>"
      ],
      "text/plain": [
       "                                                    Kayıp veri miktarı  \\\n",
       "Daha Önceden Mezun Olunduysa, Mezun Olunan Üniv...               64706   \n",
       "Lise Bolum Diger                                                 63599   \n",
       "Lise Adi Diger                                                   60392   \n",
       "Girisimcilikle Ilgili Deneyiminizi Aciklayabili...               50526   \n",
       "Hangi STK'nin Uyesisiniz?                                        49518   \n",
       "Uye Oldugunuz Kulubun Ismi                                       48691   \n",
       "Baska Kurumdan Aldigi Burs Miktari                               44162   \n",
       "Burs Aldigi Baska Kurum                                          43977   \n",
       "Burslu ise Burs Yuzdesi                                          42685   \n",
       "Daha Once Baska Bir Universiteden Mezun Olmus                    37345   \n",
       "Ingilizce Seviyeniz?                                             36533   \n",
       "Anne Sektor                                                      34537   \n",
       "Spor Dalindaki Rolunuz Nedir?                                    32275   \n",
       "Stk Projesine Katildiniz Mi?                                     28308   \n",
       "Baba Sektor                                                      20378   \n",
       "Aktif olarak bir STK üyesi misiniz?                              12842   \n",
       "Girisimcilikle Ilgili Deneyiminiz Var Mi?                        12840   \n",
       "Baba Calisma Durumu                                              12618   \n",
       "Anne Calisma Durumu                                              11896   \n",
       "Ingilizce Biliyor musunuz?                                        6454   \n",
       "Lise Mezuniyet Notu                                               5917   \n",
       "Universite Not Ortalamasi                                         2753   \n",
       "Ikametgah Sehri                                                   2037   \n",
       "Girisimcilik Kulupleri Tarzi Bir Kulube Uye mis...                1829   \n",
       "Kardes Sayisi                                                     1132   \n",
       "Profesyonel Bir Spor Daliyla Mesgul musunuz?                      1115   \n",
       "Lise Sehir                                                        1054   \n",
       "Lise Bolumu                                                       1009   \n",
       "Baba Egitim Durumu                                                1007   \n",
       "Lise Turu                                                          847   \n",
       "Dogum Yeri                                                         791   \n",
       "Anne Egitim Durumu                                                 406   \n",
       "Lise Adi                                                           384   \n",
       "Universite Kacinci Sinif                                           374   \n",
       "Universite Turu                                                    255   \n",
       "Bölüm                                                              231   \n",
       "Baska Bir Kurumdan Burs Aliyor mu?                                 231   \n",
       "Dogum Tarihi                                                       177   \n",
       "Cinsiyet                                                           169   \n",
       "Universite Adi                                                     132   \n",
       "Degerlendirme Puani                                                  1   \n",
       "Basvuru Yili                                                         0   \n",
       "Burs Aliyor mu?                                                      0   \n",
       "id                                                                   0   \n",
       "\n",
       "                                                    % Kayıp veri miktarı  \n",
       "Daha Önceden Mezun Olunduysa, Mezun Olunan Üniv...              0.993566  \n",
       "Lise Bolum Diger                                                0.976568  \n",
       "Lise Adi Diger                                                  0.927324  \n",
       "Girisimcilikle Ilgili Deneyiminizi Aciklayabili...              0.775831  \n",
       "Hangi STK'nin Uyesisiniz?                                       0.760353  \n",
       "Uye Oldugunuz Kulubun Ismi                                      0.747655  \n",
       "Baska Kurumdan Aldigi Burs Miktari                              0.678111  \n",
       "Burs Aldigi Baska Kurum                                         0.675271  \n",
       "Burslu ise Burs Yuzdesi                                         0.655432  \n",
       "Daha Once Baska Bir Universiteden Mezun Olmus                   0.573436  \n",
       "Ingilizce Seviyeniz?                                            0.560967  \n",
       "Anne Sektor                                                     0.530319  \n",
       "Spor Dalindaki Rolunuz Nedir?                                   0.495585  \n",
       "Stk Projesine Katildiniz Mi?                                    0.434672  \n",
       "Baba Sektor                                                     0.312906  \n",
       "Aktif olarak bir STK üyesi misiniz?                             0.197190  \n",
       "Girisimcilikle Ilgili Deneyiminiz Var Mi?                       0.197159  \n",
       "Baba Calisma Durumu                                             0.193750  \n",
       "Anne Calisma Durumu                                             0.182664  \n",
       "Ingilizce Biliyor musunuz?                                      0.099102  \n",
       "Lise Mezuniyet Notu                                             0.090856  \n",
       "Universite Not Ortalamasi                                       0.042273  \n",
       "Ikametgah Sehri                                                 0.031278  \n",
       "Girisimcilik Kulupleri Tarzi Bir Kulube Uye mis...              0.028084  \n",
       "Kardes Sayisi                                                   0.017382  \n",
       "Profesyonel Bir Spor Daliyla Mesgul musunuz?                    0.017121  \n",
       "Lise Sehir                                                      0.016184  \n",
       "Lise Bolumu                                                     0.015493  \n",
       "Baba Egitim Durumu                                              0.015463  \n",
       "Lise Turu                                                       0.013006  \n",
       "Dogum Yeri                                                      0.012146  \n",
       "Anne Egitim Durumu                                              0.006234  \n",
       "Lise Adi                                                        0.005896  \n",
       "Universite Kacinci Sinif                                        0.005743  \n",
       "Universite Turu                                                 0.003916  \n",
       "Bölüm                                                           0.003547  \n",
       "Baska Bir Kurumdan Burs Aliyor mu?                              0.003547  \n",
       "Dogum Tarihi                                                    0.002718  \n",
       "Cinsiyet                                                        0.002595  \n",
       "Universite Adi                                                  0.002027  \n",
       "Degerlendirme Puani                                             0.000015  \n",
       "Basvuru Yili                                                    0.000000  \n",
       "Burs Aliyor mu?                                                 0.000000  \n",
       "id                                                              0.000000  "
      ]
     },
     "execution_count": 4,
     "metadata": {},
     "output_type": "execute_result"
    }
   ],
   "source": [
    "df_nulls = pd.DataFrame(df.isnull().sum().sort_values(ascending=False), columns=['Kayıp veri miktarı'])\n",
    "df_nulls['% Kayıp veri miktarı'] = df.isnull().sum().sort_values(ascending=False)/len(df)\n",
    "df_nulls"
   ]
  },
  {
   "cell_type": "code",
   "execution_count": 5,
   "id": "34e22dab-cf61-482a-a0f7-8ffda0240bb5",
   "metadata": {},
   "outputs": [
    {
     "data": {
      "text/plain": [
       "array(['3.50-3', '3.00-2.50', nan, '2.50 ve altı', '3.00 - 4.00',\n",
       "       '3.50 - 4.00', '3.00 - 3.50', '2.50 -3.00', 'Ortalama bulunmuyor',\n",
       "       'ORTALAMA BULUNMUYOR', '4-3.5', '2.50 - 3.00', '2.00 - 2.50',\n",
       "       '1.00 - 2.50', 'Not ortalaması yok', '4.0-3.5', '3.00 - 3.49',\n",
       "       '2.50 - 2.99', '1.80 - 2.49', 'Hazırlığım', '0 - 1.79'],\n",
       "      dtype=object)"
      ]
     },
     "execution_count": 5,
     "metadata": {},
     "output_type": "execute_result"
    }
   ],
   "source": [
    "df['Universite Not Ortalamasi'].unique()"
   ]
  },
  {
   "cell_type": "markdown",
   "id": "bbda6a1b-8fea-4d8e-b92d-531ce464d6da",
   "metadata": {},
   "source": [
    "> Veri setinde yinelenen değer <mark>bulunmamakta</mark>."
   ]
  },
  {
   "cell_type": "code",
   "execution_count": 6,
   "id": "d4daf182-867a-4042-8c18-9bd1a563ec74",
   "metadata": {},
   "outputs": [
    {
     "data": {
      "text/html": [
       "<div>\n",
       "<style scoped>\n",
       "    .dataframe tbody tr th:only-of-type {\n",
       "        vertical-align: middle;\n",
       "    }\n",
       "\n",
       "    .dataframe tbody tr th {\n",
       "        vertical-align: top;\n",
       "    }\n",
       "\n",
       "    .dataframe thead th {\n",
       "        text-align: right;\n",
       "    }\n",
       "</style>\n",
       "<table border=\"1\" class=\"dataframe\">\n",
       "  <thead>\n",
       "    <tr style=\"text-align: right;\">\n",
       "      <th></th>\n",
       "      <th>Basvuru Yili</th>\n",
       "      <th>Degerlendirme Puani</th>\n",
       "      <th>Cinsiyet</th>\n",
       "      <th>Dogum Tarihi</th>\n",
       "      <th>Dogum Yeri</th>\n",
       "      <th>Ikametgah Sehri</th>\n",
       "      <th>Universite Adi</th>\n",
       "      <th>Universite Turu</th>\n",
       "      <th>Burslu ise Burs Yuzdesi</th>\n",
       "      <th>Burs Aliyor mu?</th>\n",
       "      <th>...</th>\n",
       "      <th>Spor Dalindaki Rolunuz Nedir?</th>\n",
       "      <th>Aktif olarak bir STK üyesi misiniz?</th>\n",
       "      <th>Hangi STK'nin Uyesisiniz?</th>\n",
       "      <th>Stk Projesine Katildiniz Mi?</th>\n",
       "      <th>Girisimcilikle Ilgili Deneyiminiz Var Mi?</th>\n",
       "      <th>Girisimcilikle Ilgili Deneyiminizi Aciklayabilir misiniz?</th>\n",
       "      <th>Ingilizce Biliyor musunuz?</th>\n",
       "      <th>Ingilizce Seviyeniz?</th>\n",
       "      <th>Daha Önceden Mezun Olunduysa, Mezun Olunan Üniversite</th>\n",
       "      <th>id</th>\n",
       "    </tr>\n",
       "  </thead>\n",
       "  <tbody>\n",
       "  </tbody>\n",
       "</table>\n",
       "<p>0 rows × 44 columns</p>\n",
       "</div>"
      ],
      "text/plain": [
       "Empty DataFrame\n",
       "Columns: [Basvuru Yili, Degerlendirme Puani, Cinsiyet, Dogum Tarihi, Dogum Yeri, Ikametgah Sehri, Universite Adi, Universite Turu, Burslu ise Burs Yuzdesi, Burs Aliyor mu?, Bölüm, Universite Kacinci Sinif, Universite Not Ortalamasi, Daha Once Baska Bir Universiteden Mezun Olmus, Lise Adi, Lise Adi Diger, Lise Sehir, Lise Turu, Lise Bolumu, Lise Bolum Diger, Lise Mezuniyet Notu, Baska Bir Kurumdan Burs Aliyor mu?, Burs Aldigi Baska Kurum, Baska Kurumdan Aldigi Burs Miktari, Anne Egitim Durumu, Anne Calisma Durumu, Anne Sektor, Baba Egitim Durumu, Baba Calisma Durumu, Baba Sektor, Kardes Sayisi, Girisimcilik Kulupleri Tarzi Bir Kulube Uye misiniz?, Uye Oldugunuz Kulubun Ismi, Profesyonel Bir Spor Daliyla Mesgul musunuz?, Spor Dalindaki Rolunuz Nedir?, Aktif olarak bir STK üyesi misiniz?, Hangi STK'nin Uyesisiniz?, Stk Projesine Katildiniz Mi?, Girisimcilikle Ilgili Deneyiminiz Var Mi?, Girisimcilikle Ilgili Deneyiminizi Aciklayabilir misiniz?, Ingilizce Biliyor musunuz?, Ingilizce Seviyeniz?, Daha Önceden Mezun Olunduysa, Mezun Olunan Üniversite, id]\n",
       "Index: []\n",
       "\n",
       "[0 rows x 44 columns]"
      ]
     },
     "execution_count": 6,
     "metadata": {},
     "output_type": "execute_result"
    }
   ],
   "source": [
    "df[df.duplicated()] "
   ]
  },
  {
   "cell_type": "markdown",
   "id": "b3a08820-098b-4cc5-a232-12faee64ebd6",
   "metadata": {},
   "source": [
    "> Veri setimiz hem <mark>kategorik</mark> hem de <mark>numerik</mark> değerlerden oluşmaktadır.\n",
    "Numerik değer ve kategorik değerlerin analizi yapılacak."
   ]
  },
  {
   "cell_type": "code",
   "execution_count": 7,
   "id": "a4912703-d70f-472f-916c-3c337e52a78f",
   "metadata": {
    "scrolled": true
   },
   "outputs": [
    {
     "data": {
      "text/plain": [
       "Basvuru Yili                                                   int64\n",
       "Degerlendirme Puani                                          float64\n",
       "Cinsiyet                                                      object\n",
       "Dogum Tarihi                                                  object\n",
       "Dogum Yeri                                                    object\n",
       "Ikametgah Sehri                                               object\n",
       "Universite Adi                                                object\n",
       "Universite Turu                                               object\n",
       "Burslu ise Burs Yuzdesi                                      float64\n",
       "Burs Aliyor mu?                                               object\n",
       "Bölüm                                                         object\n",
       "Universite Kacinci Sinif                                      object\n",
       "Universite Not Ortalamasi                                     object\n",
       "Daha Once Baska Bir Universiteden Mezun Olmus                 object\n",
       "Lise Adi                                                      object\n",
       "Lise Adi Diger                                                object\n",
       "Lise Sehir                                                    object\n",
       "Lise Turu                                                     object\n",
       "Lise Bolumu                                                   object\n",
       "Lise Bolum Diger                                              object\n",
       "Lise Mezuniyet Notu                                           object\n",
       "Baska Bir Kurumdan Burs Aliyor mu?                            object\n",
       "Burs Aldigi Baska Kurum                                       object\n",
       "Baska Kurumdan Aldigi Burs Miktari                            object\n",
       "Anne Egitim Durumu                                            object\n",
       "Anne Calisma Durumu                                           object\n",
       "Anne Sektor                                                   object\n",
       "Baba Egitim Durumu                                            object\n",
       "Baba Calisma Durumu                                           object\n",
       "Baba Sektor                                                   object\n",
       "Kardes Sayisi                                                 object\n",
       "Girisimcilik Kulupleri Tarzi Bir Kulube Uye misiniz?          object\n",
       "Uye Oldugunuz Kulubun Ismi                                    object\n",
       "Profesyonel Bir Spor Daliyla Mesgul musunuz?                  object\n",
       "Spor Dalindaki Rolunuz Nedir?                                 object\n",
       "Aktif olarak bir STK üyesi misiniz?                           object\n",
       "Hangi STK'nin Uyesisiniz?                                     object\n",
       "Stk Projesine Katildiniz Mi?                                  object\n",
       "Girisimcilikle Ilgili Deneyiminiz Var Mi?                     object\n",
       "Girisimcilikle Ilgili Deneyiminizi Aciklayabilir misiniz?     object\n",
       "Ingilizce Biliyor musunuz?                                    object\n",
       "Ingilizce Seviyeniz?                                          object\n",
       "Daha Önceden Mezun Olunduysa, Mezun Olunan Üniversite         object\n",
       "id                                                             int64\n",
       "dtype: object"
      ]
     },
     "execution_count": 7,
     "metadata": {},
     "output_type": "execute_result"
    }
   ],
   "source": [
    "df.dtypes"
   ]
  },
  {
   "cell_type": "code",
   "execution_count": 8,
   "id": "a81b4afc-6dbe-4f57-adfd-4f1f45be20d7",
   "metadata": {},
   "outputs": [],
   "source": [
    "for col in df.columns:\n",
    "    if df[col].dtype == 'object':\n",
    "        df[col] = df[col].str.lower()"
   ]
  },
  {
   "cell_type": "code",
   "execution_count": 9,
   "id": "b8e4eed3-1395-4f15-ab6f-d9358c573637",
   "metadata": {},
   "outputs": [],
   "source": [
    "df =  df.drop(['Daha Önceden Mezun Olunduysa, Mezun Olunan Üniversite'], axis=1)"
   ]
  },
  {
   "cell_type": "code",
   "execution_count": 10,
   "id": "aba6544e-4ebb-4f05-991d-2e7b3c14a4d3",
   "metadata": {},
   "outputs": [],
   "source": [
    "df.loc[df['Uye Oldugunuz Kulubun Ismi'].notnull(), 'Uye Oldugunuz Kulubun Ismi'] = 'evet'\n",
    "df.loc[df['Uye Oldugunuz Kulubun Ismi'].isnull(), 'Uye Oldugunuz Kulubun Ismi'] = 'hayır'"
   ]
  },
  {
   "cell_type": "code",
   "execution_count": 11,
   "id": "b2eeeabc-e272-424c-bbb6-893721ceff2a",
   "metadata": {},
   "outputs": [],
   "source": [
    "df['Burslu ise Burs Yuzdesi'] = df['Burslu ise Burs Yuzdesi'].fillna(np.float64(0))"
   ]
  },
  {
   "cell_type": "code",
   "execution_count": 12,
   "id": "c05b636f-8162-4179-93fa-a0f52532baee",
   "metadata": {},
   "outputs": [],
   "source": [
    "df['Daha Once Baska Bir Universiteden Mezun Olmus'] = df['Daha Once Baska Bir Universiteden Mezun Olmus'].fillna('hayır')"
   ]
  },
  {
   "cell_type": "code",
   "execution_count": 13,
   "id": "b8102dcc-236e-4ba3-81eb-1f21e42daeab",
   "metadata": {},
   "outputs": [],
   "source": [
    "df['Burs Aldigi Baska Kurum'] = df['Burs Aldigi Baska Kurum'].fillna('hayır')\n",
    "df.loc[df['Burs Aldigi Baska Kurum'].notnull(), 'Burs Aldigi Baska Kurum'] = 'evet'\n",
    "df.loc[df['Burs Aldigi Baska Kurum'].isnull(), 'Burs Aldigi Baska Kurum'] = 'hayır'"
   ]
  },
  {
   "cell_type": "code",
   "execution_count": 14,
   "id": "a9127386-c017-493d-802a-5eea7237dcaf",
   "metadata": {},
   "outputs": [],
   "source": [
    "df = df.drop(['Ingilizce Seviyeniz?'], axis=1)"
   ]
  },
  {
   "cell_type": "code",
   "execution_count": 15,
   "id": "5fe0a02b-81d8-4bc3-8408-f1a03ad09748",
   "metadata": {},
   "outputs": [
    {
     "data": {
      "text/plain": [
       "array(['di̇ğer', '-', 'kaptan', 'bireysel', 'takım oyuncusu'],\n",
       "      dtype=object)"
      ]
     },
     "execution_count": 15,
     "metadata": {},
     "output_type": "execute_result"
    }
   ],
   "source": [
    "replace_roles = {\n",
    "    \"kaptan / li̇der\": \"kaptan\",\n",
    "    \"lider/kaptan\": \"kaptan\",\n",
    "    \"diğer\": \"di̇ğer\",\n",
    "    \"0\": '-',\n",
    "}\n",
    "\n",
    "df['Spor Dalindaki Rolunuz Nedir?'] = df['Spor Dalindaki Rolunuz Nedir?'].replace(replace_roles)\n",
    "df['Spor Dalindaki Rolunuz Nedir?'] = df['Spor Dalindaki Rolunuz Nedir?'].fillna('-')\n",
    "df['Spor Dalindaki Rolunuz Nedir?'].unique()"
   ]
  },
  {
   "cell_type": "code",
   "execution_count": 16,
   "id": "19a6b094-230b-4b20-948b-935e6a2d6b54",
   "metadata": {},
   "outputs": [],
   "source": [
    "df['Stk Projesine Katildiniz Mi?'] = df['Stk Projesine Katildiniz Mi?'].fillna('hayır')"
   ]
  },
  {
   "cell_type": "code",
   "execution_count": 17,
   "id": "89370630-b219-4f4b-967e-65a6736b949e",
   "metadata": {},
   "outputs": [],
   "source": [
    "df['Aktif olarak bir STK üyesi misiniz?'] = df['Aktif olarak bir STK üyesi misiniz?'].fillna('hayır')"
   ]
  },
  {
   "cell_type": "code",
   "execution_count": 18,
   "id": "66b12573-1f2e-477b-8d29-6d425a7e1a3e",
   "metadata": {},
   "outputs": [],
   "source": [
    "df['Girisimcilikle Ilgili Deneyiminiz Var Mi?'] = df['Girisimcilikle Ilgili Deneyiminiz Var Mi?'].fillna('hayır')"
   ]
  },
  {
   "cell_type": "code",
   "execution_count": 19,
   "id": "4e60a310-6ba2-49a5-a204-0bdcae91e7a4",
   "metadata": {},
   "outputs": [],
   "source": [
    "# sorulmayan seneleri bul\n",
    "df['Ingilizce Biliyor musunuz?'] = df['Ingilizce Biliyor musunuz?'].fillna('hayır')"
   ]
  },
  {
   "cell_type": "code",
   "execution_count": 20,
   "id": "51d761c3-93bc-4863-8347-5932127e57b6",
   "metadata": {},
   "outputs": [
    {
     "data": {
      "text/plain": [
       "array(['50 - 74', '75 - 100', '25 - 49'], dtype=object)"
      ]
     },
     "execution_count": 20,
     "metadata": {},
     "output_type": "execute_result"
    }
   ],
   "source": [
    "test =  pd.read_csv(\"test_x.csv\")\n",
    "test['Lise Mezuniyet Notu'].unique()"
   ]
  },
  {
   "cell_type": "code",
   "execution_count": 21,
   "id": "98ce197c-85ac-429e-bc5a-331b6b45cfc5",
   "metadata": {},
   "outputs": [
    {
     "data": {
      "text/plain": [
       "array(['3.50-3', '3.00 - 4.00', '3.00-2.50', '2.50 ve altı', '4.00-3.50',\n",
       "       '3.50-3.00', nan, '69-55', '100-85', '84-70', '54-45', '44-0',\n",
       "       '75 - 100', '50 - 75', 'not ortalaması yok', '25 - 50', '0 - 25',\n",
       "       '50 - 74', '25 - 49', '0 - 24'], dtype=object)"
      ]
     },
     "execution_count": 21,
     "metadata": {},
     "output_type": "execute_result"
    }
   ],
   "source": [
    "df['Lise Mezuniyet Notu'].unique()"
   ]
  },
  {
   "cell_type": "code",
   "execution_count": 22,
   "id": "09e61659-2c95-4011-a387-7148d52522de",
   "metadata": {},
   "outputs": [
    {
     "data": {
      "text/plain": [
       "array(['75 - 100', '50 - 74', '0 - 24', '25 - 49'], dtype=object)"
      ]
     },
     "execution_count": 22,
     "metadata": {},
     "output_type": "execute_result"
    }
   ],
   "source": [
    "df['Lise Mezuniyet Notu'] =  df['Lise Mezuniyet Notu'].fillna('not ortalaması yok')\n",
    "\n",
    "lise_notes = {\n",
    "    'not ortalaması yok': '0 - 24',\n",
    "    '2.50 ve altı': '0 - 24',\n",
    "    '0 - 24': '0 - 24',\n",
    "    '0 - 25': '0 - 24',\n",
    "    '44-0': '0 - 24',\n",
    "    '25 - 49': '25 - 49',\n",
    "    '25 - 50': '25 - 49',\n",
    "    '54-45': '25 - 49',\n",
    "    '69-55': '50 - 74',\n",
    "    '3.00-2.50': '50 - 74',\n",
    "    '50 - 74': '50 - 74',\n",
    "    '50 - 75' : '50 - 74',\n",
    "    '3.50-3.00': '50 - 74',\n",
    "    '3.50-3': '75 - 100',\n",
    "    '84-70': '75 - 100',\n",
    "    '75 - 100': '75 - 100',\n",
    "    '100-85': '75 - 100',\n",
    "    '3.00 - 4.00': '75 - 100',\n",
    "    '4.00-3.50': '75 - 100',\n",
    "}\n",
    "\n",
    "df['Lise Mezuniyet Notu'] = df['Lise Mezuniyet Notu'].replace(lise_notes)\n",
    "df['Lise Mezuniyet Notu'].unique()"
   ]
  },
  {
   "cell_type": "code",
   "execution_count": 23,
   "id": "8e9671fd-594e-4af1-ac7d-04eb48d481a3",
   "metadata": {},
   "outputs": [
    {
     "data": {
      "text/plain": [
       "array(['2.50 - 2.99', 'Hazırlığım', '3.00 - 3.49', '1.80 - 2.49',\n",
       "       '3.50 - 4.00', '0 - 1.79'], dtype=object)"
      ]
     },
     "execution_count": 23,
     "metadata": {},
     "output_type": "execute_result"
    }
   ],
   "source": [
    "test['Universite Not Ortalamasi'].unique()"
   ]
  },
  {
   "cell_type": "code",
   "execution_count": 24,
   "id": "5d2330e5-b1fd-4a8b-8689-0cd4803fb7e8",
   "metadata": {},
   "outputs": [
    {
     "data": {
      "text/plain": [
       "array(['3.00 - 3.49', '2.50 - 2.99', '0 - 1.79', '1.80 - 2.49',\n",
       "       '3.00 - 4.00', '3.50 - 4.00', 'hazırlığım'], dtype=object)"
      ]
     },
     "execution_count": 24,
     "metadata": {},
     "output_type": "execute_result"
    }
   ],
   "source": [
    "uni_notes = {\n",
    "    'ortalama bulunmuyor': '0 - 1.79',\n",
    "    'not ortalaması yok': '0 - 1.79',\n",
    "    'hazırlığım': 'hazırlığım',\n",
    "    '1.00 - 2.50': '1.80 - 2.49',\n",
    "    '2.50 ve altı':  '1.80 - 2.49',\n",
    "    '1.80 - 2.49' : '1.80 - 2.49',\n",
    "    '0 - 1.79': '0 - 1.79',\n",
    "    '2.00 - 2.50': '1.80 - 2.49',\n",
    "    '2.50 - 2.99': '2.50 - 2.99',\n",
    "    '2.50 - 3.00': '2.50 - 2.99',\n",
    "    '2.50 -3.00': '2.50 - 2.99',\n",
    "    '3.00-2.50': '2.50 - 2.99',\n",
    "    '3.50-3': '3.00 - 3.49',\n",
    "    '3.00 - 3.50': '3.00 - 3.49',\n",
    "    '3.00 - 3.49': '3.00 - 3.49',\n",
    "    '3.00 - 4.00': '3.00 - 4.00',\n",
    "    '3.50 - 4.00': '3.50 - 4.00',\n",
    "    '4-3.5': '3.50 - 4.00',\n",
    "    '4.0-3.5': '3.50 - 4.00',\n",
    "}\n",
    "\n",
    "df['Universite Not Ortalamasi'] = df['Universite Not Ortalamasi'].fillna('not ortalaması yok')\n",
    "df['Universite Not Ortalamasi'] = df['Universite Not Ortalamasi'].replace(uni_notes)\n",
    "df['Universite Not Ortalamasi'].unique()"
   ]
  },
  {
   "cell_type": "code",
   "execution_count": 25,
   "id": "343d1c47-1d9d-47f9-bac4-c0cc3f4de54e",
   "metadata": {},
   "outputs": [],
   "source": [
    "df = df.dropna(subset=['Universite Turu'])"
   ]
  },
  {
   "cell_type": "code",
   "execution_count": 26,
   "id": "3fb9967f-b7b8-4184-b229-8a699f3974d7",
   "metadata": {},
   "outputs": [],
   "source": [
    "df.loc[df['Universite Adi'].isna() & df['Bölüm'].notnull(), 'Universite Adi'] = 'diğer'\n",
    "df.loc[df['Universite Adi'].isna() & df['Universite Turu'].notnull(), 'Universite Adi'] = 'diğer'"
   ]
  },
  {
   "cell_type": "code",
   "execution_count": 27,
   "id": "4318ead3-3826-4827-ac61-16bc8167438e",
   "metadata": {},
   "outputs": [],
   "source": [
    "df['Girisimcilik Kulupleri Tarzi Bir Kulube Uye misiniz?'] = df['Girisimcilik Kulupleri Tarzi Bir Kulube Uye misiniz?'].fillna('hayır')"
   ]
  },
  {
   "cell_type": "code",
   "execution_count": 28,
   "id": "27d3fc65-7c85-4660-9f35-1081119b7d03",
   "metadata": {},
   "outputs": [],
   "source": [
    "df['Profesyonel Bir Spor Daliyla Mesgul musunuz?'] = df['Profesyonel Bir Spor Daliyla Mesgul musunuz?'].fillna('hayır')"
   ]
  },
  {
   "cell_type": "code",
   "execution_count": 29,
   "id": "12ffd453-4673-4a38-b440-d2f7de2e340b",
   "metadata": {},
   "outputs": [],
   "source": [
    "df['Universite Kacinci Sinif'] = df['Universite Kacinci Sinif'].fillna(0)\n",
    "\n",
    "replace_grade = {\n",
    "    'tez': 'yüksek lisans'\n",
    "}\n",
    "\n",
    "df['Universite Kacinci Sinif'] = df['Universite Kacinci Sinif'].replace(replace_grade)"
   ]
  },
  {
   "cell_type": "code",
   "execution_count": 30,
   "id": "1bac53f2-61fb-4c16-a1fe-ebc2d9b3b0cb",
   "metadata": {
    "scrolled": true
   },
   "outputs": [],
   "source": [
    "df = df.drop(['Bölüm'],axis=1)"
   ]
  },
  {
   "cell_type": "code",
   "execution_count": 31,
   "id": "7299e937-5068-48df-89e3-85ed1edf04d8",
   "metadata": {},
   "outputs": [
    {
     "name": "stdout",
     "output_type": "stream",
     "text": [
      "['anadolu lisesi' 'meslek lisesi' 'fen lisesi' 'özel lise' 'düz lise'\n",
      " 'i̇mam hatip lisesi' nan 'diğer' 'devlet']\n"
     ]
    }
   ],
   "source": [
    "replace_lise_turu = {\n",
    "    \"özel\": \"özel lise\",\n",
    "    \"özel lisesi\": \"özel lise\",\n",
    "    \"meslek\": \"meslek lisesi\",\n",
    "}\n",
    "df['Lise Turu'] = df['Lise Turu'].replace(replace_lise_turu)\n",
    "print(df['Lise Turu'].unique())\n",
    "# boş değerler\n",
    "df.loc[df['Lise Turu'].isnull() & \n",
    "    df['Lise Adi'].str.contains(\"anadolu\", na=False), \"Lise Turu\"] = \"anadolu lisesi\"\n",
    "\n",
    "df.loc[df['Lise Turu'].isnull() & \n",
    "    df['Lise Adi'].str.contains(\"fen\", na=False), \"Lise Turu\"] = \"fen lisesi\"\n",
    "\n",
    "df.loc[df['Lise Turu'].isnull() & \n",
    "    df['Lise Adi'].str.contains(\"açık|acık|acik|acık|açik\", na=False), \"Lise Turu\"] = \"düz lise\"\n",
    "\n",
    "df.loc[df['Lise Turu'].isnull() & \n",
    "    df['Lise Adi'].str.contains(\"imam|ihl|i.h.l|ih\", na=False), \"Lise Turu\"] = \"i̇mam hatip lisesi\"\n",
    "\n",
    "df.loc[df['Lise Turu'].isnull() & \n",
    "    df['Lise Adi'].str.contains(\"meslek|mtal|m.t.a.l|mes|mes.|atml|a.t.m.l|mesleki\", na=False), \"Lise Turu\"] = \"meslek lisesi\"\n",
    "\n",
    "# devlet ve diğer olanların 'Lise Adi'na bak\n",
    "df.loc[((df['Lise Turu']=='devlet') | (df['Lise Turu']=='diğer')) & \n",
    "    df['Lise Adi'].str.contains('anadolu'), 'Lise Turu'] = 'anadolu lisesi'\n",
    "\n",
    "df.loc[((df['Lise Turu']=='devlet') | (df['Lise Turu']=='diğer')) & \n",
    "    df['Lise Adi'].str.contains('fen'), 'Lise Turu'] = 'fen lisesi'\n",
    "\n",
    "df.loc[((df['Lise Turu']=='devlet') | (df['Lise Turu']=='diğer')) & \n",
    "    df['Lise Adi'].str.contains('açık|acık|acik|acık|açik'), 'Lise Turu'] = 'düz lise'\n",
    "\n",
    "df.loc[((df['Lise Turu']=='devlet') | (df['Lise Turu']=='diğer')) & \n",
    "    df['Lise Adi'].str.contains('imam|ihl|i.h.l|ih'), 'Lise Turu'] = 'i̇mam hatip lisesi'\n",
    "\n",
    "df.loc[((df['Lise Turu']=='devlet') | (df['Lise Turu']=='diğer')) & \n",
    "    df['Lise Adi'].str.contains('meslek|mtal|m.t.a.l|mes|mes.|atml|a.t.m.l|mesleki'), 'Lise Turu'] = 'meslek lisesi'\n",
    "\n",
    "df = df.dropna(subset=['Lise Turu'])"
   ]
  },
  {
   "cell_type": "code",
   "execution_count": 32,
   "id": "94059b05-187b-4be2-83a0-8167d5a62ebe",
   "metadata": {},
   "outputs": [
    {
     "data": {
      "text/plain": [
       "np.int64(0)"
      ]
     },
     "execution_count": 32,
     "metadata": {},
     "output_type": "execute_result"
    }
   ],
   "source": [
    "df['Lise Turu'].isna().sum()"
   ]
  },
  {
   "cell_type": "code",
   "execution_count": 33,
   "id": "c7973209-1ad9-4449-8747-81f9d9d6b05c",
   "metadata": {
    "scrolled": true
   },
   "outputs": [],
   "source": [
    "df = df.drop([\"Lise Adi\", \"Lise Adi Diger\"], axis=1)"
   ]
  },
  {
   "cell_type": "markdown",
   "id": "09c14162-99ee-4b78-8005-e37faacaec3e",
   "metadata": {
    "scrolled": true
   },
   "source": [
    "replace_bolum = {\n",
    "    'düz lise bölüm yok': 'alan yok',\n",
    "    'alansız': 'alan yok',\n",
    "    'alan ayrımı yok': 'alan yok',\n",
    "    'alan ayrımı.olmayan lise': 'alan yok',\n",
    "    'bölüm ayrımı olmayanlar': 'alan yok',\n",
    "    'bölüm ayrımı bulunmamaktadır.': 'alan yok',\n",
    "    'alan ayrimi olmayanlar': 'alan yok',\n",
    "    '-': 'alan yok',\n",
    "    'yok': 'alan yok',\n",
    "    'alan bulunmayan özel lise': 'alan yok',\n",
    "    '': 'alan yok',\n",
    "    'alansız': 'alan yok',\n",
    "    'bölüm yok': 'alan yok',\n",
    "    'alan ayrimi olmayanlar': 'alan yok',\n",
    "    '_': 'alan yok',\n",
    "    '.': 'alan yok',\n",
    "    'bölüm yoktu': 'alan yok',\n",
    "    'bolum yok': 'alan yok',\n",
    "    'bölüm ayrımı olmayan': 'alan yok'\n",
    "}\n",
    "\n",
    "df['Lise Bolumu'] = df['Lise Bolumu'].replace(replace_bolum)\n",
    "\n",
    "df.loc[df['Lise Bolumu'].isnull() & df['Lise Bolum Diger'].notnull(), 'Lise Bolumu'] = df['Lise Bolum Diger']\n",
    "\n",
    "df = df.dropna(subset=['Lise Bolumu'])\n",
    "\n",
    "filtered_sayisal = df['Lise Bolumu'].str.contains(\"fen|mf|sayısal|sayisal|fm|m-f\")\n",
    "filtered_ea = df['Lise Bolumu'].str.contains(\"eşit ağırlık|esit agırlık|ea|tm|türkçe-matematik|türkçe matematik|turkce matematik|eşit agırlık|esıt agırlık|türkçe-mat|esi̇t agirlik|eşit agırlık|eşit agırlık|türkçe-mat|turkce-matematik|eşi̇t agirlik|türkçe -matematik|e-a|türkçe ve matematik|eşi̇t ağirlik|eşitağırlık|türkçe- matematik|turkce-matematık|turkce ve matematık|matematik-türkçe|turkce matemati̇k|esitagirlik|türkçe - matematik|t-m|t.m\")\n",
    "filtered_ts = df['Lise Bolumu'].str.contains(\"sözel|sozel|türkçe-sosyal|türkçe sosyal|sosyal bilimler|ts|t/s\")\n",
    "filtered_dil = df['Lise Bolumu'].str.contains(\"dil|ingilizce|yabancı di̇l\")\n",
    "\n",
    "combine = pd.concat([filtered_sayisal, filtered_ea, filtered_ts, filtered_dil])\n",
    "\n",
    "filtered_another = df[~df['Lise Bolumu'].isin(combine)]\n",
    "\n",
    "df.loc[df['Lise Turu'] == 'meslek lisesi', 'Lise Bolumu'] = 'diğer'\n",
    "df.loc[filtered_sayisal, 'Lise Bolumu'] = 'sayısal'\n",
    "df.loc[filtered_ea, 'Lise Bolumu'] = 'eşit ağırlık'\n",
    "df.loc[filtered_ts, 'Lise Bolumu'] = 'sözel'\n",
    "df.loc[filtered_dil, 'Lise Bolumu'] = 'dil'\n",
    "\n",
    "invalid_ids = df.loc[~df['Lise Bolumu'].isin(['diğer', 'sayısal', 'eşit ağırlık', 'sözel', 'dil']), 'id'].tolist()\n",
    "df = df[~df['id'].isin(invalid_ids)]\n",
    "\n",
    "df = df.drop(['Lise Bolum Diger'], axis=1)\n",
    "df['Lise Bolumu'].unique()"
   ]
  },
  {
   "cell_type": "code",
   "execution_count": 34,
   "id": "8f0f3e02-0c61-4290-923e-1fd0c992c984",
   "metadata": {},
   "outputs": [
    {
     "data": {
      "text/plain": [
       "array(['evet', 'hayır'], dtype=object)"
      ]
     },
     "execution_count": 34,
     "metadata": {},
     "output_type": "execute_result"
    }
   ],
   "source": [
    "df['Girisimcilikle Ilgili Deneyiminizi Aciklayabilir misiniz?'] = df['Girisimcilikle Ilgili Deneyiminizi Aciklayabilir misiniz?'].fillna('hayır')\n",
    "\n",
    "filtered = df['Girisimcilikle Ilgili Deneyiminizi Aciklayabilir misiniz?'].str.contains('girişimim yok|yer almak cok isterim|görev almayı çok isterim|deneyimim yok', na=False)\n",
    "\n",
    "df.loc[filtered, 'Girisimcilikle Ilgili Deneyiminizi Aciklayabilir misiniz?'] = 'hayır'\n",
    "\n",
    "df.loc[~filtered, 'Girisimcilikle Ilgili Deneyiminizi Aciklayabilir misiniz?'] = 'evet'\n",
    "\n",
    "df['Girisimcilikle Ilgili Deneyiminizi Aciklayabilir misiniz?'].unique()\n"
   ]
  },
  {
   "cell_type": "code",
   "execution_count": 35,
   "id": "6de33ad5-6eaf-4ee0-858d-0309731508c0",
   "metadata": {},
   "outputs": [
    {
     "data": {
      "text/plain": [
       "(64414, 38)"
      ]
     },
     "execution_count": 35,
     "metadata": {},
     "output_type": "execute_result"
    }
   ],
   "source": [
    "df = df.drop(['Hangi STK\\'nin Uyesisiniz?'], axis=1)\n",
    "df.shape"
   ]
  },
  {
   "cell_type": "code",
   "execution_count": 36,
   "id": "3d796538-d018-40b3-b714-b0ad6660e8b3",
   "metadata": {},
   "outputs": [
    {
     "data": {
      "text/plain": [
       "array(['üniversite', 'yüksek lisans / doktora', 'i̇lkokul', 'eğitimi yok',\n",
       "       'ortaokul', 'lise', 'yüksek lisans', 'doktora'], dtype=object)"
      ]
     },
     "execution_count": 36,
     "metadata": {},
     "output_type": "execute_result"
    }
   ],
   "source": [
    "baba_egitim = {\n",
    "    'üniversite mezunu': 'üniversite',\n",
    "    'üni̇versi̇te': 'üniversite',\n",
    "    'yüksek lisans / doktara': 'yüksek lisans / doktora',\n",
    "    'i̇lkokul mezunu': 'i̇lkokul',\n",
    "    'ortaokul mezunu': 'ortaokul',\n",
    "    'lise mezunu': 'lise',\n",
    "    'li̇se': 'lise',\n",
    "    '0': 'eğitimi yok',\n",
    "    'eği̇ti̇m yok': 'eğitimi yok',\n",
    "    'eğitim yok': 'eğitimi yok',\n",
    "    'yüksek li̇sans': 'yüksek lisans'\n",
    "}\n",
    "\n",
    "df['Baba Egitim Durumu'] = df['Baba Egitim Durumu'].fillna('eğitimi yok')\n",
    "\n",
    "df['Baba Egitim Durumu'] = df['Baba Egitim Durumu'].replace(baba_egitim)\n",
    "\n",
    "df['Baba Egitim Durumu'].unique()"
   ]
  },
  {
   "cell_type": "code",
   "execution_count": 37,
   "id": "1db54aa2-a1e9-40e1-bd01-754d7ab66ad2",
   "metadata": {},
   "outputs": [
    {
     "data": {
      "text/plain": [
       "array(['üniversite', 'i̇lkokul', 'eğitimi yok', 'lise', 'ortaokul',\n",
       "       'yüksek lisans / doktora', 'doktora', 'yüksek lisans'],\n",
       "      dtype=object)"
      ]
     },
     "execution_count": 37,
     "metadata": {},
     "output_type": "execute_result"
    }
   ],
   "source": [
    "df['Anne Egitim Durumu'] = df['Anne Egitim Durumu'].fillna('eğitimi yok')\n",
    "\n",
    "df['Anne Egitim Durumu'] = df['Anne Egitim Durumu'].replace(baba_egitim)\n",
    "\n",
    "df['Anne Egitim Durumu'].unique()\n"
   ]
  },
  {
   "cell_type": "code",
   "execution_count": 38,
   "id": "2e26d26a-acc3-42e4-9c79-ad775358d6cb",
   "metadata": {},
   "outputs": [
    {
     "data": {
      "text/plain": [
       "array(['0', 'kamu', 'özel sektör', 'diğer', nan, 'di̇ğer', '-'],\n",
       "      dtype=object)"
      ]
     },
     "execution_count": 38,
     "metadata": {},
     "output_type": "execute_result"
    }
   ],
   "source": [
    "df['Anne Sektor'].unique()"
   ]
  },
  {
   "cell_type": "code",
   "execution_count": 39,
   "id": "0cd06df1-1c03-4288-b937-a2b2744ec6ab",
   "metadata": {},
   "outputs": [],
   "source": [
    "anne_sektor = {\n",
    "    'diğer': 'di̇ğer',\n",
    "    '0': '-',\n",
    "}\n",
    "df[\"Anne Calisma Durumu\"] = df['Anne Sektor'].apply(lambda x: \"evet\" if x != \"-\" else \"hayır\")\n"
   ]
  },
  {
   "cell_type": "code",
   "execution_count": 40,
   "id": "2b4e31a8-24d9-4c0d-829a-c6045ec3dd63",
   "metadata": {},
   "outputs": [],
   "source": [
    "df.loc[(df[\"Anne Calisma Durumu\"]=='evet') & ((df['Anne Sektor']=='-') | (df['Anne Sektor'].isna()) | (df['Anne Sektor']=='0')), 'Anne Sektor']= 'diğer'\n",
    "df['Anne Sektor'] = df['Anne Sektor'].fillna(\"-\")\n",
    "df['Anne Sektor'] = df['Anne Sektor'].replace(anne_sektor)"
   ]
  },
  {
   "cell_type": "code",
   "execution_count": 41,
   "id": "8fc94b15-fda8-4cdd-b5c2-126e0eb32a70",
   "metadata": {},
   "outputs": [],
   "source": [
    "df[\"Baba Calisma Durumu\"] = df['Baba Sektor'].apply(lambda x: \"evet\" if x != \"-\" else \"hayır\")"
   ]
  },
  {
   "cell_type": "code",
   "execution_count": 42,
   "id": "ff839902-24b6-4c38-bae3-6a049f74a23d",
   "metadata": {},
   "outputs": [],
   "source": [
    "df.loc[(df[\"Baba Calisma Durumu\"]=='evet') & ((df['Baba Sektor']=='-') | (df['Baba Sektor'].isna()) | (df['Baba Sektor']=='0')), 'Baba Sektor']= 'diğer'\n",
    "\n",
    "df['Baba Sektor'] = df['Baba Sektor'].fillna(\"-\")\n",
    "df['Baba Sektor'] = df['Baba Sektor'].replace(anne_sektor)"
   ]
  },
  {
   "cell_type": "code",
   "execution_count": 43,
   "id": "38b8d749-79f0-43ff-9fdc-94ef6b4b615c",
   "metadata": {},
   "outputs": [],
   "source": [
    "df['Cinsiyet'] = df['Cinsiyet'].fillna('belirtmek istemiyorum')"
   ]
  },
  {
   "cell_type": "code",
   "execution_count": 44,
   "id": "268b7f37-f04f-425c-a3a4-6ddbbe315ebd",
   "metadata": {},
   "outputs": [],
   "source": [
    "df = df.dropna(subset=['Degerlendirme Puani'])"
   ]
  },
  {
   "cell_type": "code",
   "execution_count": 45,
   "id": "a2e202da-f1f6-42b2-ad90-95bf8f863418",
   "metadata": {},
   "outputs": [],
   "source": [
    "tr = pd.read_csv(\"il_ilce.csv\")"
   ]
  },
  {
   "cell_type": "code",
   "execution_count": 46,
   "id": "801fe8dc-2bdd-4cb4-a7d8-4260f772a99d",
   "metadata": {},
   "outputs": [
    {
     "data": {
      "text/plain": [
       "array(['adana', 'adıyaman', 'afyonkarahisar', 'aksaray', 'amasya',\n",
       "       'ankara', 'antalya', 'ardahan', 'artvin', 'aydın', 'ağrı',\n",
       "       'balıkesir', 'bartın', 'batman', 'bayburt', 'bilecik', 'bingöl',\n",
       "       'bitlis', 'bolu', 'burdur', 'bursa', 'denizli', 'diyarbakır',\n",
       "       'düzce', 'edirne', 'elazığ', 'erzincan', 'erzurum', 'eskişehir',\n",
       "       'gaziantep', 'giresun', 'gümüşhane', 'hakkâri', 'hatay', 'isparta',\n",
       "       'iğdır', 'kahramanmaraş', 'karabük', 'karaman', 'kars',\n",
       "       'kastamonu', 'kayseri', 'kilis', 'kocaeli', 'konya', 'kütahya',\n",
       "       'kırklareli', 'kırıkkale', 'kırşehir', 'malatya', 'manisa',\n",
       "       'mardin', 'mersin', 'muğla', 'muş', 'nevşehir', 'niğde', 'ordu',\n",
       "       'osmaniye', 'rize', 'sakarya', 'samsun', 'siirt', 'sinop', 'sivas',\n",
       "       'tekirdağ', 'tokat', 'trabzon', 'tunceli', 'uşak', 'van', 'yalova',\n",
       "       'yozgat', 'zonguldak', 'çanakkale', 'çankırı', 'çorum',\n",
       "       'i̇stanbul', 'i̇zmir', 'şanlıurfa', 'şırnak', 'kosova', 'bakü',\n",
       "       'kıbrıs', 'almanya', 'norveç', 'abd', 'ukrayna'], dtype=object)"
      ]
     },
     "execution_count": 46,
     "metadata": {},
     "output_type": "execute_result"
    }
   ],
   "source": [
    "for col in tr.columns:\n",
    "    if tr[col].dtype == 'object':\n",
    "        tr[col] = tr[col].str.lower()\n",
    "tr[\"il\"].unique()"
   ]
  },
  {
   "cell_type": "code",
   "execution_count": 47,
   "id": "9e02b303-16b7-4787-a866-6f22ff8eec3e",
   "metadata": {},
   "outputs": [],
   "source": [
    "tr2 = tr.set_index('ilce')\n",
    "\n",
    "def process_cities(df, data, fill_data, data_map):\n",
    "    \n",
    "    df[data] = df[data].str.replace('ı', 'i', regex=False)\n",
    "    df.loc[df[data].isnull() & df[fill_data].notnull(), data] = df[fill_data]\n",
    "    \n",
    "    df = df.dropna(subset=[data])\n",
    "\n",
    "    df[data] = df[data].apply(\n",
    "        lambda x: unicodedata.normalize('NFKD', x.strip().lower()).encode('ASCII', 'ignore').decode('ASCII')\n",
    "    )\n",
    "\n",
    "    df[data] = df[data].apply(\n",
    "        lambda x: re.split(r'[\\/\\-,~ ]', x)[-1].strip()\n",
    "    )\n",
    "\n",
    "    df[data] =  df[data].replace(data_map)\n",
    "\n",
    "    ids_to_drop = []\n",
    "\n",
    "    for city, id_ in zip(df[data], df[\"id\"]):\n",
    "        if city not in tr[\"il\"]: # verisetinde olmamasının nedini yazım yanlışlığı olabilir\n",
    "            match_city = get_close_matches(city, tr2[\"il\"]) # yazımı kontrol et\n",
    "            if match_city: # match bulundu ise\n",
    "                df.loc[df[\"id\"]==id_, data] = match_city[0] # yazımı düzelt\n",
    "            else: # şehir match'ı bulunmadı \n",
    "                match_district = get_close_matches(city, tr[\"ilce\"]) # tr'deki ilçeleri kontrol et\n",
    "                if match_district: # ilçe varsa\n",
    "                    province = tr.loc[tr['ilce'] == match_district[0], 'il'].values  \n",
    "                    if len(province) > 0: # ilçe verisetinde var ise\n",
    "                        df.loc[df[\"id\"] == id_, data] = province[0]\n",
    "                    else: # ilçe, veri setinde yok ise\n",
    "                        print(\"TR veri setinde yok\", id_, \"   \", city)\n",
    "                else: # ilçe match'ı bulunmadıysa\n",
    "                    ids_to_drop.append(id_)\n",
    "                    print(\"MATCH YOK: \", id_, \"   \", city)\n",
    "            \n",
    "    df = df[~df[\"id\"].isin(ids_to_drop)]\n",
    "    return df\n"
   ]
  },
  {
   "cell_type": "code",
   "execution_count": 48,
   "id": "98bc5f74-f590-4d14-b8d1-103cc9a7fc63",
   "metadata": {
    "scrolled": true
   },
   "outputs": [
    {
     "name": "stderr",
     "output_type": "stream",
     "text": [
      "/tmp/ipykernel_26379/3792083127.py:10: SettingWithCopyWarning: \n",
      "A value is trying to be set on a copy of a slice from a DataFrame.\n",
      "Try using .loc[row_indexer,col_indexer] = value instead\n",
      "\n",
      "See the caveats in the documentation: https://pandas.pydata.org/pandas-docs/stable/user_guide/indexing.html#returning-a-view-versus-a-copy\n",
      "  df[data] = df[data].apply(\n",
      "/tmp/ipykernel_26379/3792083127.py:14: SettingWithCopyWarning: \n",
      "A value is trying to be set on a copy of a slice from a DataFrame.\n",
      "Try using .loc[row_indexer,col_indexer] = value instead\n",
      "\n",
      "See the caveats in the documentation: https://pandas.pydata.org/pandas-docs/stable/user_guide/indexing.html#returning-a-view-versus-a-copy\n",
      "  df[data] = df[data].apply(\n",
      "/tmp/ipykernel_26379/3792083127.py:18: SettingWithCopyWarning: \n",
      "A value is trying to be set on a copy of a slice from a DataFrame.\n",
      "Try using .loc[row_indexer,col_indexer] = value instead\n",
      "\n",
      "See the caveats in the documentation: https://pandas.pydata.org/pandas-docs/stable/user_guide/indexing.html#returning-a-view-versus-a-copy\n",
      "  df[data] =  df[data].replace(data_map)\n"
     ]
    },
    {
     "name": "stdout",
     "output_type": "stream",
     "text": [
      "MATCH YOK:  692     \n",
      "MATCH YOK:  850     \n",
      "MATCH YOK:  1008     \n",
      "MATCH YOK:  5135     \n",
      "MATCH YOK:  6516     \n",
      "MATCH YOK:  6517     \n",
      "MATCH YOK:  6767     \n",
      "MATCH YOK:  9550     \n",
      "MATCH YOK:  10816     gothamcity\n",
      "MATCH YOK:  11344     gdr\n",
      "MATCH YOK:  13255     gothamcity\n",
      "MATCH YOK:  13919     openairequestfailedtimeout\n",
      "MATCH YOK:  14025     gothamcity\n",
      "MATCH YOK:  14238     gothamcity\n",
      "MATCH YOK:  14378     openairequestfailedtimeout\n",
      "MATCH YOK:  14983     gdr\n",
      "MATCH YOK:  15698     \n",
      "MATCH YOK:  15699     \n",
      "MATCH YOK:  15992     \n",
      "MATCH YOK:  16049     \n",
      "MATCH YOK:  16425     \n",
      "MATCH YOK:  16598     \n",
      "MATCH YOK:  17014     \n",
      "MATCH YOK:  17167     \n",
      "MATCH YOK:  17212     \n",
      "MATCH YOK:  17535     \n",
      "MATCH YOK:  18034     \n",
      "MATCH YOK:  18210     \n",
      "MATCH YOK:  18291     \n",
      "MATCH YOK:  18608     \n",
      "MATCH YOK:  18820     \n",
      "MATCH YOK:  18904     \n",
      "MATCH YOK:  19182     \n",
      "MATCH YOK:  19306     \n",
      "MATCH YOK:  19390     \n",
      "MATCH YOK:  19534     \n",
      "MATCH YOK:  19582     \n",
      "MATCH YOK:  19769     \n",
      "MATCH YOK:  19981     \n",
      "MATCH YOK:  20338     \n",
      "MATCH YOK:  20526     \n",
      "MATCH YOK:  20669     \n",
      "MATCH YOK:  20900     \n",
      "MATCH YOK:  20903     \n",
      "MATCH YOK:  20960     \n",
      "MATCH YOK:  21147     \n",
      "MATCH YOK:  22295     \n"
     ]
    }
   ],
   "source": [
    "replace_ikametgah = {\n",
    "    \"ş.urfa\": \"şanlıurfa\",\n",
    "    \"k.maraş\": \"kahramanmaraş\"\n",
    "}\n",
    "\n",
    "df = process_cities(df, 'Ikametgah Sehri', 'Lise Sehir', replace_ikametgah)"
   ]
  },
  {
   "cell_type": "code",
   "execution_count": 49,
   "id": "ae72aa23-4703-4ee0-860e-5fb0590a8786",
   "metadata": {
    "scrolled": true
   },
   "outputs": [
    {
     "name": "stdout",
     "output_type": "stream",
     "text": [
      "MATCH YOK:  833     \n",
      "MATCH YOK:  6568     \n",
      "MATCH YOK:  10431     shkoder\n",
      "MATCH YOK:  10667     asdasd\n"
     ]
    },
    {
     "ename": "KeyboardInterrupt",
     "evalue": "",
     "output_type": "error",
     "traceback": [
      "\u001b[0;31m---------------------------------------------------------------------------\u001b[0m",
      "\u001b[0;31mKeyboardInterrupt\u001b[0m                         Traceback (most recent call last)",
      "Cell \u001b[0;32mIn[49], line 8\u001b[0m\n\u001b[1;32m      1\u001b[0m replace_lise_sehir \u001b[38;5;241m=\u001b[39m {\n\u001b[1;32m      2\u001b[0m     \u001b[38;5;124m\"\u001b[39m\u001b[38;5;124mist.\u001b[39m\u001b[38;5;124m\"\u001b[39m : \u001b[38;5;124m\"\u001b[39m\u001b[38;5;124mistanbul\u001b[39m\u001b[38;5;124m\"\u001b[39m,\n\u001b[1;32m      3\u001b[0m     \u001b[38;5;124m\"\u001b[39m\u001b[38;5;124mistanbulkucukcekmece\u001b[39m\u001b[38;5;124m\"\u001b[39m: \u001b[38;5;124m\"\u001b[39m\u001b[38;5;124mistanbul\u001b[39m\u001b[38;5;124m\"\u001b[39m,\n\u001b[1;32m      4\u001b[0m     \u001b[38;5;124m\"\u001b[39m\u001b[38;5;124mş.urfa\u001b[39m\u001b[38;5;124m\"\u001b[39m: \u001b[38;5;124m\"\u001b[39m\u001b[38;5;124mşanlıurfa\u001b[39m\u001b[38;5;124m\"\u001b[39m,\n\u001b[1;32m      5\u001b[0m     \u001b[38;5;124m\"\u001b[39m\u001b[38;5;124mk.maraş\u001b[39m\u001b[38;5;124m\"\u001b[39m: \u001b[38;5;124m\"\u001b[39m\u001b[38;5;124mkahramanmaraş\u001b[39m\u001b[38;5;124m\"\u001b[39m\n\u001b[1;32m      6\u001b[0m }\n\u001b[0;32m----> 8\u001b[0m df \u001b[38;5;241m=\u001b[39m \u001b[43mprocess_cities\u001b[49m\u001b[43m(\u001b[49m\u001b[43mdf\u001b[49m\u001b[43m,\u001b[49m\u001b[43m \u001b[49m\u001b[38;5;124;43m'\u001b[39;49m\u001b[38;5;124;43mLise Sehir\u001b[39;49m\u001b[38;5;124;43m'\u001b[39;49m\u001b[43m,\u001b[49m\u001b[43m \u001b[49m\u001b[38;5;124;43m'\u001b[39;49m\u001b[38;5;124;43mIkametgah Sehri\u001b[39;49m\u001b[38;5;124;43m'\u001b[39;49m\u001b[43m,\u001b[49m\u001b[43m \u001b[49m\u001b[43mreplace_lise_sehir\u001b[49m\u001b[43m)\u001b[49m\n\u001b[1;32m      9\u001b[0m df \u001b[38;5;241m=\u001b[39m df[\u001b[38;5;241m~\u001b[39mdf[\u001b[38;5;124m'\u001b[39m\u001b[38;5;124mLise Sehir\u001b[39m\u001b[38;5;124m'\u001b[39m]\u001b[38;5;241m.\u001b[39misin([\u001b[38;5;124m'\u001b[39m\u001b[38;5;124m'\u001b[39m, \u001b[38;5;124m'\u001b[39m\u001b[38;5;124mshkoder\u001b[39m\u001b[38;5;124m'\u001b[39m, \u001b[38;5;124m'\u001b[39m\u001b[38;5;124masdasd\u001b[39m\u001b[38;5;124m'\u001b[39m])]\n",
      "Cell \u001b[0;32mIn[47], line 24\u001b[0m, in \u001b[0;36mprocess_cities\u001b[0;34m(df, data, fill_data, data_map)\u001b[0m\n\u001b[1;32m     22\u001b[0m \u001b[38;5;28;01mfor\u001b[39;00m city, id_ \u001b[38;5;129;01min\u001b[39;00m \u001b[38;5;28mzip\u001b[39m(df[data], df[\u001b[38;5;124m\"\u001b[39m\u001b[38;5;124mid\u001b[39m\u001b[38;5;124m\"\u001b[39m]):\n\u001b[1;32m     23\u001b[0m     \u001b[38;5;28;01mif\u001b[39;00m city \u001b[38;5;129;01mnot\u001b[39;00m \u001b[38;5;129;01min\u001b[39;00m tr[\u001b[38;5;124m\"\u001b[39m\u001b[38;5;124mil\u001b[39m\u001b[38;5;124m\"\u001b[39m]: \u001b[38;5;66;03m# verisetinde olmamasının nedini yazım yanlışlığı olabilir\u001b[39;00m\n\u001b[0;32m---> 24\u001b[0m         match_city \u001b[38;5;241m=\u001b[39m \u001b[43mget_close_matches\u001b[49m\u001b[43m(\u001b[49m\u001b[43mcity\u001b[49m\u001b[43m,\u001b[49m\u001b[43m \u001b[49m\u001b[43mtr2\u001b[49m\u001b[43m[\u001b[49m\u001b[38;5;124;43m\"\u001b[39;49m\u001b[38;5;124;43mil\u001b[39;49m\u001b[38;5;124;43m\"\u001b[39;49m\u001b[43m]\u001b[49m\u001b[43m)\u001b[49m \u001b[38;5;66;03m# yazımı kontrol et\u001b[39;00m\n\u001b[1;32m     25\u001b[0m         \u001b[38;5;28;01mif\u001b[39;00m match_city: \u001b[38;5;66;03m# match bulundu ise\u001b[39;00m\n\u001b[1;32m     26\u001b[0m             df\u001b[38;5;241m.\u001b[39mloc[df[\u001b[38;5;124m\"\u001b[39m\u001b[38;5;124mid\u001b[39m\u001b[38;5;124m\"\u001b[39m]\u001b[38;5;241m==\u001b[39mid_, data] \u001b[38;5;241m=\u001b[39m match_city[\u001b[38;5;241m0\u001b[39m] \u001b[38;5;66;03m# yazımı düzelt\u001b[39;00m\n",
      "File \u001b[0;32m/usr/lib/python3.12/difflib.py:705\u001b[0m, in \u001b[0;36mget_close_matches\u001b[0;34m(word, possibilities, n, cutoff)\u001b[0m\n\u001b[1;32m    702\u001b[0m \u001b[38;5;28;01mfor\u001b[39;00m x \u001b[38;5;129;01min\u001b[39;00m possibilities:\n\u001b[1;32m    703\u001b[0m     s\u001b[38;5;241m.\u001b[39mset_seq1(x)\n\u001b[1;32m    704\u001b[0m     \u001b[38;5;28;01mif\u001b[39;00m s\u001b[38;5;241m.\u001b[39mreal_quick_ratio() \u001b[38;5;241m>\u001b[39m\u001b[38;5;241m=\u001b[39m cutoff \u001b[38;5;129;01mand\u001b[39;00m \\\n\u001b[0;32m--> 705\u001b[0m        \u001b[43ms\u001b[49m\u001b[38;5;241;43m.\u001b[39;49m\u001b[43mquick_ratio\u001b[49m\u001b[43m(\u001b[49m\u001b[43m)\u001b[49m \u001b[38;5;241m>\u001b[39m\u001b[38;5;241m=\u001b[39m cutoff \u001b[38;5;129;01mand\u001b[39;00m \\\n\u001b[1;32m    706\u001b[0m        s\u001b[38;5;241m.\u001b[39mratio() \u001b[38;5;241m>\u001b[39m\u001b[38;5;241m=\u001b[39m cutoff:\n\u001b[1;32m    707\u001b[0m         result\u001b[38;5;241m.\u001b[39mappend((s\u001b[38;5;241m.\u001b[39mratio(), x))\n\u001b[1;32m    709\u001b[0m \u001b[38;5;66;03m# Move the best scorers to head of list\u001b[39;00m\n",
      "File \u001b[0;32m/usr/lib/python3.12/difflib.py:642\u001b[0m, in \u001b[0;36mSequenceMatcher.quick_ratio\u001b[0;34m(self)\u001b[0m\n\u001b[1;32m    640\u001b[0m availhas, matches \u001b[38;5;241m=\u001b[39m avail\u001b[38;5;241m.\u001b[39m\u001b[38;5;21m__contains__\u001b[39m, \u001b[38;5;241m0\u001b[39m\n\u001b[1;32m    641\u001b[0m \u001b[38;5;28;01mfor\u001b[39;00m elt \u001b[38;5;129;01min\u001b[39;00m \u001b[38;5;28mself\u001b[39m\u001b[38;5;241m.\u001b[39ma:\n\u001b[0;32m--> 642\u001b[0m     \u001b[38;5;28;01mif\u001b[39;00m \u001b[43mavailhas\u001b[49m\u001b[43m(\u001b[49m\u001b[43melt\u001b[49m\u001b[43m)\u001b[49m:\n\u001b[1;32m    643\u001b[0m         numb \u001b[38;5;241m=\u001b[39m avail[elt]\n\u001b[1;32m    644\u001b[0m     \u001b[38;5;28;01melse\u001b[39;00m:\n",
      "\u001b[0;31mKeyboardInterrupt\u001b[0m: "
     ]
    }
   ],
   "source": [
    "replace_lise_sehir = {\n",
    "    \"ist.\" : \"istanbul\",\n",
    "    \"istanbulkucukcekmece\": \"istanbul\",\n",
    "    \"ş.urfa\": \"şanlıurfa\",\n",
    "    \"k.maraş\": \"kahramanmaraş\"\n",
    "}\n",
    "\n",
    "df = process_cities(df, 'Lise Sehir', 'Ikametgah Sehri', replace_lise_sehir)\n",
    "df = df[~df['Lise Sehir'].isin(['', 'shkoder', 'asdasd'])]"
   ]
  },
  {
   "cell_type": "code",
   "execution_count": null,
   "id": "4159bc1c-3e47-4d7b-96e9-8c3a95c86ede",
   "metadata": {
    "scrolled": true
   },
   "outputs": [],
   "source": [
    "replace_dy = {\n",
    "    \"ş.urfa\": \"şanlıurfa\",\n",
    "    \"k.maras\": \"kahramanmaraş\",\n",
    "    \"k.maraş\": \"kahramanmaraş\",\n",
    "    \"ist.\" : \"istanbul\",\n",
    "    \"eyup\": \"eyüpsultan\",\n",
    "    \"gumushacikoy\": \"gümüşhacıköy\",\n",
    "    \"cicekdagi\": \"çiçekdağı\",\n",
    "    \"sevastopol\": \"sivastopol\",\n",
    "    \"yigilca\": \"yığılca\"\n",
    "}\n",
    "\n",
    "df = process_cities(df, 'Dogum Yeri', 'Ikametgah Sehri', replace_dy)"
   ]
  },
  {
   "cell_type": "code",
   "execution_count": null,
   "id": "d7803a38-3e24-4390-97d5-4b00d596164d",
   "metadata": {},
   "outputs": [],
   "source": [
    "replace_sentence = {\n",
    "    'kardeş sayısı 1 ek bilgi aile hk. anne vefat': 1\n",
    "}\n",
    "\n",
    "df[\"Kardes Sayisi\"] = df[\"Kardes Sayisi\"].replace(replace_sentence)\n",
    "\n",
    "df['Kardes Sayisi'] = pd.to_numeric(df['Kardes Sayisi'])\n",
    "\n",
    "df[\"Kardes Sayisi\"] = df[\"Kardes Sayisi\"].fillna(0)\n",
    "\n",
    "df[\"Kardes Sayisi\"] = df[\"Kardes Sayisi\"].astype(int)\n",
    "\n",
    "df[\"Kardes Sayisi\"].unique()"
   ]
  },
  {
   "cell_type": "code",
   "execution_count": null,
   "id": "9c44b1b5-d3bc-40fe-ab70-607c83abbe6d",
   "metadata": {},
   "outputs": [],
   "source": [
    "df['Basvuru Yili'] = pd.to_datetime(df['Basvuru Yili'], format='%Y')"
   ]
  },
  {
   "cell_type": "code",
   "execution_count": null,
   "id": "39bcbeb8-b9a2-4ddd-8cb6-5412df8e8b9c",
   "metadata": {
    "scrolled": true
   },
   "outputs": [],
   "source": [
    "df['Dogum Tarihi']= df['Dogum Tarihi'].replace(to_replace='\\\\.', value=\"/\", regex=True)"
   ]
  },
  {
   "cell_type": "code",
   "execution_count": null,
   "id": "db2d34f0-cc00-436b-b5d3-d95a15000847",
   "metadata": {
    "scrolled": true
   },
   "outputs": [],
   "source": [
    "df['Dogum Tarihi']= df['Dogum Tarihi'].replace(to_replace='ocak', value='/01/', regex=True)\n",
    "df['Dogum Tarihi']= df['Dogum Tarihi'].replace(to_replace='subat', value='/02/', regex=True)\n",
    "df['Dogum Tarihi']= df['Dogum Tarihi'].replace(to_replace='mart', value='/03/', regex=True)\n",
    "df['Dogum Tarihi']= df['Dogum Tarihi'].replace(to_replace='nisan', value='/04/', regex=True)\n",
    "df['Dogum Tarihi']= df['Dogum Tarihi'].replace(to_replace='mayis', value='/05/', regex=True)\n",
    "df['Dogum Tarihi']= df['Dogum Tarihi'].replace(to_replace='haziran', value='/06/', regex=True)\n",
    "df['Dogum Tarihi']= df['Dogum Tarihi'].replace(to_replace='temmuz', value='/07/', regex=True)\n",
    "df['Dogum Tarihi']= df['Dogum Tarihi'].replace(to_replace='ağustos', value='/08/', regex=True)\n",
    "df['Dogum Tarihi']= df['Dogum Tarihi'].replace(to_replace='eylül', value='/09/', regex=True)\n",
    "df['Dogum Tarihi']= df['Dogum Tarihi'].replace(to_replace='ekim', value='/10/', regex=True)\n",
    "df['Dogum Tarihi']= df['Dogum Tarihi'].replace(to_replace='kasim', value='/11/', regex=True)\n",
    "df['Dogum Tarihi']= df['Dogum Tarihi'].replace(to_replace='aralik', value='/12/', regex=True)"
   ]
  },
  {
   "cell_type": "code",
   "execution_count": null,
   "id": "a08c9be2-5512-44ea-ad3b-d3e82ad782b6",
   "metadata": {
    "scrolled": true
   },
   "outputs": [],
   "source": [
    "df['Dogum Tarihi']= df['Dogum Tarihi'].replace(to_replace='\\\\_', value=\"\", regex=True)"
   ]
  },
  {
   "cell_type": "code",
   "execution_count": null,
   "id": "6c0dc85f-9ba0-40a5-928e-8fc9ab4c6179",
   "metadata": {
    "scrolled": true
   },
   "outputs": [],
   "source": [
    "df['Dogum Tarihi'] = pd.to_datetime(df['Dogum Tarihi'], format='mixed', errors='coerce')"
   ]
  },
  {
   "cell_type": "code",
   "execution_count": null,
   "id": "1926b18f-7c8a-42ae-b009-a3eef722e751",
   "metadata": {},
   "outputs": [],
   "source": [
    "df.loc[df['Dogum Tarihi'].isnull() == True].shape"
   ]
  },
  {
   "cell_type": "code",
   "execution_count": null,
   "id": "298dc873-454d-4fc8-872d-bd7f83216f3a",
   "metadata": {},
   "outputs": [],
   "source": [
    "df.dropna(subset='Dogum Tarihi', inplace=True)"
   ]
  },
  {
   "cell_type": "code",
   "execution_count": null,
   "id": "a7021ee0-e016-4bd3-aa10-85f1d84de1e9",
   "metadata": {},
   "outputs": [],
   "source": [
    "df['yas']=df['Basvuru Yili'].dt.year - df['Dogum Tarihi'].dt.year\n",
    "df[\"yas\"] = df[\"yas\"].astype(int)"
   ]
  },
  {
   "cell_type": "code",
   "execution_count": null,
   "id": "3e5c3c9f-811a-44bb-97ce-f8794244844b",
   "metadata": {},
   "outputs": [],
   "source": [
    "df['Baska Kurumdan Aldigi Burs Miktari']"
   ]
  },
  {
   "cell_type": "code",
   "execution_count": null,
   "id": "005b772b-a7e6-4d88-b30a-717ad389fa27",
   "metadata": {},
   "outputs": [],
   "source": [
    "df[\"Baska Kurumdan Aldigi Burs Miktari\"].fillna(\"-\")"
   ]
  },
  {
   "cell_type": "code",
   "execution_count": null,
   "id": "4c6f5ae9-2b3b-4f26-a939-da7cbda32514",
   "metadata": {},
   "outputs": [],
   "source": [
    "df=df.drop(df.loc[~((df['Baska Kurumdan Aldigi Burs Miktari'] == '1000₺ ve üstü')\n",
    "                              | (df['Baska Kurumdan Aldigi Burs Miktari'] ==  '500₺ - 999₺')\n",
    "                              | (df['Baska Kurumdan Aldigi Burs Miktari'] ==  '500 ve üzeri')\n",
    "                              | (df['Baska Kurumdan Aldigi Burs Miktari'] == '0 - 499₺')\n",
    "                              | (df['Baska Kurumdan Aldigi Burs Miktari'] == '-')\n",
    "                ) & (\n",
    "                    (df[\"Baska Kurumdan Aldigi Burs Miktari\"].str.contains('%', na=False, case=False)) \n",
    "                    | (df[\"Baska Kurumdan Aldigi Burs Miktari\"].str.contains('yüzde', na=False, case=False))\n",
    "                    | (df[\"Baska Kurumdan Aldigi Burs Miktari\"].str.contains('kyk', na=False, case=False))\n",
    "                    | (df[\"Baska Kurumdan Aldigi Burs Miktari\"].str.contains('her sene', na=False, case=False))\n",
    "                    | (df[\"Baska Kurumdan Aldigi Burs Miktari\"].str.contains('\\\\+', na=False, case=False))\n",
    "                    | (df[\"Baska Kurumdan Aldigi Burs Miktari\"].str.contains('artı', na=False, case=False))\n",
    "                    | (df[\"Baska Kurumdan Aldigi Burs Miktari\"].str.contains('arti', na=False, case=False))\n",
    "                    | (df[\"Baska Kurumdan Aldigi Burs Miktari\"].str.contains('ve', na=False, case=False))\n",
    "                    | (df[\"Baska Kurumdan Aldigi Burs Miktari\"].str.contains(',', na=False, case=False))\n",
    "                    | (df[\"Baska Kurumdan Aldigi Burs Miktari\"].str.contains('x', na=False, case=False))\n",
    "                )].index)\n"
   ]
  },
  {
   "cell_type": "code",
   "execution_count": null,
   "id": "768e64c1-e841-4364-8fe5-a01ba112afc0",
   "metadata": {},
   "outputs": [],
   "source": [
    "df.loc[\n",
    "                        ~((df['Baska Kurumdan Aldigi Burs Miktari'] == '1000₺ ve üstü')\n",
    "                              | (df['Baska Kurumdan Aldigi Burs Miktari'] ==  '500₺ - 999₺')\n",
    "                              | (df['Baska Kurumdan Aldigi Burs Miktari'] == '0 - 499₺')\n",
    "                              | (df['Baska Kurumdan Aldigi Burs Miktari'] == '-')\n",
    "                                ), 'Baska Kurumdan Aldigi Burs Miktari'] = df.loc[\n",
    "                        ~((df['Baska Kurumdan Aldigi Burs Miktari'] == '1000₺ ve üstü')\n",
    "                              | (df['Baska Kurumdan Aldigi Burs Miktari'] ==  '500₺ - 999₺')\n",
    "                              | (df['Baska Kurumdan Aldigi Burs Miktari'] == '0 - 499₺')\n",
    "                              | (df['Baska Kurumdan Aldigi Burs Miktari'] == '-')\n",
    "                                ), 'Baska Kurumdan Aldigi Burs Miktari'].str.findall('\\d+').fillna(\"-\")"
   ]
  },
  {
   "cell_type": "code",
   "execution_count": null,
   "id": "fed482ef-98f3-4284-97c2-6acbbbaa3716",
   "metadata": {},
   "outputs": [],
   "source": [
    "df.drop(df.loc[\n",
    "                        ~((df['Baska Kurumdan Aldigi Burs Miktari'] == '1000₺ ve üstü')\n",
    "                              | (df['Baska Kurumdan Aldigi Burs Miktari'] ==  '500₺ - 999₺')\n",
    "                              | (df['Baska Kurumdan Aldigi Burs Miktari'] == '0 - 499₺')\n",
    "                              | (df['Baska Kurumdan Aldigi Burs Miktari'] == '-'))\n",
    "                              & (df['Baska Kurumdan Aldigi Burs Miktari'].str.len() == 0)\n",
    "                                , 'Baska Kurumdan Aldigi Burs Miktari'].index, inplace=True)"
   ]
  },
  {
   "cell_type": "code",
   "execution_count": null,
   "id": "73da5b90-c45a-4961-8dae-172e14aefa88",
   "metadata": {},
   "outputs": [],
   "source": [
    "#df.loc[df.id == 57067, 'Baska Kurumdan Aldigi Burs Miktari']"
   ]
  },
  {
   "cell_type": "code",
   "execution_count": null,
   "id": "dc9d9527-67b5-4d14-8e5d-6667be75a7f9",
   "metadata": {
    "scrolled": true
   },
   "outputs": [],
   "source": [
    "df.loc[\n",
    "                        ~((df['Baska Kurumdan Aldigi Burs Miktari'] == '1000₺ ve üstü')\n",
    "                              | (df['Baska Kurumdan Aldigi Burs Miktari'] ==  '500₺ - 999₺')\n",
    "                              | (df['Baska Kurumdan Aldigi Burs Miktari'] == '0 - 499₺')\n",
    "                              | (df['Baska Kurumdan Aldigi Burs Miktari'] == '-')\n",
    "                                ), 'Baska Kurumdan Aldigi Burs Miktari'] = df.loc[\n",
    "                        ~((df['Baska Kurumdan Aldigi Burs Miktari'] == '1000₺ ve üstü')\n",
    "                              | (df['Baska Kurumdan Aldigi Burs Miktari'] ==  '500₺ - 999₺')\n",
    "                              | (df['Baska Kurumdan Aldigi Burs Miktari'] == '0 - 499₺')\n",
    "                              | (df['Baska Kurumdan Aldigi Burs Miktari'] == '-')\n",
    "                                ), 'Baska Kurumdan Aldigi Burs Miktari'].apply(lambda x: '-' if x == '0' else max(x))"
   ]
  },
  {
   "cell_type": "code",
   "execution_count": null,
   "id": "1cd52a17-1aa0-435b-8f04-5ae8669857d4",
   "metadata": {},
   "outputs": [],
   "source": [
    "df.drop(df.loc[\n",
    "                        ~((df['Baska Kurumdan Aldigi Burs Miktari'] == '1000₺ ve üstü')\n",
    "                              | (df['Baska Kurumdan Aldigi Burs Miktari'] ==  '500₺ - 999₺')\n",
    "                              | (df['Baska Kurumdan Aldigi Burs Miktari'] == '0 - 499₺')\n",
    "                              | (df['Baska Kurumdan Aldigi Burs Miktari'] == '-'))\n",
    "                              & (df['Baska Kurumdan Aldigi Burs Miktari'].str.len() == 0)\n",
    "                                , 'Baska Kurumdan Aldigi Burs Miktari'].index, inplace=True)"
   ]
  },
  {
   "cell_type": "code",
   "execution_count": null,
   "id": "efe53068-b939-420d-ba05-b2e3485c0863",
   "metadata": {},
   "outputs": [],
   "source": [
    "#TÜFE değrlerine göre 2023 baz alınarak tahmini enflasyon\n",
    "tufe=pd.DataFrame(\n",
    "    {\n",
    "        'yil': [2014,2015,2016,2017,2018,2019,2020,2021,2022],\n",
    "        'tufe': [5.17,4.81,4.49,4.02,3.46,3.02,2.70,2.34,1.58]\n",
    "    }\n",
    ")\n",
    "\n",
    "tufe['yil'] = pd.to_datetime(tufe['yil'], format='%Y')\n",
    "tufe"
   ]
  },
  {
   "cell_type": "code",
   "execution_count": null,
   "id": "373b0740-8d6b-497a-bcdb-852fce0a7d45",
   "metadata": {},
   "outputs": [],
   "source": [
    "for a in tufe.index:\n",
    "    df.loc[\n",
    "                        ~((df['Baska Kurumdan Aldigi Burs Miktari'] == '1000₺ ve üstü')\n",
    "                              | (df['Baska Kurumdan Aldigi Burs Miktari'] ==  '500₺ - 999₺')\n",
    "                              | (df['Baska Kurumdan Aldigi Burs Miktari'] == '0 - 499₺')\n",
    "                              | (df['Baska Kurumdan Aldigi Burs Miktari'] == '-'))\n",
    "                              & (df['Basvuru Yili'].dt.year == tufe.iloc[a].yil.year)\n",
    "                                 , 'Baska Kurumdan Aldigi Burs Miktari'] = df.loc[\n",
    "                        ~((df['Baska Kurumdan Aldigi Burs Miktari'] == '1000₺ ve üstü')\n",
    "                              | (df['Baska Kurumdan Aldigi Burs Miktari'] ==  '500₺ - 999₺')\n",
    "                              | (df['Baska Kurumdan Aldigi Burs Miktari'] == '0 - 499₺')\n",
    "                              | (df['Baska Kurumdan Aldigi Burs Miktari'] == '-'))\n",
    "                              & (df['Basvuru Yili'].dt.year == tufe.iloc[a].yil.year)\n",
    "                                 , 'Baska Kurumdan Aldigi Burs Miktari'].apply(lambda x: tufe.iloc[a].tufe* int(x)).apply(lambda x: '-' if int(x) <= 50 else (\n",
    "                                                                               '0 - 499₺' if (int(x) > 10) & (int(x) <= 500) else (\n",
    "                                                                                   '500₺ - 999₺' if (int(x) > 500) & (int(x) < 1000) else '1000₺ ve üstü')\n",
    "                                                                               ))"
   ]
  },
  {
   "cell_type": "code",
   "execution_count": null,
   "id": "2c2b1b76-390f-4726-87c9-d11a0bfc83c8",
   "metadata": {},
   "outputs": [],
   "source": [
    "df['Baska Kurumdan Aldigi Burs Miktari'].unique()"
   ]
  },
  {
   "cell_type": "code",
   "execution_count": null,
   "id": "ccbe93e9-f67a-4f8c-a27a-6b0ae48b7748",
   "metadata": {},
   "outputs": [],
   "source": [
    "df.isnull().sum()"
   ]
  },
  {
   "cell_type": "code",
   "execution_count": null,
   "id": "cfebdced-b00f-4126-8a81-1a696beb1cb4",
   "metadata": {},
   "outputs": [],
   "source": [
    "df['Baska Bir Kurumdan Burs Aliyor mu?'] = df['Baska Bir Kurumdan Burs Aliyor mu?'].fillna('hayır')\n",
    "df['Baska Bir Kurumdan Burs Aliyor mu?'].unique()"
   ]
  },
  {
   "cell_type": "markdown",
   "id": "6d79a40e-575a-4752-8db3-5862ebb44927",
   "metadata": {},
   "source": [
    "## df2 ile devam edilecek"
   ]
  },
  {
   "cell_type": "code",
   "execution_count": null,
   "id": "3ec15d6f-3158-46e9-9677-47d83d814e73",
   "metadata": {},
   "outputs": [],
   "source": [
    "df2 = df.copy()\n",
    "df2"
   ]
  },
  {
   "cell_type": "code",
   "execution_count": null,
   "id": "5a0eaf78-416f-4a7a-9bae-802d41f18492",
   "metadata": {},
   "outputs": [],
   "source": [
    "pd.to_datetime(df_raw['Basvuru Yili'], format='%Y').dt.year.unique()"
   ]
  },
  {
   "cell_type": "code",
   "execution_count": null,
   "id": "91b2cbde-a3c5-40e1-950d-6d3b66ea3870",
   "metadata": {
    "scrolled": true
   },
   "outputs": [],
   "source": [
    "import matplotlib.pyplot as plt\n",
    "df_raw_basvuru_yili_datetime = pd.to_datetime(df_raw['Basvuru Yili'], format='%Y')\n",
    "for i in df_raw_basvuru_yili_datetime.dt.year.unique():\n",
    "        print(f'Basvuru Yili: {i}-----------------------------')\n",
    "        plt.title(f\"{i} yılı kategorilere göre boş veriler\")\n",
    "        plt.xlabel(\"Kategori\")\n",
    "        plt.ylabel(\"Veri Miktarı\")\n",
    "        plt.xticks(rotation = 90)\n",
    "        #plt.figure(figsize=(6, 6))\n",
    "        plt.bar(df_raw.columns, \n",
    "                len(df_raw.loc[df_raw_basvuru_yili_datetime.dt.year== i])-df_raw.loc[df_raw_basvuru_yili_datetime.dt.year == i, df_raw.columns].isna().sum(),\n",
    "                width=0.8\n",
    "               )\n",
    "    \n",
    "        plt.bar(df_raw.columns,\n",
    "                df_raw.loc[df_raw_basvuru_yili_datetime.dt.year == i, df_raw.columns].isna().sum(),\n",
    "                bottom= len(df_raw.loc[df_raw_basvuru_yili_datetime.dt.year== i])-df_raw.loc[df_raw_basvuru_yili_datetime.dt.year == i, df_raw.columns].isna().sum(),\n",
    "                color='red',\n",
    "                width=0.8\n",
    "                )\n",
    "        plt.show()\n",
    "            #print(j,':', df_raw.loc[df_raw_basvuru_yili_datetime.dt.year == i, j].isna().sum())\n",
    "                "
   ]
  },
  {
   "cell_type": "code",
   "execution_count": null,
   "id": "95483731-a059-430e-8958-46c2a7d8d6e5",
   "metadata": {
    "scrolled": true
   },
   "outputs": [],
   "source": [
    "for i in df_raw[\"Basvuru Yili\"].unique():\n",
    "    sns.displot(data=df_raw[df_raw[\"Basvuru Yili\"]==i],x=\"Degerlendirme Puani\",)\n",
    "    plt.title(i)"
   ]
  },
  {
   "cell_type": "code",
   "execution_count": null,
   "id": "df087aa7-2490-4781-a15a-09f8c4203942",
   "metadata": {},
   "outputs": [],
   "source": [
    "import seaborn as sns\n",
    "sns.displot(data=df_raw,x=\"Degerlendirme Puani\", hue=\"Basvuru Yili\",kind=\"kde\")"
   ]
  },
  {
   "cell_type": "code",
   "execution_count": null,
   "id": "58c7de4b-ec4b-4a25-97f8-b08f2912f688",
   "metadata": {},
   "outputs": [],
   "source": [
    "df2.loc[(df2[\"Basvuru Yili\"]==2016)].shape()"
   ]
  },
  {
   "cell_type": "code",
   "execution_count": null,
   "id": "73927bd4-8189-4c9f-a573-3a802c5a3501",
   "metadata": {},
   "outputs": [],
   "source": [
    "#numeric categoric\n",
    "def capture_cols(dataframe, cat_th=10, car_th=20):\n",
    "\n",
    "    cat_cols = [col for col in dataframe.columns if str(dataframe[col].dtypes) in [\"category\", \"object\", \"bool\"]]\n",
    "\n",
    "    num_but_cat = [col for col in dataframe.columns if dataframe[col].nunique() < cat_th and dataframe[col].dtypes in [\"int\", \"float\"]]\n",
    "\n",
    "    cat_but_car = [col for col in dataframe.columns if\n",
    "                   dataframe[col].nunique() > car_th and str(dataframe[col].dtypes) in [\"category\", \"object\"]]\n",
    "\n",
    "    cat_cols = cat_cols + num_but_cat\n",
    "    cat_cols = [col for col in cat_cols if col not in cat_but_car]\n",
    "\n",
    "    num_cols = [col for col in dataframe.columns if dataframe[col].dtypes in [\"int\", \"float\", \"<M8[ns]\"]]\n",
    "    num_cols = [col for col in num_cols if col not in cat_cols]\n",
    "\n",
    "    print(f\"Observations: {dataframe.shape[0]}\")\n",
    "    print(f\"Variables: {dataframe.shape[1]}\")\n",
    "    print(f'cat_cols: {len(cat_cols)}')\n",
    "    print(f'num_cols: {len(num_cols)}')\n",
    "    print(f'cat_but_car: {len(cat_but_car)}')\n",
    "    print(f'num_but_cat: {len(num_but_cat)}')\n",
    "\n",
    "    return cat_cols, num_cols, cat_but_car\n",
    "\n",
    "cat_cols, num_cols, cat_but_car = capture_cols(df2)"
   ]
  },
  {
   "cell_type": "code",
   "execution_count": null,
   "id": "16d3098b-5c9a-4d49-a638-da0d378cc32f",
   "metadata": {},
   "outputs": [],
   "source": [
    "numeric = df_total[n_cols]\n",
    "lof = LocalOutlierFactor(n_neighbors=81)\n",
    "lof.fit_predict(numeric)\n",
    "\n",
    "df_scores = lof.negative_outlier_factor_\n",
    "df_scores[0:5]\n",
    "np.sort(df_scores)[0:5]\n",
    "\n",
    "scores = pd.DataFrame(np.sort(df_scores))\n",
    "scores.plot(stacked=True, xlim=[0,50], style='.-')\n",
    "plt.show()"
   ]
  },
  {
   "cell_type": "markdown",
   "id": "cf41e66a-cd7a-42c8-a503-9b11cc21cfae",
   "metadata": {},
   "source": [
    "### ____________________________________\n",
    "  < burdan öncesini elleşme sal bana >\n",
    "   ------------------------------------\n",
    "          \\   ^__^\n",
    "           \\  (oo)\\_______\n",
    "              (__)\\       )\\/\\\n",
    "                  ||----w |\n",
    "                  ||     ||"
   ]
  },
  {
   "cell_type": "code",
   "execution_count": null,
   "id": "a7c81c82-739b-4bc8-8158-9914a4e38d8d",
   "metadata": {},
   "outputs": [],
   "source": [
    "from sklearn.model_selection import train_test_split\n",
    "from sklearn.model_selection import cross_val_score, GridSearchCV, validation_curve\n",
    "from sklearn.metrics import make_scorer, mean_squared_error\n",
    "from sklearn.preprocessing import StandartScaler, OneHotEncoder, LabelEncoder"
   ]
  },
  {
   "cell_type": "code",
   "execution_count": 2,
   "id": "42e0a1c8-d71f-493f-b78f-b586d2fd1d3c",
   "metadata": {},
   "outputs": [
    {
     "ename": "NameError",
     "evalue": "name 'df2' is not defined",
     "output_type": "error",
     "traceback": [
      "\u001b[0;31m---------------------------------------------------------------------------\u001b[0m",
      "\u001b[0;31mNameError\u001b[0m                                 Traceback (most recent call last)",
      "Cell \u001b[0;32mIn[2], line 18\u001b[0m\n\u001b[1;32m     15\u001b[0m     ohe \u001b[38;5;241m=\u001b[39m OneHotEncoder()\n\u001b[1;32m     16\u001b[0m     dataframe[ohe_col] \u001b[38;5;241m=\u001b[39m ohe\u001b[38;5;241m.\u001b[39mfit_transform(dataframe[ohe_col])\n\u001b[0;32m---> 18\u001b[0m other_cols \u001b[38;5;241m=\u001b[39m \u001b[43mdf2\u001b[49m\u001b[38;5;241m.\u001b[39mcolumns\u001b[38;5;241m.\u001b[39mdifference(label_enc_cols)\n\u001b[1;32m     19\u001b[0m other_cols\n",
      "\u001b[0;31mNameError\u001b[0m: name 'df2' is not defined"
     ]
    }
   ],
   "source": [
    "# label encoding: Universite Kacinci Sinif, Universite Not Ortalaması, Lise Mezuniyet Notu, Baska Kurumdan Aldigi Burs Miktari, Anne Egitim Durumu, Baba Egitim Durumu \n",
    "# Geriye kalan cot_cols one hot encoding\n",
    "label_enc_cols = [\"Universite Kacinci Sinif\", \"Universite Not Ortalaması\", \n",
    "                  \"Lise Mezuniyet Notu\", \"Baska Kurumdan Aldigi Burs Miktari\", \n",
    "                  \"Anne Egitim Durumu\", \"Baba Egitim Durumu\"]\n",
    "\n",
    "def label_encoder(dataframe, le_col):\n",
    "  le = LabelEncoder()\n",
    "  dataframe[bin_col] = le.fit_transform(dataframe[bin_col])\n",
    "  return dataframe\n",
    "    \n",
    "#df2 = label_encoder(df2, label_enc_cols)\n",
    "\n",
    "def one_hot_encoder(dataframe, ohe_col):\n",
    "    ohe = OneHotEncoder()\n",
    "    dataframe[ohe_col] = ohe.fit_transform(dataframe[ohe_col])\n",
    "\n",
    "other_cols = df2.columns.difference(label_enc_cols)\n",
    "other_cols"
   ]
  },
  {
   "cell_type": "code",
   "execution_count": null,
   "id": "f3f17783-e9da-4b6c-ade1-a59108f3d862",
   "metadata": {},
   "outputs": [],
   "source": [
    "X = df2.drop(['Degerlendirme Puani'], axis=1)\n",
    "y = df2['Degerlendirme Puani']\n",
    "\n",
    "X_train, X_test, y_train, y_test = train_test_split(X, y, test_size=0.2, random_state=42)"
   ]
  },
  {
   "cell_type": "code",
   "execution_count": null,
   "id": "5c0ba27a-89c3-47fe-b65f-ab3a5137d76d",
   "metadata": {},
   "outputs": [],
   "source": [
    "models = {\n",
    "    'Linear Regression': LinearRegression(),\n",
    "    'Gradient Boosting Regressor': GradientBoostingRegressor(random_state=17),\n",
    "    'Random Forest Regressor': RandomForestRegressor(random_state=17),\n",
    "    'Extra Trees Regressor': ExtraTreesRegressor(random_state=17),\n",
    "    'AdaBoost Regressor': AdaBoostRegressor(random_state=17),\n",
    "    'Decision Tree Regressor': DecisionTreeRegressor(random_state=17),\n",
    "    'Extreme Gradient Boosting': XGBRegressor(random_state=17),\n",
    "    'Light Gradient Boosting Machine': LGBMRegressor(random_state=17),\n",
    "    'CatBoost Regressor': CatBoostRegressor(random_state=17),\n",
    "}\n",
    "\n",
    "params = {\n",
    "    \"Gradient Boosting Regressor\": {\n",
    "        \"learning_rate\": [0.01],\n",
    "        \"max_depth\": [3, 5, 8],\n",
    "        \"max_features\": [\"auto\", \"sqrt\", \"log2\"],\n",
    "        \"n_estimators\": [100, 200, 400, 700],\n",
    "        \"subsample\": [1, 0.8]\n",
    "    },\n",
    "    \"Random Forest Regressor\": {\n",
    "        \"max_depth\": [3, 5, 8],\n",
    "        \"max_features\": [\"auto\", \"sqrt\", \"log2\"],\n",
    "        \"min_samples_split\": [2, 5, 10],\n",
    "        \"n_estimators\": [100, 200, 400, 700]\n",
    "    },\n",
    "    \"Extra Trees Regressor\": {\n",
    "        \"n_estimators\": [100, 200, 400, 700],\n",
    "        \"max_depth\": [3, 5, 8],\n",
    "        \"min_samples_split\": [2, 5, 10],\n",
    "        \"max_features\": [\"auto\", \"sqrt\", \"log2\"],\n",
    "    },\n",
    "    \"AdaBoost Regressor\": {\n",
    "        \"learning_rate\": [0.01],\n",
    "        \"n_estimators\": [100, 200, 400, 700],\n",
    "        \"loss\": ['linear', 'square', 'exponential']\n",
    "    },\n",
    "    \"Decision Tree Regressor\": {\n",
    "        \"max_depth\": [3, 5, 8],\n",
    "        \"min_samples_split\": [2, 5, 10],\n",
    "        \"max_features\": [\"auto\", \"sqrt\", \"log2\"],\n",
    "    },\n",
    "    \"Extreme Gradient Boosting\": {\n",
    "        \"colsample_bytree\": [1, 0.7],\n",
    "        \"learning_rate\": [0.01],\n",
    "        \"max_depth\": [3, 5, 8],\n",
    "        \"n_estimators\": [100, 200, 400, 700],\n",
    "        \"subsample\": [1, 0.8]\n",
    "    },\n",
    "    \"Light Gradient Boosting Machine\": {\n",
    "        \"colsample_bytree\": [1, 0.7],\n",
    "        \"learning_rate\": [0.01],\n",
    "        \"max_depth\": [3, 5, 8],\n",
    "        \"n_estimators\": [100, 200, 400, 700],\n",
    "        \"num_leaves\": [3, 7]\n",
    "    },\n",
    "    \"CatBoost Regressor\": {\n",
    "        \"learning_rate\": [0.01],\n",
    "        \"max_depth\": [3, 5, 8],\n",
    "        \"n_estimators\": [100, 200, 400, 700],\n",
    "        \"subsample\": [1, 0.8]\n",
    "    }\n",
    "}\n",
    "\n",
    "def train(models, X, y, test_size=0.2, cv=5):\n",
    "\n",
    "  results = {}\n",
    "  params = {}\n",
    "\n",
    "  for i, (model_name, model) in enumerate(models.items()):\n",
    "\n",
    "    params[model_name] = model.get_params()\n",
    "\n",
    "    scoring = {\n",
    "        \"neg_mean_squared_error\": make_scorer(mean_squared_error),\n",
    "    }\n",
    "\n",
    "    results[model_name] = {\"RMSE\": np.mean(np.sqrt(-cross_val_score(model, X, y, cv=cv, scoring=\"neg_mean_squared_error\")))}\n",
    "\n",
    "  return results, params\n",
    "        \n",
    "def training_results(results):\n",
    "\n",
    "  results_df = pd.DataFrame(results).T\n",
    "\n",
    "  return results_df\n",
    "\n",
    "results, params = train(models, params, X, y)\n",
    "training_results(results)"
   ]
  },
  {
   "cell_type": "code",
   "execution_count": null,
   "id": "5653d1a2-bb8e-42a8-bf3c-57bd1485b8ae",
   "metadata": {},
   "outputs": [],
   "source": [
    "def hyperparameter_tuning(models, params, X, y, cv=5, random_state=17):\n",
    "\n",
    "  results = {}\n",
    "  best_model = None\n",
    "  best_score = 0\n",
    "\n",
    "  for model_name, model in models.items():\n",
    "\n",
    "    if model_name not in params:\n",
    "      print(f\"{model_name} does not require hyperparameters.\")\n",
    "      continue\n",
    "\n",
    "    print(f\"Performing Hyperparameter Tuning for {model_name}...\")\n",
    "\n",
    "    gs_cv = GridSearchCV(model, params[model_name], cv=cv, n_jobs=-1, verbose=False).fit(X, y)\n",
    "    gs_final = model.set_params(**gs_cv.best_params_, random_state=random_state).fit(X, y)\n",
    "\n",
    "    best_params = gs_cv.best_params_\n",
    "    score = gs_cv.best_score_\n",
    "\n",
    "    if score > best_score:\n",
    "      best_score = score\n",
    "      best_model = gs_final\n",
    "\n",
    "    scoring = {\n",
    "        \"neg_mean_squared_error\": make_scorer(mean_squared_error)\n",
    "    }\n",
    "\n",
    "    results[model_name] = {\n",
    "            'Best Parameters': best_params,\n",
    "            \"RMSE\": np.mean(np.sqrt(-cross_val_score(model, X, y, cv=cv, scoring=\"neg_mean_squared_error\")))\n",
    "    }\n",
    "\n",
    "    print(f\"{model_name} - Best Parameters: {best_params}\")\n",
    "\n",
    "  return results, gs_final, best_model\n",
    "\n",
    "hyper_results, gs_final, best_model = hyperparameter_tuning(models, params, X, y)\n",
    "print(f\"\\nThe model with the best score is {best_model}\\n\")\n",
    "train_results(hyper_results)"
   ]
  },
  {
   "cell_type": "code",
   "execution_count": null,
   "id": "9c59b38a-4d8e-4716-b0df-2320d1ba326f",
   "metadata": {},
   "outputs": [],
   "source": [
    "def plot_learning_curve(estimator, title, X, y, train_sizes = np.linspace(.1, 1.0, 5), scoring=\"neg_mean_squared_error\"):\n",
    "    \n",
    "  train_sizes, train_scores, test_scores = learning_curve(gs_final, X, y,\n",
    "                                                          cv=5, scoring=scoring,\n",
    "                                                          n_jobs=-1, train_sizes=train_sizes)\n",
    "  plt.figure()\n",
    "  plt.title(title)\n",
    "\n",
    "  plt.xlabel('Number of Training Samples')\n",
    "  plt.ylabel('Score')\n",
    "\n",
    "  train_scores_mean = np.mean(train_scores, axis=1)\n",
    "  train_scores_std = np.std(train_scores, axis=1)\n",
    "  test_scores_mean = np.mean(test_scores, axis=1)\n",
    "  test_scores_std = np.std(test_scores, axis=1)\n",
    "\n",
    "  plt.grid()\n",
    "\n",
    "  plt.fill_between(train_sizes, train_scores_mean - train_scores_std,\n",
    "                   train_scores_mean + train_scores_std, alpha=0.1,\n",
    "                   color=\"r\")\n",
    "\n",
    "  plt.fill_between(train_sizes, test_scores_mean - test_scores_std,\n",
    "                   test_scores_mean + test_scores_std, alpha = 0.1, color = \"g\")\n",
    "\n",
    "  plt.plot(train_sizes, train_scores_mean, 'o-', color = \"r\",\n",
    "           label = \"Training score\")\n",
    "\n",
    "  plt.plot(train_sizes, test_scores_mean, 'o-', color = \"g\",\n",
    "           label = \"Cross-validation score\")\n",
    "\n",
    "  plt.legend(loc = \"best\")\n",
    "  plt.show\n",
    "\n",
    "plot_learning_curve(best_model, \"Learning Curve For Best Model\", x, y)"
   ]
  },
  {
   "cell_type": "code",
   "execution_count": 55,
   "id": "54e27206-5c3f-45e5-ae6e-2425cb087028",
   "metadata": {},
   "outputs": [
    {
     "name": "stdout",
     "output_type": "stream",
     "text": [
      "[main ca0ec46] berke<3doa\n",
      " 1 file changed, 11 insertions(+), 10 deletions(-)\n",
      "Nesneler ortaya dökülüyor: 34, bitti.\n",
      "Nesneler sayılıyor: 100% (34/34), bitti.\n",
      "Delta sıkıştırması 8 iş parçacığı kullanıyor\n",
      "Nesneler sıkıştırılıyor: 100% (26/26), bitti.\n",
      "Nesneler yazılıyor: 100% (29/29), 8.20 MiB | 3.53 MiB/sn, bitti.\n",
      "Toplam 29 (delta 16), yeniden kullanılan 0 (delta 0), yeniden kullanılan paket 0 (0 konumundan)\n",
      "remote: Resolving deltas: 100% (16/16), completed with 4 local objects.\u001b[K\n",
      "remote: \u001b[1;31merror\u001b[m: Trace: f96d55a64b279c32ccf328184706a0e6ef4bf4c86dee484449f368b55b833802\u001b[K\n",
      "remote: \u001b[1;31merror\u001b[m: See https://gh.io/lfs for more information.\u001b[K\n",
      "remote: \u001b[1;31merror\u001b[m: File .ipynb_checkpoints/nanatolia_btk_datahon-checkpoint.ipynb is 175.81 MB; this exceeds GitHub's file size limit of 100.00 MB\u001b[K\n",
      "remote: \u001b[1;31merror\u001b[m: GH001: Large files detected. You may want to try Git Large File Storage - https://git-lfs.github.com.\u001b[K\n",
      "To https://github.com/DALLI-KAKTUS/btk-datathon-2024.git\n",
      " \u001b[31m! [remote rejected]\u001b[m main -> main (pre-receive hook declined)\n",
      "\u001b[31mhata: bazı başvurular 'https://github.com/DALLI-KAKTUS/btk-datathon-2024.git' konumuna itilemedi\n",
      "\u001b[m"
     ]
    }
   ],
   "source": [
    "!git add .\n",
    "!git commit -m \"berke<3doa\"\n",
    "!git push"
   ]
  },
  {
   "cell_type": "code",
   "execution_count": null,
   "id": "04c8d376-1de6-44f4-8229-13049c0788c2",
   "metadata": {},
   "outputs": [],
   "source": []
  }
 ],
 "metadata": {
  "kernelspec": {
   "display_name": "Python 3 (ipykernel)",
   "language": "python",
   "name": "python3"
  },
  "language_info": {
   "codemirror_mode": {
    "name": "ipython",
    "version": 3
   },
   "file_extension": ".py",
   "mimetype": "text/x-python",
   "name": "python",
   "nbconvert_exporter": "python",
   "pygments_lexer": "ipython3",
   "version": "3.12.5"
  }
 },
 "nbformat": 4,
 "nbformat_minor": 5
}

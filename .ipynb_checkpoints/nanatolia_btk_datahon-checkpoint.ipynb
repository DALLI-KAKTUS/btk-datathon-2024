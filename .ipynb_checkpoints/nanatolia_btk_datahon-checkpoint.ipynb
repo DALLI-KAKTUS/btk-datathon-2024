{
 "cells": [
  {
   "cell_type": "code",
   "execution_count": 1,
   "id": "1d1e91ec-1607-404e-97b2-455d2c358280",
   "metadata": {},
   "outputs": [],
   "source": [
    "import pandas as pd\n",
    "import numpy as np \n",
    "import unicodedata\n",
    "import re\n",
    "from difflib import get_close_matches"
   ]
  },
  {
   "cell_type": "code",
   "execution_count": 2,
   "id": "2d9e53ca-6165-4774-83c1-2c6633f99da1",
   "metadata": {},
   "outputs": [
    {
     "data": {
      "text/html": [
       "<div>\n",
       "<style scoped>\n",
       "    .dataframe tbody tr th:only-of-type {\n",
       "        vertical-align: middle;\n",
       "    }\n",
       "\n",
       "    .dataframe tbody tr th {\n",
       "        vertical-align: top;\n",
       "    }\n",
       "\n",
       "    .dataframe thead th {\n",
       "        text-align: right;\n",
       "    }\n",
       "</style>\n",
       "<table border=\"1\" class=\"dataframe\">\n",
       "  <thead>\n",
       "    <tr style=\"text-align: right;\">\n",
       "      <th></th>\n",
       "      <th>Basvuru Yili</th>\n",
       "      <th>Degerlendirme Puani</th>\n",
       "      <th>Cinsiyet</th>\n",
       "      <th>Dogum Tarihi</th>\n",
       "      <th>Dogum Yeri</th>\n",
       "      <th>Ikametgah Sehri</th>\n",
       "      <th>Universite Adi</th>\n",
       "      <th>Universite Turu</th>\n",
       "      <th>Burslu ise Burs Yuzdesi</th>\n",
       "      <th>Burs Aliyor mu?</th>\n",
       "      <th>...</th>\n",
       "      <th>Spor Dalindaki Rolunuz Nedir?</th>\n",
       "      <th>Aktif olarak bir STK üyesi misiniz?</th>\n",
       "      <th>Hangi STK'nin Uyesisiniz?</th>\n",
       "      <th>Stk Projesine Katildiniz Mi?</th>\n",
       "      <th>Girisimcilikle Ilgili Deneyiminiz Var Mi?</th>\n",
       "      <th>Girisimcilikle Ilgili Deneyiminizi Aciklayabilir misiniz?</th>\n",
       "      <th>Ingilizce Biliyor musunuz?</th>\n",
       "      <th>Ingilizce Seviyeniz?</th>\n",
       "      <th>Daha Önceden Mezun Olunduysa, Mezun Olunan Üniversite</th>\n",
       "      <th>id</th>\n",
       "    </tr>\n",
       "  </thead>\n",
       "  <tbody>\n",
       "    <tr>\n",
       "      <th>0</th>\n",
       "      <td>2014</td>\n",
       "      <td>52.0</td>\n",
       "      <td>Erkek</td>\n",
       "      <td>4/6/1994</td>\n",
       "      <td>Altindag, Ankara</td>\n",
       "      <td>Ankara</td>\n",
       "      <td>İHSAN DOĞRAMACI BİLKENT</td>\n",
       "      <td>Özel</td>\n",
       "      <td>100.0</td>\n",
       "      <td>Evet</td>\n",
       "      <td>...</td>\n",
       "      <td>Diğer</td>\n",
       "      <td>Hayır</td>\n",
       "      <td>NaN</td>\n",
       "      <td>Evet</td>\n",
       "      <td>Hayır</td>\n",
       "      <td>NaN</td>\n",
       "      <td>NaN</td>\n",
       "      <td>NaN</td>\n",
       "      <td>NaN</td>\n",
       "      <td>0</td>\n",
       "    </tr>\n",
       "    <tr>\n",
       "      <th>1</th>\n",
       "      <td>2014</td>\n",
       "      <td>30.0</td>\n",
       "      <td>Erkek</td>\n",
       "      <td>6/11/1993</td>\n",
       "      <td>Üsküdar</td>\n",
       "      <td>İstanbul</td>\n",
       "      <td>İHSAN DOĞRAMACI BİLKENT</td>\n",
       "      <td>Özel</td>\n",
       "      <td>100.0</td>\n",
       "      <td>Hayır</td>\n",
       "      <td>...</td>\n",
       "      <td>0</td>\n",
       "      <td>Hayır</td>\n",
       "      <td>NaN</td>\n",
       "      <td>Evet</td>\n",
       "      <td>Evet</td>\n",
       "      <td>Bilkent Cyberparkta bir şirkette Türkiye nin i...</td>\n",
       "      <td>NaN</td>\n",
       "      <td>NaN</td>\n",
       "      <td>NaN</td>\n",
       "      <td>1</td>\n",
       "    </tr>\n",
       "    <tr>\n",
       "      <th>2</th>\n",
       "      <td>2014</td>\n",
       "      <td>18.0</td>\n",
       "      <td>Erkek</td>\n",
       "      <td>1/15/1986</td>\n",
       "      <td>Samsun</td>\n",
       "      <td>İstanbul</td>\n",
       "      <td>ULUSLARARASI KIBRIS ÜNİVERSİTESİ</td>\n",
       "      <td>Özel</td>\n",
       "      <td>100.0</td>\n",
       "      <td>Hayır</td>\n",
       "      <td>...</td>\n",
       "      <td>0</td>\n",
       "      <td>Hayır</td>\n",
       "      <td>NaN</td>\n",
       "      <td>Hayır</td>\n",
       "      <td>Hayır</td>\n",
       "      <td>NaN</td>\n",
       "      <td>NaN</td>\n",
       "      <td>NaN</td>\n",
       "      <td>NaN</td>\n",
       "      <td>2</td>\n",
       "    </tr>\n",
       "    <tr>\n",
       "      <th>3</th>\n",
       "      <td>2014</td>\n",
       "      <td>40.0</td>\n",
       "      <td>Erkek</td>\n",
       "      <td>6/4/1991</td>\n",
       "      <td>Diyarbakır</td>\n",
       "      <td>İstanbul</td>\n",
       "      <td>İSTANBUL ŞEHİR ÜNİVERSİTESİ</td>\n",
       "      <td>Özel</td>\n",
       "      <td>100.0</td>\n",
       "      <td>Evet</td>\n",
       "      <td>...</td>\n",
       "      <td>0</td>\n",
       "      <td>Hayır</td>\n",
       "      <td>NaN</td>\n",
       "      <td>Evet</td>\n",
       "      <td>Hayır</td>\n",
       "      <td>NaN</td>\n",
       "      <td>NaN</td>\n",
       "      <td>NaN</td>\n",
       "      <td>NaN</td>\n",
       "      <td>3</td>\n",
       "    </tr>\n",
       "    <tr>\n",
       "      <th>4</th>\n",
       "      <td>2014</td>\n",
       "      <td>24.0</td>\n",
       "      <td>Erkek</td>\n",
       "      <td>2 Kasim 1992</td>\n",
       "      <td>Ankara/Altındağ</td>\n",
       "      <td>Ankara</td>\n",
       "      <td>TURGUT ÖZAL ÜNİVERSİTESİ</td>\n",
       "      <td>Özel</td>\n",
       "      <td>100.0</td>\n",
       "      <td>Evet</td>\n",
       "      <td>...</td>\n",
       "      <td>0</td>\n",
       "      <td>Hayır</td>\n",
       "      <td>NaN</td>\n",
       "      <td>Hayır</td>\n",
       "      <td>Hayır</td>\n",
       "      <td>NaN</td>\n",
       "      <td>NaN</td>\n",
       "      <td>NaN</td>\n",
       "      <td>NaN</td>\n",
       "      <td>4</td>\n",
       "    </tr>\n",
       "    <tr>\n",
       "      <th>...</th>\n",
       "      <td>...</td>\n",
       "      <td>...</td>\n",
       "      <td>...</td>\n",
       "      <td>...</td>\n",
       "      <td>...</td>\n",
       "      <td>...</td>\n",
       "      <td>...</td>\n",
       "      <td>...</td>\n",
       "      <td>...</td>\n",
       "      <td>...</td>\n",
       "      <td>...</td>\n",
       "      <td>...</td>\n",
       "      <td>...</td>\n",
       "      <td>...</td>\n",
       "      <td>...</td>\n",
       "      <td>...</td>\n",
       "      <td>...</td>\n",
       "      <td>...</td>\n",
       "      <td>...</td>\n",
       "      <td>...</td>\n",
       "      <td>...</td>\n",
       "    </tr>\n",
       "    <tr>\n",
       "      <th>65120</th>\n",
       "      <td>2022</td>\n",
       "      <td>0.0</td>\n",
       "      <td>Erkek</td>\n",
       "      <td>18.06.2003 00:00</td>\n",
       "      <td>İstanbul</td>\n",
       "      <td>İstanbul</td>\n",
       "      <td>İstanbul Aydın Üniversitesi</td>\n",
       "      <td>Özel</td>\n",
       "      <td>NaN</td>\n",
       "      <td>Evet</td>\n",
       "      <td>...</td>\n",
       "      <td>-</td>\n",
       "      <td>Hayır</td>\n",
       "      <td>-</td>\n",
       "      <td>NaN</td>\n",
       "      <td>Hayır</td>\n",
       "      <td>-</td>\n",
       "      <td>Hayır</td>\n",
       "      <td>NaN</td>\n",
       "      <td>NaN</td>\n",
       "      <td>65120</td>\n",
       "    </tr>\n",
       "    <tr>\n",
       "      <th>65121</th>\n",
       "      <td>2022</td>\n",
       "      <td>0.0</td>\n",
       "      <td>Erkek</td>\n",
       "      <td>18.04.2002 00:00</td>\n",
       "      <td>Hatay</td>\n",
       "      <td>Muğla</td>\n",
       "      <td>Muğla Sıtkı Koçman Üniversitesi</td>\n",
       "      <td>Devlet</td>\n",
       "      <td>NaN</td>\n",
       "      <td>Hayır</td>\n",
       "      <td>...</td>\n",
       "      <td>-</td>\n",
       "      <td>Hayır</td>\n",
       "      <td>-</td>\n",
       "      <td>NaN</td>\n",
       "      <td>Hayır</td>\n",
       "      <td>-</td>\n",
       "      <td>Hayır</td>\n",
       "      <td>NaN</td>\n",
       "      <td>NaN</td>\n",
       "      <td>65121</td>\n",
       "    </tr>\n",
       "    <tr>\n",
       "      <th>65122</th>\n",
       "      <td>2022</td>\n",
       "      <td>0.0</td>\n",
       "      <td>Erkek</td>\n",
       "      <td>23.10.1999 00:00</td>\n",
       "      <td>Mersin</td>\n",
       "      <td>Mersin</td>\n",
       "      <td>Süleyman Demirel Üniversitesi</td>\n",
       "      <td>Devlet</td>\n",
       "      <td>NaN</td>\n",
       "      <td>Hayır</td>\n",
       "      <td>...</td>\n",
       "      <td>-</td>\n",
       "      <td>Hayır</td>\n",
       "      <td>-</td>\n",
       "      <td>NaN</td>\n",
       "      <td>Hayır</td>\n",
       "      <td>-</td>\n",
       "      <td>Hayır</td>\n",
       "      <td>NaN</td>\n",
       "      <td>NaN</td>\n",
       "      <td>65122</td>\n",
       "    </tr>\n",
       "    <tr>\n",
       "      <th>65123</th>\n",
       "      <td>2022</td>\n",
       "      <td>0.0</td>\n",
       "      <td>Erkek</td>\n",
       "      <td>17.11.2000 00:00</td>\n",
       "      <td>Samsun</td>\n",
       "      <td>Samsun</td>\n",
       "      <td>Karabük Üniversitesi</td>\n",
       "      <td>Devlet</td>\n",
       "      <td>NaN</td>\n",
       "      <td>Hayır</td>\n",
       "      <td>...</td>\n",
       "      <td>-</td>\n",
       "      <td>Hayır</td>\n",
       "      <td>-</td>\n",
       "      <td>NaN</td>\n",
       "      <td>Hayır</td>\n",
       "      <td>-</td>\n",
       "      <td>Hayır</td>\n",
       "      <td>NaN</td>\n",
       "      <td>NaN</td>\n",
       "      <td>65123</td>\n",
       "    </tr>\n",
       "    <tr>\n",
       "      <th>65124</th>\n",
       "      <td>2022</td>\n",
       "      <td>NaN</td>\n",
       "      <td>Kadın</td>\n",
       "      <td>27.04.2000 00:00</td>\n",
       "      <td>Hatay</td>\n",
       "      <td>Hatay</td>\n",
       "      <td>Gaziantep Üniversitesi</td>\n",
       "      <td>Devlet</td>\n",
       "      <td>NaN</td>\n",
       "      <td>Hayır</td>\n",
       "      <td>...</td>\n",
       "      <td>Takım Oyuncusu</td>\n",
       "      <td>Evet</td>\n",
       "      <td>Genç Kızılay Topluluğu'nda 3 yıldır gönüllüyüm...</td>\n",
       "      <td>NaN</td>\n",
       "      <td>Evet</td>\n",
       "      <td>Aile desteğiyle yemek sektöründe küçük bir işl...</td>\n",
       "      <td>Evet</td>\n",
       "      <td>NaN</td>\n",
       "      <td>NaN</td>\n",
       "      <td>65124</td>\n",
       "    </tr>\n",
       "  </tbody>\n",
       "</table>\n",
       "<p>65125 rows × 44 columns</p>\n",
       "</div>"
      ],
      "text/plain": [
       "       Basvuru Yili  Degerlendirme Puani Cinsiyet      Dogum Tarihi  \\\n",
       "0              2014                 52.0    Erkek          4/6/1994   \n",
       "1              2014                 30.0    Erkek         6/11/1993   \n",
       "2              2014                 18.0    Erkek         1/15/1986   \n",
       "3              2014                 40.0    Erkek          6/4/1991   \n",
       "4              2014                 24.0    Erkek      2 Kasim 1992   \n",
       "...             ...                  ...      ...               ...   \n",
       "65120          2022                  0.0    Erkek  18.06.2003 00:00   \n",
       "65121          2022                  0.0    Erkek  18.04.2002 00:00   \n",
       "65122          2022                  0.0    Erkek  23.10.1999 00:00   \n",
       "65123          2022                  0.0    Erkek  17.11.2000 00:00   \n",
       "65124          2022                  NaN    Kadın  27.04.2000 00:00   \n",
       "\n",
       "             Dogum Yeri Ikametgah Sehri                    Universite Adi  \\\n",
       "0      Altindag, Ankara          Ankara           İHSAN DOĞRAMACI BİLKENT   \n",
       "1               Üsküdar        İstanbul           İHSAN DOĞRAMACI BİLKENT   \n",
       "2                Samsun        İstanbul  ULUSLARARASI KIBRIS ÜNİVERSİTESİ   \n",
       "3            Diyarbakır        İstanbul       İSTANBUL ŞEHİR ÜNİVERSİTESİ   \n",
       "4       Ankara/Altındağ          Ankara          TURGUT ÖZAL ÜNİVERSİTESİ   \n",
       "...                 ...             ...                               ...   \n",
       "65120          İstanbul        İstanbul       İstanbul Aydın Üniversitesi   \n",
       "65121             Hatay           Muğla   Muğla Sıtkı Koçman Üniversitesi   \n",
       "65122            Mersin          Mersin     Süleyman Demirel Üniversitesi   \n",
       "65123            Samsun          Samsun              Karabük Üniversitesi   \n",
       "65124             Hatay           Hatay            Gaziantep Üniversitesi   \n",
       "\n",
       "      Universite Turu  Burslu ise Burs Yuzdesi Burs Aliyor mu?  ...  \\\n",
       "0                Özel                    100.0            Evet  ...   \n",
       "1                Özel                    100.0           Hayır  ...   \n",
       "2                Özel                    100.0           Hayır  ...   \n",
       "3                Özel                    100.0            Evet  ...   \n",
       "4                Özel                    100.0            Evet  ...   \n",
       "...               ...                      ...             ...  ...   \n",
       "65120            Özel                      NaN            Evet  ...   \n",
       "65121          Devlet                      NaN           Hayır  ...   \n",
       "65122          Devlet                      NaN           Hayır  ...   \n",
       "65123          Devlet                      NaN           Hayır  ...   \n",
       "65124          Devlet                      NaN           Hayır  ...   \n",
       "\n",
       "      Spor Dalindaki Rolunuz Nedir? Aktif olarak bir STK üyesi misiniz?  \\\n",
       "0                             Diğer                               Hayır   \n",
       "1                                 0                               Hayır   \n",
       "2                                 0                               Hayır   \n",
       "3                                 0                               Hayır   \n",
       "4                                 0                               Hayır   \n",
       "...                             ...                                 ...   \n",
       "65120                             -                               Hayır   \n",
       "65121                             -                               Hayır   \n",
       "65122                             -                               Hayır   \n",
       "65123                             -                               Hayır   \n",
       "65124                Takım Oyuncusu                                Evet   \n",
       "\n",
       "                               Hangi STK'nin Uyesisiniz?  \\\n",
       "0                                                    NaN   \n",
       "1                                                    NaN   \n",
       "2                                                    NaN   \n",
       "3                                                    NaN   \n",
       "4                                                    NaN   \n",
       "...                                                  ...   \n",
       "65120                                                  -   \n",
       "65121                                                  -   \n",
       "65122                                                  -   \n",
       "65123                                                  -   \n",
       "65124  Genç Kızılay Topluluğu'nda 3 yıldır gönüllüyüm...   \n",
       "\n",
       "      Stk Projesine Katildiniz Mi? Girisimcilikle Ilgili Deneyiminiz Var Mi?  \\\n",
       "0                             Evet                                     Hayır   \n",
       "1                             Evet                                      Evet   \n",
       "2                            Hayır                                     Hayır   \n",
       "3                             Evet                                     Hayır   \n",
       "4                            Hayır                                     Hayır   \n",
       "...                            ...                                       ...   \n",
       "65120                          NaN                                     Hayır   \n",
       "65121                          NaN                                     Hayır   \n",
       "65122                          NaN                                     Hayır   \n",
       "65123                          NaN                                     Hayır   \n",
       "65124                          NaN                                      Evet   \n",
       "\n",
       "      Girisimcilikle Ilgili Deneyiminizi Aciklayabilir misiniz?  \\\n",
       "0                                                    NaN          \n",
       "1      Bilkent Cyberparkta bir şirkette Türkiye nin i...          \n",
       "2                                                    NaN          \n",
       "3                                                    NaN          \n",
       "4                                                    NaN          \n",
       "...                                                  ...          \n",
       "65120                                                  -          \n",
       "65121                                                  -          \n",
       "65122                                                  -          \n",
       "65123                                                  -          \n",
       "65124  Aile desteğiyle yemek sektöründe küçük bir işl...          \n",
       "\n",
       "      Ingilizce Biliyor musunuz? Ingilizce Seviyeniz?  \\\n",
       "0                            NaN                  NaN   \n",
       "1                            NaN                  NaN   \n",
       "2                            NaN                  NaN   \n",
       "3                            NaN                  NaN   \n",
       "4                            NaN                  NaN   \n",
       "...                          ...                  ...   \n",
       "65120                      Hayır                  NaN   \n",
       "65121                      Hayır                  NaN   \n",
       "65122                      Hayır                  NaN   \n",
       "65123                      Hayır                  NaN   \n",
       "65124                       Evet                  NaN   \n",
       "\n",
       "      Daha Önceden Mezun Olunduysa, Mezun Olunan Üniversite     id  \n",
       "0                                                    NaN         0  \n",
       "1                                                    NaN         1  \n",
       "2                                                    NaN         2  \n",
       "3                                                    NaN         3  \n",
       "4                                                    NaN         4  \n",
       "...                                                  ...       ...  \n",
       "65120                                                NaN     65120  \n",
       "65121                                                NaN     65121  \n",
       "65122                                                NaN     65122  \n",
       "65123                                                NaN     65123  \n",
       "65124                                                NaN     65124  \n",
       "\n",
       "[65125 rows x 44 columns]"
      ]
     },
     "execution_count": 2,
     "metadata": {},
     "output_type": "execute_result"
    }
   ],
   "source": [
    "df = pd.read_csv(\"train.csv\", low_memory=False)\n",
    "df"
   ]
  },
  {
   "cell_type": "markdown",
   "id": "df12a456-22b0-4ea9-8e6e-af0f8eb09f11",
   "metadata": {},
   "source": [
    "> Görüldüğü gibi çok fazla boş değerimiz var. Dolayısıyla, ilk önce <mark>boş değer analizi</mark> yapılacak."
   ]
  },
  {
   "cell_type": "code",
   "execution_count": 3,
   "id": "92138237-77d4-4752-8717-9d5d86c48781",
   "metadata": {},
   "outputs": [
    {
     "data": {
      "text/html": [
       "<div>\n",
       "<style scoped>\n",
       "    .dataframe tbody tr th:only-of-type {\n",
       "        vertical-align: middle;\n",
       "    }\n",
       "\n",
       "    .dataframe tbody tr th {\n",
       "        vertical-align: top;\n",
       "    }\n",
       "\n",
       "    .dataframe thead th {\n",
       "        text-align: right;\n",
       "    }\n",
       "</style>\n",
       "<table border=\"1\" class=\"dataframe\">\n",
       "  <thead>\n",
       "    <tr style=\"text-align: right;\">\n",
       "      <th></th>\n",
       "      <th>Kayıp veri miktarı</th>\n",
       "      <th>% Kayıp veri miktarı</th>\n",
       "    </tr>\n",
       "  </thead>\n",
       "  <tbody>\n",
       "    <tr>\n",
       "      <th>Daha Önceden Mezun Olunduysa, Mezun Olunan Üniversite</th>\n",
       "      <td>64706</td>\n",
       "      <td>0.993566</td>\n",
       "    </tr>\n",
       "    <tr>\n",
       "      <th>Lise Bolum Diger</th>\n",
       "      <td>63599</td>\n",
       "      <td>0.976568</td>\n",
       "    </tr>\n",
       "    <tr>\n",
       "      <th>Lise Adi Diger</th>\n",
       "      <td>60392</td>\n",
       "      <td>0.927324</td>\n",
       "    </tr>\n",
       "    <tr>\n",
       "      <th>Girisimcilikle Ilgili Deneyiminizi Aciklayabilir misiniz?</th>\n",
       "      <td>50526</td>\n",
       "      <td>0.775831</td>\n",
       "    </tr>\n",
       "    <tr>\n",
       "      <th>Hangi STK'nin Uyesisiniz?</th>\n",
       "      <td>49518</td>\n",
       "      <td>0.760353</td>\n",
       "    </tr>\n",
       "    <tr>\n",
       "      <th>Uye Oldugunuz Kulubun Ismi</th>\n",
       "      <td>48691</td>\n",
       "      <td>0.747655</td>\n",
       "    </tr>\n",
       "    <tr>\n",
       "      <th>Baska Kurumdan Aldigi Burs Miktari</th>\n",
       "      <td>44162</td>\n",
       "      <td>0.678111</td>\n",
       "    </tr>\n",
       "    <tr>\n",
       "      <th>Burs Aldigi Baska Kurum</th>\n",
       "      <td>43977</td>\n",
       "      <td>0.675271</td>\n",
       "    </tr>\n",
       "    <tr>\n",
       "      <th>Burslu ise Burs Yuzdesi</th>\n",
       "      <td>42685</td>\n",
       "      <td>0.655432</td>\n",
       "    </tr>\n",
       "    <tr>\n",
       "      <th>Daha Once Baska Bir Universiteden Mezun Olmus</th>\n",
       "      <td>37345</td>\n",
       "      <td>0.573436</td>\n",
       "    </tr>\n",
       "    <tr>\n",
       "      <th>Ingilizce Seviyeniz?</th>\n",
       "      <td>36533</td>\n",
       "      <td>0.560967</td>\n",
       "    </tr>\n",
       "    <tr>\n",
       "      <th>Anne Sektor</th>\n",
       "      <td>34537</td>\n",
       "      <td>0.530319</td>\n",
       "    </tr>\n",
       "    <tr>\n",
       "      <th>Spor Dalindaki Rolunuz Nedir?</th>\n",
       "      <td>32275</td>\n",
       "      <td>0.495585</td>\n",
       "    </tr>\n",
       "    <tr>\n",
       "      <th>Stk Projesine Katildiniz Mi?</th>\n",
       "      <td>28308</td>\n",
       "      <td>0.434672</td>\n",
       "    </tr>\n",
       "    <tr>\n",
       "      <th>Baba Sektor</th>\n",
       "      <td>20378</td>\n",
       "      <td>0.312906</td>\n",
       "    </tr>\n",
       "    <tr>\n",
       "      <th>Aktif olarak bir STK üyesi misiniz?</th>\n",
       "      <td>12842</td>\n",
       "      <td>0.197190</td>\n",
       "    </tr>\n",
       "    <tr>\n",
       "      <th>Girisimcilikle Ilgili Deneyiminiz Var Mi?</th>\n",
       "      <td>12840</td>\n",
       "      <td>0.197159</td>\n",
       "    </tr>\n",
       "    <tr>\n",
       "      <th>Baba Calisma Durumu</th>\n",
       "      <td>12618</td>\n",
       "      <td>0.193750</td>\n",
       "    </tr>\n",
       "    <tr>\n",
       "      <th>Anne Calisma Durumu</th>\n",
       "      <td>11896</td>\n",
       "      <td>0.182664</td>\n",
       "    </tr>\n",
       "    <tr>\n",
       "      <th>Ingilizce Biliyor musunuz?</th>\n",
       "      <td>6454</td>\n",
       "      <td>0.099102</td>\n",
       "    </tr>\n",
       "    <tr>\n",
       "      <th>Lise Mezuniyet Notu</th>\n",
       "      <td>5917</td>\n",
       "      <td>0.090856</td>\n",
       "    </tr>\n",
       "    <tr>\n",
       "      <th>Universite Not Ortalamasi</th>\n",
       "      <td>2753</td>\n",
       "      <td>0.042273</td>\n",
       "    </tr>\n",
       "    <tr>\n",
       "      <th>Ikametgah Sehri</th>\n",
       "      <td>2037</td>\n",
       "      <td>0.031278</td>\n",
       "    </tr>\n",
       "    <tr>\n",
       "      <th>Girisimcilik Kulupleri Tarzi Bir Kulube Uye misiniz?</th>\n",
       "      <td>1829</td>\n",
       "      <td>0.028084</td>\n",
       "    </tr>\n",
       "    <tr>\n",
       "      <th>Kardes Sayisi</th>\n",
       "      <td>1132</td>\n",
       "      <td>0.017382</td>\n",
       "    </tr>\n",
       "    <tr>\n",
       "      <th>Profesyonel Bir Spor Daliyla Mesgul musunuz?</th>\n",
       "      <td>1115</td>\n",
       "      <td>0.017121</td>\n",
       "    </tr>\n",
       "    <tr>\n",
       "      <th>Lise Sehir</th>\n",
       "      <td>1054</td>\n",
       "      <td>0.016184</td>\n",
       "    </tr>\n",
       "    <tr>\n",
       "      <th>Lise Bolumu</th>\n",
       "      <td>1009</td>\n",
       "      <td>0.015493</td>\n",
       "    </tr>\n",
       "    <tr>\n",
       "      <th>Baba Egitim Durumu</th>\n",
       "      <td>1007</td>\n",
       "      <td>0.015463</td>\n",
       "    </tr>\n",
       "    <tr>\n",
       "      <th>Lise Turu</th>\n",
       "      <td>847</td>\n",
       "      <td>0.013006</td>\n",
       "    </tr>\n",
       "    <tr>\n",
       "      <th>Dogum Yeri</th>\n",
       "      <td>791</td>\n",
       "      <td>0.012146</td>\n",
       "    </tr>\n",
       "    <tr>\n",
       "      <th>Anne Egitim Durumu</th>\n",
       "      <td>406</td>\n",
       "      <td>0.006234</td>\n",
       "    </tr>\n",
       "    <tr>\n",
       "      <th>Lise Adi</th>\n",
       "      <td>384</td>\n",
       "      <td>0.005896</td>\n",
       "    </tr>\n",
       "    <tr>\n",
       "      <th>Universite Kacinci Sinif</th>\n",
       "      <td>374</td>\n",
       "      <td>0.005743</td>\n",
       "    </tr>\n",
       "    <tr>\n",
       "      <th>Universite Turu</th>\n",
       "      <td>255</td>\n",
       "      <td>0.003916</td>\n",
       "    </tr>\n",
       "    <tr>\n",
       "      <th>Bölüm</th>\n",
       "      <td>231</td>\n",
       "      <td>0.003547</td>\n",
       "    </tr>\n",
       "    <tr>\n",
       "      <th>Baska Bir Kurumdan Burs Aliyor mu?</th>\n",
       "      <td>231</td>\n",
       "      <td>0.003547</td>\n",
       "    </tr>\n",
       "    <tr>\n",
       "      <th>Dogum Tarihi</th>\n",
       "      <td>177</td>\n",
       "      <td>0.002718</td>\n",
       "    </tr>\n",
       "    <tr>\n",
       "      <th>Cinsiyet</th>\n",
       "      <td>169</td>\n",
       "      <td>0.002595</td>\n",
       "    </tr>\n",
       "    <tr>\n",
       "      <th>Universite Adi</th>\n",
       "      <td>132</td>\n",
       "      <td>0.002027</td>\n",
       "    </tr>\n",
       "    <tr>\n",
       "      <th>Degerlendirme Puani</th>\n",
       "      <td>1</td>\n",
       "      <td>0.000015</td>\n",
       "    </tr>\n",
       "    <tr>\n",
       "      <th>Basvuru Yili</th>\n",
       "      <td>0</td>\n",
       "      <td>0.000000</td>\n",
       "    </tr>\n",
       "    <tr>\n",
       "      <th>Burs Aliyor mu?</th>\n",
       "      <td>0</td>\n",
       "      <td>0.000000</td>\n",
       "    </tr>\n",
       "    <tr>\n",
       "      <th>id</th>\n",
       "      <td>0</td>\n",
       "      <td>0.000000</td>\n",
       "    </tr>\n",
       "  </tbody>\n",
       "</table>\n",
       "</div>"
      ],
      "text/plain": [
       "                                                    Kayıp veri miktarı  \\\n",
       "Daha Önceden Mezun Olunduysa, Mezun Olunan Üniv...               64706   \n",
       "Lise Bolum Diger                                                 63599   \n",
       "Lise Adi Diger                                                   60392   \n",
       "Girisimcilikle Ilgili Deneyiminizi Aciklayabili...               50526   \n",
       "Hangi STK'nin Uyesisiniz?                                        49518   \n",
       "Uye Oldugunuz Kulubun Ismi                                       48691   \n",
       "Baska Kurumdan Aldigi Burs Miktari                               44162   \n",
       "Burs Aldigi Baska Kurum                                          43977   \n",
       "Burslu ise Burs Yuzdesi                                          42685   \n",
       "Daha Once Baska Bir Universiteden Mezun Olmus                    37345   \n",
       "Ingilizce Seviyeniz?                                             36533   \n",
       "Anne Sektor                                                      34537   \n",
       "Spor Dalindaki Rolunuz Nedir?                                    32275   \n",
       "Stk Projesine Katildiniz Mi?                                     28308   \n",
       "Baba Sektor                                                      20378   \n",
       "Aktif olarak bir STK üyesi misiniz?                              12842   \n",
       "Girisimcilikle Ilgili Deneyiminiz Var Mi?                        12840   \n",
       "Baba Calisma Durumu                                              12618   \n",
       "Anne Calisma Durumu                                              11896   \n",
       "Ingilizce Biliyor musunuz?                                        6454   \n",
       "Lise Mezuniyet Notu                                               5917   \n",
       "Universite Not Ortalamasi                                         2753   \n",
       "Ikametgah Sehri                                                   2037   \n",
       "Girisimcilik Kulupleri Tarzi Bir Kulube Uye mis...                1829   \n",
       "Kardes Sayisi                                                     1132   \n",
       "Profesyonel Bir Spor Daliyla Mesgul musunuz?                      1115   \n",
       "Lise Sehir                                                        1054   \n",
       "Lise Bolumu                                                       1009   \n",
       "Baba Egitim Durumu                                                1007   \n",
       "Lise Turu                                                          847   \n",
       "Dogum Yeri                                                         791   \n",
       "Anne Egitim Durumu                                                 406   \n",
       "Lise Adi                                                           384   \n",
       "Universite Kacinci Sinif                                           374   \n",
       "Universite Turu                                                    255   \n",
       "Bölüm                                                              231   \n",
       "Baska Bir Kurumdan Burs Aliyor mu?                                 231   \n",
       "Dogum Tarihi                                                       177   \n",
       "Cinsiyet                                                           169   \n",
       "Universite Adi                                                     132   \n",
       "Degerlendirme Puani                                                  1   \n",
       "Basvuru Yili                                                         0   \n",
       "Burs Aliyor mu?                                                      0   \n",
       "id                                                                   0   \n",
       "\n",
       "                                                    % Kayıp veri miktarı  \n",
       "Daha Önceden Mezun Olunduysa, Mezun Olunan Üniv...              0.993566  \n",
       "Lise Bolum Diger                                                0.976568  \n",
       "Lise Adi Diger                                                  0.927324  \n",
       "Girisimcilikle Ilgili Deneyiminizi Aciklayabili...              0.775831  \n",
       "Hangi STK'nin Uyesisiniz?                                       0.760353  \n",
       "Uye Oldugunuz Kulubun Ismi                                      0.747655  \n",
       "Baska Kurumdan Aldigi Burs Miktari                              0.678111  \n",
       "Burs Aldigi Baska Kurum                                         0.675271  \n",
       "Burslu ise Burs Yuzdesi                                         0.655432  \n",
       "Daha Once Baska Bir Universiteden Mezun Olmus                   0.573436  \n",
       "Ingilizce Seviyeniz?                                            0.560967  \n",
       "Anne Sektor                                                     0.530319  \n",
       "Spor Dalindaki Rolunuz Nedir?                                   0.495585  \n",
       "Stk Projesine Katildiniz Mi?                                    0.434672  \n",
       "Baba Sektor                                                     0.312906  \n",
       "Aktif olarak bir STK üyesi misiniz?                             0.197190  \n",
       "Girisimcilikle Ilgili Deneyiminiz Var Mi?                       0.197159  \n",
       "Baba Calisma Durumu                                             0.193750  \n",
       "Anne Calisma Durumu                                             0.182664  \n",
       "Ingilizce Biliyor musunuz?                                      0.099102  \n",
       "Lise Mezuniyet Notu                                             0.090856  \n",
       "Universite Not Ortalamasi                                       0.042273  \n",
       "Ikametgah Sehri                                                 0.031278  \n",
       "Girisimcilik Kulupleri Tarzi Bir Kulube Uye mis...              0.028084  \n",
       "Kardes Sayisi                                                   0.017382  \n",
       "Profesyonel Bir Spor Daliyla Mesgul musunuz?                    0.017121  \n",
       "Lise Sehir                                                      0.016184  \n",
       "Lise Bolumu                                                     0.015493  \n",
       "Baba Egitim Durumu                                              0.015463  \n",
       "Lise Turu                                                       0.013006  \n",
       "Dogum Yeri                                                      0.012146  \n",
       "Anne Egitim Durumu                                              0.006234  \n",
       "Lise Adi                                                        0.005896  \n",
       "Universite Kacinci Sinif                                        0.005743  \n",
       "Universite Turu                                                 0.003916  \n",
       "Bölüm                                                           0.003547  \n",
       "Baska Bir Kurumdan Burs Aliyor mu?                              0.003547  \n",
       "Dogum Tarihi                                                    0.002718  \n",
       "Cinsiyet                                                        0.002595  \n",
       "Universite Adi                                                  0.002027  \n",
       "Degerlendirme Puani                                             0.000015  \n",
       "Basvuru Yili                                                    0.000000  \n",
       "Burs Aliyor mu?                                                 0.000000  \n",
       "id                                                              0.000000  "
      ]
     },
     "execution_count": 3,
     "metadata": {},
     "output_type": "execute_result"
    }
   ],
   "source": [
    "df_nulls = pd.DataFrame(df.isnull().sum().sort_values(ascending=False), columns=['Kayıp veri miktarı'])\n",
    "df_nulls['% Kayıp veri miktarı'] = df.isnull().sum().sort_values(ascending=False)/len(df)\n",
    "df_nulls"
   ]
  },
  {
   "cell_type": "markdown",
   "id": "5e0ddbca-0109-42a6-8e29-f3d4cba0ede8",
   "metadata": {},
   "source": [
    "# Verilerin nasıl işleneceği hakkında ön planlama\n",
    "## Daha Önceden Mezun Olunduysa, Mezun Olunan Üniversite: [x]\n",
    "- Boş ise mezun değil olarak doldurulacak.\n",
    "- Bütün üniversite isimleri küçültülecek.\n",
    "- Hatalı yazılan üniversite isimleri teyit edilerek düzeltilecek.\n",
    "\n",
    "## Lise Bolum Diger: [x]\n",
    "- NLP teknikleri kullanıcak.\n",
    "- 'Lise Bolumu' ile birleştirilecek.\n",
    "- Boş değerler bilinmiyor.\n",
    "\n",
    "## Lise Adi Diger: [x]\n",
    "- İsimler küçültülecek.\n",
    "- NLP teknikleri uygulanacak.\n",
    "- 'Lise Adi' ile birleştirilecek.\n",
    "    - Hala boş değerler var ise lise okumamış.\n",
    "\n",
    "## Girisimcilikle Ilgili Deneyiminizi Aciklayabilir misiniz?: [x]\n",
    "- NLP ile anahtar kelime çıkartılacak.\n",
    "- Boş ise girişimcilik deneyimi yok.\n",
    "- Cümleleri Langchain ile ayrıştır. (dene).\n",
    "  \n",
    "## Hangi STK'nin Uyesisiniz?: [x]\n",
    "- NLP ile anahtar kelime çıkartılacak.\n",
    "- Boş ise 'üyelik yok'.\n",
    "  \n",
    "## Uye Oldugunuz Kulubun Ismi: [x]\n",
    "- Boş ise 'üyelik yok'.\n",
    "\n",
    "## Baska Kurumdan Aldigi Burs Miktari: [ ]\n",
    "- Cümle içindeki sayısı al. (re.findall()).\n",
    "- Boş ise burs '0 TL'.\n",
    "\n",
    "## Burs Aldigi Baska Kurum:\n",
    "- Boş ise bir kurumdan 'yok'.\n",
    "\n",
    "## Burslu ise Burs Yuzdesi: [x]\n",
    "- Boş ise burs almıyor.\n",
    "\n",
    "## Daha Once Baska Bir Universiteden Mezun Olmus: [x]\n",
    "- Boş ise 'Hayır'.\n",
    "\n",
    "## Ingilizce Seviyeniz?: [x]\n",
    "- Boş ise 'bilmiyor'.\n",
    "\n",
    "## Anne Sektor:\n",
    "- 0 - ve Boş değerlere KNN uygulanacak\n",
    "- Küçük harf yapılacak.\n",
    "\n",
    "## Spor Dalindaki Rolunuz Nedir?: [x]\n",
    "- '0', '-' ve 'nan' ise '0'.\n",
    "- Küçük harf yapılacak.\n",
    "\n",
    "## Stk Projesine Katildiniz Mi?: [x]\n",
    "- Boş değerler '0' olarak yazılacak.\n",
    "\n",
    "## Baba Sektor:\n",
    "- 0 - ve Boş değerlere KNN uygulanacak\n",
    "- Küçük harf yapılacak.\n",
    "\n",
    "## Aktif olarak bir STK üyesi misiniz?: [x] \n",
    "- Boş değerler 'Hayır' olarak yazılacak.\n",
    "\n",
    "## Girisimcilikle Ilgili Deneyiminiz Var Mi?: [x]\n",
    "- Boş değerler 'Hayır' olarak yazılacak.\n",
    "\n",
    "## Baba Calisma Durumu: \n",
    "- Baba sektor'de veri var ise çalışma durumu 'Evet' yapılacak.\n",
    "- KNN uygulanacak.\n",
    "\n",
    "## Anne Calisma Durumu:\n",
    "- Anne sektor'de veri var ise çalışma durumu 'Evet' yapılacak.\n",
    "- KNN uygulanacak.\n",
    "\n",
    "# Ingilizce Biliyor musunuz?: [x]\n",
    "- Boş değerlere 'Hayır' yazılacak.\n",
    "\n",
    "## Lise Mezuniyet Notu: [x]\n",
    "- 4'lük yazılanları 100'lüğe çevir.\n",
    "- Boş değerlere 'Not ortalaması yok' yazılacak.\n",
    "\n",
    "## Universite Not Ortalamasi: [x]\n",
    "- Küçük harf yapılacak.\n",
    "- 'Not ortalaması yok' yerine 'ortalama bulunmuyor' yazılacak.\n",
    "- Boş değerler ve 'Hazırlığım' yazanlara 'ortalama bulunmuyor' yazılacak.\n",
    "\n",
    "## Ikametgah Sehri: [x]\n",
    "- Küçük harf yapılacak.\n",
    "- ',' veya '-' veya '/' varsa bunlar ve bunlardan önce yazılan her şey silinecek.\n",
    "- Boş değerler, '------' ve 'OpenAIrequestfailedtimeout' yazanlar 'Lise Sehir'ine göre belirlenecek.\n",
    "\n",
    "## Girisimcilik Kulupleri Tarzi Bir Kulube Uye misiniz?: [x]\n",
    "- Boş değerlere 'Hayır' yazılacak.\n",
    "\n",
    "## Kardes Sayisi: [x]\n",
    "- Boş değerlere '0' yazılacak.\n",
    "- float şeklinde yazılanlarda '.' ve sonrasındaki sayı silinecek.\n",
    "- Cümle içindeki sayısı al. (re.findall()).\n",
    "\n",
    "## Profesyonel Bir Spor Daliyla Mesgul musunuz: [x]\n",
    "- Boş değerlere 'Hayır' yazılacak.\n",
    "\n",
    "## Lise Sehir: [x]\n",
    "- Küçük harf yapılacak.\n",
    "- ',' veya '-' veya '/' varsa bunlar ve bunlardan önce yazılan her şey silinecek.\n",
    "- Boş değerlere 'ikametgah' yaz.\n",
    "  \n",
    "## Lise Bolumu: [x]\n",
    "- hepsi küçük harf yapılacak.\n",
    "- Lise Bolum Diger ile birleştirilecek.\n",
    "- NLP ile anahtar kelime çıkarılacak.\n",
    "\n",
    "## Baba Egitim Durumu:\n",
    "- Küçük harf yapılacak.\n",
    "- Boş değer ve '0' 'Eğitim Yok' olarak yazılacak.\n",
    "  \n",
    "## Lise Turu:\n",
    "- Hepsi küçük harf yapılacak.\n",
    "- NLP ile 'Lise Bolumu' verisi 'Lise Turu' listesinde var ise veya [meslek lisesi bölümleri listesinde](https://www.sozcu.com.tr/meslek-lisesi-bolumleri-nelerdir-meslek-lisesinde-hangi-bolumler-var-szcu6-wp5144779) var ise  'Lise Turu' 'Meslek lisesi' ile doldurulacak.\n",
    "- Boşlar KNN ile doldurulacak\n",
    "\n",
    "## Dogum Yeri: [x]\n",
    "- Boş değerlere 'ikametgah' değerleri yazılacak\n",
    "- '/' veya '-' varsa bun ve bundan önce yazılan her şey silinecek.\n",
    "  \n",
    "## Anne Egitim Durumu:\n",
    "- Hepsi küçük harf yapılacak.\n",
    "- KNN ile doldurulacak\n",
    "\n",
    "## Lise Adi: [x]\n",
    "- Hepsi küçük harf yapılacak.\n",
    "\n",
    "## Universite Kacinci Sinif: [x]\n",
    "- Hepsi küçük harf yapılacak.\n",
    "- 'Daha Önceden Mezun Olunduysa, Mezun Olunan Üniversite' var veya Daha Once Baska Bir Universiteden Mezun Olmus 'evet' ise 'Mezun'\n",
    "\n",
    "## Universite Turu: \n",
    "- Hepsi küçük harf yapılacak.\n",
    "- Boş değerlere 'okumuyor'\n",
    "\n",
    "## Bölüm:\n",
    "- Hepsi küçük harf yapılacak.\n",
    "- KNN uygulanacak.\n",
    "\n",
    "## Baska Bir Kurumdan Burs Aliyor mu?: [x]\n",
    "- Boş değerlere KNN uygulanacak\n",
    "\n",
    "## Dogum Tarihi: [x]\n",
    "- Ayın ismini yazanlarla sayıları değiştir.\n",
    "- datetime'a dönüştür\n",
    "- aykırı ve boş verileri temizle\n",
    "- eğer kayıp fazla ise KNN veya üniversite sınıfı verilerini kullanarak doldur\n",
    "\n",
    "## Cinsiyet:\n",
    "- Boş değer olanlara 'Belirtmek istemiyorum' yazılacak\n",
    "\n",
    "## Universite Adi:\n",
    "- Hepsi küçük harf yapılacak.\n",
    "\n",
    "## Degerlendirme Puani:\n",
    "- Boş değer olanı sil.\n",
    "\n",
    "## Basvuru Yili: [x]\n",
    "- datetime'a dönüştür\n",
    "\n",
    "## Bütün verilere uygulanacak işlemler\n",
    "- Hepsi küçük harf yapılacak.\n",
    "- Aykırı değerler silinecek.\n",
    "- numerik değerler float veya int tipine dönüştürülecek."
   ]
  },
  {
   "cell_type": "markdown",
   "id": "bbda6a1b-8fea-4d8e-b92d-531ce464d6da",
   "metadata": {},
   "source": [
    "> Veri setinde yinelenen değer <mark>bulunmamakta</mark>."
   ]
  },
  {
   "cell_type": "code",
   "execution_count": 4,
   "id": "d4daf182-867a-4042-8c18-9bd1a563ec74",
   "metadata": {},
   "outputs": [
    {
     "data": {
      "text/html": [
       "<div>\n",
       "<style scoped>\n",
       "    .dataframe tbody tr th:only-of-type {\n",
       "        vertical-align: middle;\n",
       "    }\n",
       "\n",
       "    .dataframe tbody tr th {\n",
       "        vertical-align: top;\n",
       "    }\n",
       "\n",
       "    .dataframe thead th {\n",
       "        text-align: right;\n",
       "    }\n",
       "</style>\n",
       "<table border=\"1\" class=\"dataframe\">\n",
       "  <thead>\n",
       "    <tr style=\"text-align: right;\">\n",
       "      <th></th>\n",
       "      <th>Basvuru Yili</th>\n",
       "      <th>Degerlendirme Puani</th>\n",
       "      <th>Cinsiyet</th>\n",
       "      <th>Dogum Tarihi</th>\n",
       "      <th>Dogum Yeri</th>\n",
       "      <th>Ikametgah Sehri</th>\n",
       "      <th>Universite Adi</th>\n",
       "      <th>Universite Turu</th>\n",
       "      <th>Burslu ise Burs Yuzdesi</th>\n",
       "      <th>Burs Aliyor mu?</th>\n",
       "      <th>...</th>\n",
       "      <th>Spor Dalindaki Rolunuz Nedir?</th>\n",
       "      <th>Aktif olarak bir STK üyesi misiniz?</th>\n",
       "      <th>Hangi STK'nin Uyesisiniz?</th>\n",
       "      <th>Stk Projesine Katildiniz Mi?</th>\n",
       "      <th>Girisimcilikle Ilgili Deneyiminiz Var Mi?</th>\n",
       "      <th>Girisimcilikle Ilgili Deneyiminizi Aciklayabilir misiniz?</th>\n",
       "      <th>Ingilizce Biliyor musunuz?</th>\n",
       "      <th>Ingilizce Seviyeniz?</th>\n",
       "      <th>Daha Önceden Mezun Olunduysa, Mezun Olunan Üniversite</th>\n",
       "      <th>id</th>\n",
       "    </tr>\n",
       "  </thead>\n",
       "  <tbody>\n",
       "  </tbody>\n",
       "</table>\n",
       "<p>0 rows × 44 columns</p>\n",
       "</div>"
      ],
      "text/plain": [
       "Empty DataFrame\n",
       "Columns: [Basvuru Yili, Degerlendirme Puani, Cinsiyet, Dogum Tarihi, Dogum Yeri, Ikametgah Sehri, Universite Adi, Universite Turu, Burslu ise Burs Yuzdesi, Burs Aliyor mu?, Bölüm, Universite Kacinci Sinif, Universite Not Ortalamasi, Daha Once Baska Bir Universiteden Mezun Olmus, Lise Adi, Lise Adi Diger, Lise Sehir, Lise Turu, Lise Bolumu, Lise Bolum Diger, Lise Mezuniyet Notu, Baska Bir Kurumdan Burs Aliyor mu?, Burs Aldigi Baska Kurum, Baska Kurumdan Aldigi Burs Miktari, Anne Egitim Durumu, Anne Calisma Durumu, Anne Sektor, Baba Egitim Durumu, Baba Calisma Durumu, Baba Sektor, Kardes Sayisi, Girisimcilik Kulupleri Tarzi Bir Kulube Uye misiniz?, Uye Oldugunuz Kulubun Ismi, Profesyonel Bir Spor Daliyla Mesgul musunuz?, Spor Dalindaki Rolunuz Nedir?, Aktif olarak bir STK üyesi misiniz?, Hangi STK'nin Uyesisiniz?, Stk Projesine Katildiniz Mi?, Girisimcilikle Ilgili Deneyiminiz Var Mi?, Girisimcilikle Ilgili Deneyiminizi Aciklayabilir misiniz?, Ingilizce Biliyor musunuz?, Ingilizce Seviyeniz?, Daha Önceden Mezun Olunduysa, Mezun Olunan Üniversite, id]\n",
       "Index: []\n",
       "\n",
       "[0 rows x 44 columns]"
      ]
     },
     "execution_count": 4,
     "metadata": {},
     "output_type": "execute_result"
    }
   ],
   "source": [
    "df[df.duplicated()] "
   ]
  },
  {
   "cell_type": "markdown",
   "id": "b3a08820-098b-4cc5-a232-12faee64ebd6",
   "metadata": {},
   "source": [
    "> Veri setimiz hem <mark>kategorik</mark> hem de <mark>numerik</mark> değerlerden oluşmaktadır.\n",
    "Numerik değer ve kategorik değerlerin analizi yapılacak."
   ]
  },
  {
   "cell_type": "code",
   "execution_count": 5,
   "id": "a4912703-d70f-472f-916c-3c337e52a78f",
   "metadata": {
    "scrolled": true
   },
   "outputs": [
    {
     "data": {
      "text/plain": [
       "Basvuru Yili                                                   int64\n",
       "Degerlendirme Puani                                          float64\n",
       "Cinsiyet                                                      object\n",
       "Dogum Tarihi                                                  object\n",
       "Dogum Yeri                                                    object\n",
       "Ikametgah Sehri                                               object\n",
       "Universite Adi                                                object\n",
       "Universite Turu                                               object\n",
       "Burslu ise Burs Yuzdesi                                      float64\n",
       "Burs Aliyor mu?                                               object\n",
       "Bölüm                                                         object\n",
       "Universite Kacinci Sinif                                      object\n",
       "Universite Not Ortalamasi                                     object\n",
       "Daha Once Baska Bir Universiteden Mezun Olmus                 object\n",
       "Lise Adi                                                      object\n",
       "Lise Adi Diger                                                object\n",
       "Lise Sehir                                                    object\n",
       "Lise Turu                                                     object\n",
       "Lise Bolumu                                                   object\n",
       "Lise Bolum Diger                                              object\n",
       "Lise Mezuniyet Notu                                           object\n",
       "Baska Bir Kurumdan Burs Aliyor mu?                            object\n",
       "Burs Aldigi Baska Kurum                                       object\n",
       "Baska Kurumdan Aldigi Burs Miktari                            object\n",
       "Anne Egitim Durumu                                            object\n",
       "Anne Calisma Durumu                                           object\n",
       "Anne Sektor                                                   object\n",
       "Baba Egitim Durumu                                            object\n",
       "Baba Calisma Durumu                                           object\n",
       "Baba Sektor                                                   object\n",
       "Kardes Sayisi                                                 object\n",
       "Girisimcilik Kulupleri Tarzi Bir Kulube Uye misiniz?          object\n",
       "Uye Oldugunuz Kulubun Ismi                                    object\n",
       "Profesyonel Bir Spor Daliyla Mesgul musunuz?                  object\n",
       "Spor Dalindaki Rolunuz Nedir?                                 object\n",
       "Aktif olarak bir STK üyesi misiniz?                           object\n",
       "Hangi STK'nin Uyesisiniz?                                     object\n",
       "Stk Projesine Katildiniz Mi?                                  object\n",
       "Girisimcilikle Ilgili Deneyiminiz Var Mi?                     object\n",
       "Girisimcilikle Ilgili Deneyiminizi Aciklayabilir misiniz?     object\n",
       "Ingilizce Biliyor musunuz?                                    object\n",
       "Ingilizce Seviyeniz?                                          object\n",
       "Daha Önceden Mezun Olunduysa, Mezun Olunan Üniversite         object\n",
       "id                                                             int64\n",
       "dtype: object"
      ]
     },
     "execution_count": 5,
     "metadata": {},
     "output_type": "execute_result"
    }
   ],
   "source": [
    "df.dtypes"
   ]
  },
  {
   "cell_type": "code",
   "execution_count": 6,
   "id": "a81b4afc-6dbe-4f57-adfd-4f1f45be20d7",
   "metadata": {},
   "outputs": [],
   "source": [
    "for col in df.columns:\n",
    "    if df[col].dtype == 'object':\n",
    "        df[col] = df[col].str.lower()"
   ]
  },
  {
   "cell_type": "code",
   "execution_count": 7,
   "id": "b8e4eed3-1395-4f15-ab6f-d9358c573637",
   "metadata": {},
   "outputs": [],
   "source": [
    "df['Daha Önceden Mezun Olunduysa, Mezun Olunan Üniversite'] = df['Daha Önceden Mezun Olunduysa, Mezun Olunan Üniversite'].fillna(\"mezun değil\")"
   ]
  },
  {
   "cell_type": "code",
   "execution_count": 8,
   "id": "aba6544e-4ebb-4f05-991d-2e7b3c14a4d3",
   "metadata": {},
   "outputs": [],
   "source": [
    "df['Uye Oldugunuz Kulubun Ismi'] = df['Uye Oldugunuz Kulubun Ismi'].fillna('üyelik yok')"
   ]
  },
  {
   "cell_type": "code",
   "execution_count": 9,
   "id": "b2eeeabc-e272-424c-bbb6-893721ceff2a",
   "metadata": {},
   "outputs": [
    {
     "data": {
      "text/plain": [
       "0        100.0\n",
       "1        100.0\n",
       "2        100.0\n",
       "3        100.0\n",
       "4        100.0\n",
       "         ...  \n",
       "65120      0.0\n",
       "65121      0.0\n",
       "65122      0.0\n",
       "65123      0.0\n",
       "65124      0.0\n",
       "Name: Burslu ise Burs Yuzdesi, Length: 65125, dtype: float64"
      ]
     },
     "execution_count": 9,
     "metadata": {},
     "output_type": "execute_result"
    }
   ],
   "source": [
    "df['Burslu ise Burs Yuzdesi'].fillna(np.float64(0))"
   ]
  },
  {
   "cell_type": "code",
   "execution_count": 10,
   "id": "c05b636f-8162-4179-93fa-a0f52532baee",
   "metadata": {},
   "outputs": [],
   "source": [
    "df['Daha Once Baska Bir Universiteden Mezun Olmus'] = df['Daha Once Baska Bir Universiteden Mezun Olmus'].fillna('hayır')"
   ]
  },
  {
   "cell_type": "code",
   "execution_count": 11,
   "id": "a9127386-c017-493d-802a-5eea7237dcaf",
   "metadata": {},
   "outputs": [],
   "source": [
    "#df[(df['Ingilizce Seviyeniz?'] == '0') & (df['Ingilizce Biliyor musunuz?'] == 'Evet')]\n",
    "#df[(df['Ingilizce Seviyeniz?'].isna()) & (df['Ingilizce Biliyor musunuz?'] == 'Evet')]\n",
    "df['Ingilizce Seviyeniz?'] = df['Ingilizce Seviyeniz?'].fillna('0')"
   ]
  },
  {
   "cell_type": "code",
   "execution_count": 12,
   "id": "5fe0a02b-81d8-4bc3-8408-f1a03ad09748",
   "metadata": {},
   "outputs": [
    {
     "data": {
      "text/plain": [
       "array(['di̇ğer', '0', 'kaptan', 'bireysel', 'takım oyuncusu'],\n",
       "      dtype=object)"
      ]
     },
     "execution_count": 12,
     "metadata": {},
     "output_type": "execute_result"
    }
   ],
   "source": [
    "replace_roles = {\n",
    "    \"kaptan / li̇der\": \"kaptan\",\n",
    "    \"lider/kaptan\": \"kaptan\",\n",
    "    \"diğer\": \"di̇ğer\",\n",
    "    \"-\": '0',\n",
    "}\n",
    "\n",
    "df['Spor Dalindaki Rolunuz Nedir?'] = df['Spor Dalindaki Rolunuz Nedir?'].replace(replace_roles)\n",
    "df['Spor Dalindaki Rolunuz Nedir?'] = df['Spor Dalindaki Rolunuz Nedir?'].fillna('0')\n",
    "df['Spor Dalindaki Rolunuz Nedir?'].unique()"
   ]
  },
  {
   "cell_type": "code",
   "execution_count": 13,
   "id": "19a6b094-230b-4b20-948b-935e6a2d6b54",
   "metadata": {},
   "outputs": [],
   "source": [
    "df['Stk Projesine Katildiniz Mi?'] = df['Stk Projesine Katildiniz Mi?'].fillna('hayır')"
   ]
  },
  {
   "cell_type": "code",
   "execution_count": 14,
   "id": "89370630-b219-4f4b-967e-65a6736b949e",
   "metadata": {},
   "outputs": [
    {
     "data": {
      "text/plain": [
       "0        hayır\n",
       "1        hayır\n",
       "2        hayır\n",
       "3        hayır\n",
       "4        hayır\n",
       "         ...  \n",
       "65120    hayır\n",
       "65121    hayır\n",
       "65122    hayır\n",
       "65123    hayır\n",
       "65124     evet\n",
       "Name: Aktif olarak bir STK üyesi misiniz?, Length: 65125, dtype: object"
      ]
     },
     "execution_count": 14,
     "metadata": {},
     "output_type": "execute_result"
    }
   ],
   "source": [
    "df['Aktif olarak bir STK üyesi misiniz?'].fillna('hayır')"
   ]
  },
  {
   "cell_type": "code",
   "execution_count": 15,
   "id": "66b12573-1f2e-477b-8d29-6d425a7e1a3e",
   "metadata": {},
   "outputs": [],
   "source": [
    "df['Girisimcilikle Ilgili Deneyiminiz Var Mi?'] = df['Girisimcilikle Ilgili Deneyiminiz Var Mi?'].fillna('hayır')"
   ]
  },
  {
   "cell_type": "code",
   "execution_count": 16,
   "id": "4e60a310-6ba2-49a5-a204-0bdcae91e7a4",
   "metadata": {},
   "outputs": [],
   "source": [
    "df['Ingilizce Biliyor musunuz?'] = df['Ingilizce Biliyor musunuz?'].fillna('hayır')"
   ]
  },
  {
   "cell_type": "code",
   "execution_count": 17,
   "id": "91d831f8-ceff-41f3-9ff8-941c108273fe",
   "metadata": {},
   "outputs": [
    {
     "data": {
      "text/plain": [
       "array(['hayır', 'evet'], dtype=object)"
      ]
     },
     "execution_count": 17,
     "metadata": {},
     "output_type": "execute_result"
    }
   ],
   "source": [
    "df['Baska Bir Kurumdan Burs Aliyor mu?'] = df['Baska Bir Kurumdan Burs Aliyor mu?'].replace(np.nan, 'hayır')\n",
    "df['Baska Bir Kurumdan Burs Aliyor mu?'].unique()"
   ]
  },
  {
   "cell_type": "code",
   "execution_count": 18,
   "id": "09e61659-2c95-4011-a387-7148d52522de",
   "metadata": {},
   "outputs": [
    {
     "name": "stderr",
     "output_type": "stream",
     "text": [
      "/tmp/ipykernel_13887/57959371.py:25: FutureWarning: Downcasting behavior in `replace` is deprecated and will be removed in a future version. To retain the old behavior, explicitly call `result.infer_objects(copy=False)`. To opt-in to the future behavior, set `pd.set_option('future.no_silent_downcasting', True)`\n",
      "  df['Lise Mezuniyet Notu'] = df['Lise Mezuniyet Notu'].replace(lise_notes)\n"
     ]
    },
    {
     "data": {
      "text/plain": [
       "array([4, 5, 3, 1, 0, 2])"
      ]
     },
     "execution_count": 18,
     "metadata": {},
     "output_type": "execute_result"
    }
   ],
   "source": [
    "df['Lise Mezuniyet Notu'] =  df['Lise Mezuniyet Notu'].fillna('not ortalaması yok')\n",
    "\n",
    "lise_notes = {\n",
    "    'not ortalaması yok': 0,\n",
    "    '2.50 ve altı': 1,\n",
    "    '0 - 24': 1,\n",
    "    '0 - 25': 1,\n",
    "    '44-0': 1,\n",
    "    '25 - 49': 1,\n",
    "    '25 - 50': 1,\n",
    "    '54-45': 2,\n",
    "    '69-55': 3,\n",
    "    '3.00-2.50': 3,\n",
    "    '50 - 74': 4,\n",
    "    '50 - 75' : 4,\n",
    "    '3.50-3.00': 4,\n",
    "    '3.50-3': 4,\n",
    "    '84-70': 5,\n",
    "    '75 - 100': 5,\n",
    "    '100-85': 5,\n",
    "    '3.00 - 4.00': 5,\n",
    "    '4.00-3.50': 5,\n",
    "}\n",
    "\n",
    "df['Lise Mezuniyet Notu'] = df['Lise Mezuniyet Notu'].replace(lise_notes)\n",
    "df['Lise Mezuniyet Notu'].unique()"
   ]
  },
  {
   "cell_type": "code",
   "execution_count": 19,
   "id": "5d2330e5-b1fd-4a8b-8689-0cd4803fb7e8",
   "metadata": {},
   "outputs": [
    {
     "name": "stderr",
     "output_type": "stream",
     "text": [
      "/tmp/ipykernel_13887/1041912101.py:23: FutureWarning: Downcasting behavior in `replace` is deprecated and will be removed in a future version. To retain the old behavior, explicitly call `result.infer_objects(copy=False)`. To opt-in to the future behavior, set `pd.set_option('future.no_silent_downcasting', True)`\n",
      "  df['Universite Not Ortalamasi'] = df['Universite Not Ortalamasi'].replace(uni_notes)\n"
     ]
    },
    {
     "data": {
      "text/plain": [
       "array([3, 2, 0, 1, 4])"
      ]
     },
     "execution_count": 19,
     "metadata": {},
     "output_type": "execute_result"
    }
   ],
   "source": [
    "uni_notes = {\n",
    "    'ortalama bulunmuyor': 0,\n",
    "    'not ortalaması yok': 0,\n",
    "    'hazırlığım': 0,\n",
    "    '1.00 - 2.50': 1,\n",
    "    '2.50 ve altı':  1,\n",
    "    '1.80 - 2.49' : 1,\n",
    "    '0 - 1.79': 1,\n",
    "    '2.00 - 2.50': 1,\n",
    "    '2.50 - 2.99': 2,\n",
    "    '2.50 - 3.00': 2,\n",
    "    '2.50 -3.00': 2,\n",
    "    '3.00-2.50': 2,\n",
    "    '3.50-3': 3,\n",
    "    '3.00 - 3.50': 3,\n",
    "    '3.00 - 3.49': 3,\n",
    "    '3.00 - 4.00': 4,\n",
    "    '3.50 - 4.00': 4,\n",
    "    '4-3.5': 4,\n",
    "    '4.0-3.5': 4,\n",
    "}\n",
    "df['Universite Not Ortalamasi'] = df['Universite Not Ortalamasi'].fillna('not ortalaması yok')\n",
    "df['Universite Not Ortalamasi'] = df['Universite Not Ortalamasi'].replace(uni_notes)\n",
    "df['Universite Not Ortalamasi'].unique()"
   ]
  },
  {
   "cell_type": "code",
   "execution_count": 20,
   "id": "4318ead3-3826-4827-ac61-16bc8167438e",
   "metadata": {},
   "outputs": [],
   "source": [
    "df['Girisimcilik Kulupleri Tarzi Bir Kulube Uye misiniz?'] = df['Girisimcilik Kulupleri Tarzi Bir Kulube Uye misiniz?'].fillna('hayır')"
   ]
  },
  {
   "cell_type": "code",
   "execution_count": 21,
   "id": "27d3fc65-7c85-4660-9f35-1081119b7d03",
   "metadata": {},
   "outputs": [],
   "source": [
    "df['Profesyonel Bir Spor Daliyla Mesgul musunuz?'] = df['Profesyonel Bir Spor Daliyla Mesgul musunuz?'].fillna('hayır')"
   ]
  },
  {
   "cell_type": "code",
   "execution_count": 22,
   "id": "12ffd453-4673-4a38-b440-d2f7de2e340b",
   "metadata": {},
   "outputs": [],
   "source": [
    "df['Universite Kacinci Sinif'] = df['Universite Kacinci Sinif'].fillna(0)\n",
    "\n",
    "replace_grade = {\n",
    "    'tez': 'yüksek lisans'\n",
    "}\n",
    "\n",
    "df['Universite Kacinci Sinif'] = df['Universite Kacinci Sinif'].replace(replace_grade)"
   ]
  },
  {
   "cell_type": "code",
   "execution_count": 125,
   "id": "7299e937-5068-48df-89e3-85ed1edf04d8",
   "metadata": {},
   "outputs": [
    {
     "ename": "KeyError",
     "evalue": "'Lise Adi'",
     "output_type": "error",
     "traceback": [
      "\u001b[0;31m---------------------------------------------------------------------------\u001b[0m",
      "\u001b[0;31mKeyError\u001b[0m                                  Traceback (most recent call last)",
      "File \u001b[0;32m/usr/lib/python3.12/site-packages/pandas/core/indexes/base.py:3805\u001b[0m, in \u001b[0;36mIndex.get_loc\u001b[0;34m(self, key)\u001b[0m\n\u001b[1;32m   3804\u001b[0m \u001b[38;5;28;01mtry\u001b[39;00m:\n\u001b[0;32m-> 3805\u001b[0m     \u001b[38;5;28;01mreturn\u001b[39;00m \u001b[38;5;28;43mself\u001b[39;49m\u001b[38;5;241;43m.\u001b[39;49m\u001b[43m_engine\u001b[49m\u001b[38;5;241;43m.\u001b[39;49m\u001b[43mget_loc\u001b[49m\u001b[43m(\u001b[49m\u001b[43mcasted_key\u001b[49m\u001b[43m)\u001b[49m\n\u001b[1;32m   3806\u001b[0m \u001b[38;5;28;01mexcept\u001b[39;00m \u001b[38;5;167;01mKeyError\u001b[39;00m \u001b[38;5;28;01mas\u001b[39;00m err:\n",
      "File \u001b[0;32mindex.pyx:167\u001b[0m, in \u001b[0;36mpandas._libs.index.IndexEngine.get_loc\u001b[0;34m()\u001b[0m\n",
      "File \u001b[0;32mindex.pyx:196\u001b[0m, in \u001b[0;36mpandas._libs.index.IndexEngine.get_loc\u001b[0;34m()\u001b[0m\n",
      "File \u001b[0;32mpandas/_libs/hashtable_class_helper.pxi:7081\u001b[0m, in \u001b[0;36mpandas._libs.hashtable.PyObjectHashTable.get_item\u001b[0;34m()\u001b[0m\n",
      "File \u001b[0;32mpandas/_libs/hashtable_class_helper.pxi:7089\u001b[0m, in \u001b[0;36mpandas._libs.hashtable.PyObjectHashTable.get_item\u001b[0;34m()\u001b[0m\n",
      "\u001b[0;31mKeyError\u001b[0m: 'Lise Adi'",
      "\nThe above exception was the direct cause of the following exception:\n",
      "\u001b[0;31mKeyError\u001b[0m                                  Traceback (most recent call last)",
      "Cell \u001b[0;32mIn[125], line 10\u001b[0m\n\u001b[1;32m      6\u001b[0m df[\u001b[38;5;124m'\u001b[39m\u001b[38;5;124mLise Turu\u001b[39m\u001b[38;5;124m'\u001b[39m] \u001b[38;5;241m=\u001b[39m df[\u001b[38;5;124m'\u001b[39m\u001b[38;5;124mLise Turu\u001b[39m\u001b[38;5;124m'\u001b[39m]\u001b[38;5;241m.\u001b[39mreplace(replace_lise_turu)\n\u001b[1;32m      8\u001b[0m \u001b[38;5;66;03m# devlet  ve diger olanların 'Lise Adi'na bak\u001b[39;00m\n\u001b[1;32m      9\u001b[0m df\u001b[38;5;241m.\u001b[39mloc[(df[\u001b[38;5;124m'\u001b[39m\u001b[38;5;124mLise Turu\u001b[39m\u001b[38;5;124m'\u001b[39m]\u001b[38;5;241m==\u001b[39m\u001b[38;5;124m'\u001b[39m\u001b[38;5;124mdevlet\u001b[39m\u001b[38;5;124m'\u001b[39m) \u001b[38;5;241m|\u001b[39m (df[\u001b[38;5;124m'\u001b[39m\u001b[38;5;124mLise Turu\u001b[39m\u001b[38;5;124m'\u001b[39m]\u001b[38;5;241m==\u001b[39m\u001b[38;5;124m'\u001b[39m\u001b[38;5;124mdiger\u001b[39m\u001b[38;5;124m'\u001b[39m) \u001b[38;5;241m&\u001b[39m \n\u001b[0;32m---> 10\u001b[0m     (\u001b[43mdf\u001b[49m\u001b[43m[\u001b[49m\u001b[38;5;124;43m'\u001b[39;49m\u001b[38;5;124;43mLise Adi\u001b[39;49m\u001b[38;5;124;43m'\u001b[39;49m\u001b[43m]\u001b[49m\u001b[38;5;241m.\u001b[39mstr\u001b[38;5;241m.\u001b[39mcontains(\u001b[38;5;124m'\u001b[39m\u001b[38;5;124manadolu\u001b[39m\u001b[38;5;124m'\u001b[39m))] \u001b[38;5;241m=\u001b[39m \u001b[38;5;124m'\u001b[39m\u001b[38;5;124manadolu lisesi\u001b[39m\u001b[38;5;124m'\u001b[39m\n\u001b[1;32m     12\u001b[0m df\u001b[38;5;241m.\u001b[39mloc[(df[\u001b[38;5;124m'\u001b[39m\u001b[38;5;124mLise Turu\u001b[39m\u001b[38;5;124m'\u001b[39m]\u001b[38;5;241m==\u001b[39m\u001b[38;5;124m'\u001b[39m\u001b[38;5;124mdevlet\u001b[39m\u001b[38;5;124m'\u001b[39m) \u001b[38;5;241m|\u001b[39m (df[\u001b[38;5;124m'\u001b[39m\u001b[38;5;124mLise Turu\u001b[39m\u001b[38;5;124m'\u001b[39m]\u001b[38;5;241m==\u001b[39m\u001b[38;5;124m'\u001b[39m\u001b[38;5;124mdiger\u001b[39m\u001b[38;5;124m'\u001b[39m) \u001b[38;5;241m&\u001b[39m \n\u001b[1;32m     13\u001b[0m     (df[\u001b[38;5;124m'\u001b[39m\u001b[38;5;124mLise Adi\u001b[39m\u001b[38;5;124m'\u001b[39m]\u001b[38;5;241m.\u001b[39mstr\u001b[38;5;241m.\u001b[39mcontains(\u001b[38;5;124m'\u001b[39m\u001b[38;5;124mfen\u001b[39m\u001b[38;5;124m'\u001b[39m))] \u001b[38;5;241m=\u001b[39m \u001b[38;5;124m'\u001b[39m\u001b[38;5;124mfen lisesi\u001b[39m\u001b[38;5;124m'\u001b[39m\n\u001b[1;32m     15\u001b[0m df\u001b[38;5;241m.\u001b[39mloc[(df[\u001b[38;5;124m'\u001b[39m\u001b[38;5;124mLise Turu\u001b[39m\u001b[38;5;124m'\u001b[39m]\u001b[38;5;241m==\u001b[39m\u001b[38;5;124m'\u001b[39m\u001b[38;5;124mdevlet\u001b[39m\u001b[38;5;124m'\u001b[39m) \u001b[38;5;241m|\u001b[39m (df[\u001b[38;5;124m'\u001b[39m\u001b[38;5;124mLise Turu\u001b[39m\u001b[38;5;124m'\u001b[39m]\u001b[38;5;241m==\u001b[39m\u001b[38;5;124m'\u001b[39m\u001b[38;5;124mdiğer\u001b[39m\u001b[38;5;124m'\u001b[39m) \u001b[38;5;241m&\u001b[39m \n\u001b[1;32m     16\u001b[0m     (df[\u001b[38;5;124m'\u001b[39m\u001b[38;5;124mLise Adi\u001b[39m\u001b[38;5;124m'\u001b[39m]\u001b[38;5;241m.\u001b[39mstr\u001b[38;5;241m.\u001b[39mcontains(\u001b[38;5;124m'\u001b[39m\u001b[38;5;124maçık|acık|acik|acık|açik\u001b[39m\u001b[38;5;124m'\u001b[39m))] \u001b[38;5;241m=\u001b[39m \u001b[38;5;124m'\u001b[39m\u001b[38;5;124mdüz lise\u001b[39m\u001b[38;5;124m'\u001b[39m\n",
      "File \u001b[0;32m/usr/lib/python3.12/site-packages/pandas/core/frame.py:4102\u001b[0m, in \u001b[0;36mDataFrame.__getitem__\u001b[0;34m(self, key)\u001b[0m\n\u001b[1;32m   4100\u001b[0m \u001b[38;5;28;01mif\u001b[39;00m \u001b[38;5;28mself\u001b[39m\u001b[38;5;241m.\u001b[39mcolumns\u001b[38;5;241m.\u001b[39mnlevels \u001b[38;5;241m>\u001b[39m \u001b[38;5;241m1\u001b[39m:\n\u001b[1;32m   4101\u001b[0m     \u001b[38;5;28;01mreturn\u001b[39;00m \u001b[38;5;28mself\u001b[39m\u001b[38;5;241m.\u001b[39m_getitem_multilevel(key)\n\u001b[0;32m-> 4102\u001b[0m indexer \u001b[38;5;241m=\u001b[39m \u001b[38;5;28;43mself\u001b[39;49m\u001b[38;5;241;43m.\u001b[39;49m\u001b[43mcolumns\u001b[49m\u001b[38;5;241;43m.\u001b[39;49m\u001b[43mget_loc\u001b[49m\u001b[43m(\u001b[49m\u001b[43mkey\u001b[49m\u001b[43m)\u001b[49m\n\u001b[1;32m   4103\u001b[0m \u001b[38;5;28;01mif\u001b[39;00m is_integer(indexer):\n\u001b[1;32m   4104\u001b[0m     indexer \u001b[38;5;241m=\u001b[39m [indexer]\n",
      "File \u001b[0;32m/usr/lib/python3.12/site-packages/pandas/core/indexes/base.py:3812\u001b[0m, in \u001b[0;36mIndex.get_loc\u001b[0;34m(self, key)\u001b[0m\n\u001b[1;32m   3807\u001b[0m     \u001b[38;5;28;01mif\u001b[39;00m \u001b[38;5;28misinstance\u001b[39m(casted_key, \u001b[38;5;28mslice\u001b[39m) \u001b[38;5;129;01mor\u001b[39;00m (\n\u001b[1;32m   3808\u001b[0m         \u001b[38;5;28misinstance\u001b[39m(casted_key, abc\u001b[38;5;241m.\u001b[39mIterable)\n\u001b[1;32m   3809\u001b[0m         \u001b[38;5;129;01mand\u001b[39;00m \u001b[38;5;28many\u001b[39m(\u001b[38;5;28misinstance\u001b[39m(x, \u001b[38;5;28mslice\u001b[39m) \u001b[38;5;28;01mfor\u001b[39;00m x \u001b[38;5;129;01min\u001b[39;00m casted_key)\n\u001b[1;32m   3810\u001b[0m     ):\n\u001b[1;32m   3811\u001b[0m         \u001b[38;5;28;01mraise\u001b[39;00m InvalidIndexError(key)\n\u001b[0;32m-> 3812\u001b[0m     \u001b[38;5;28;01mraise\u001b[39;00m \u001b[38;5;167;01mKeyError\u001b[39;00m(key) \u001b[38;5;28;01mfrom\u001b[39;00m \u001b[38;5;21;01merr\u001b[39;00m\n\u001b[1;32m   3813\u001b[0m \u001b[38;5;28;01mexcept\u001b[39;00m \u001b[38;5;167;01mTypeError\u001b[39;00m:\n\u001b[1;32m   3814\u001b[0m     \u001b[38;5;66;03m# If we have a listlike key, _check_indexing_error will raise\u001b[39;00m\n\u001b[1;32m   3815\u001b[0m     \u001b[38;5;66;03m#  InvalidIndexError. Otherwise we fall through and re-raise\u001b[39;00m\n\u001b[1;32m   3816\u001b[0m     \u001b[38;5;66;03m#  the TypeError.\u001b[39;00m\n\u001b[1;32m   3817\u001b[0m     \u001b[38;5;28mself\u001b[39m\u001b[38;5;241m.\u001b[39m_check_indexing_error(key)\n",
      "\u001b[0;31mKeyError\u001b[0m: 'Lise Adi'"
     ]
    }
   ],
   "source": [
    "replace_lise_turu = {\n",
    "    \"özel\": \"özel lise\",\n",
    "    \"özel lisesi\": \"özel lise\",\n",
    "    \"meslek\": \"meslek lisesi\",\n",
    "}\n",
    "df['Lise Turu'] = df['Lise Turu'].replace(replace_lise_turu)\n",
    "\n",
    "# devlet  ve diger olanların 'Lise Adi'na bak\n",
    "df.loc[(df['Lise Turu']=='devlet') | (df['Lise Turu']=='diger') & \n",
    "    (df['Lise Adi'].str.contains('anadolu'))] = 'anadolu lisesi'\n",
    "\n",
    "df.loc[(df['Lise Turu']=='devlet') | (df['Lise Turu']=='diger') & \n",
    "    (df['Lise Adi'].str.contains('fen'))] = 'fen lisesi'\n",
    "\n",
    "df.loc[(df['Lise Turu']=='devlet') | (df['Lise Turu']=='diğer') & \n",
    "    (df['Lise Adi'].str.contains('açık|acık|acik|acık|açik'))] = 'düz lise'\n",
    "\n",
    "df.loc[(df['Lise Turu']=='devlet') | (df['Lise Turu']=='diğer') & \n",
    "    (df['Lise Adi'].str.contains('imam|ihl|i.h.l|ih'))] = 'i̇mam hatip lisesi'\n",
    "\n",
    "df.loc[(df['Lise Turu']=='devlet') | (df['Lise Turu']=='diğer') & \n",
    "    (df['Lise Adi'].str.contains('meslek|mtal|m.t.a.l|mes|mes.|atml|a.t.m.l|mesleki'))] = 'meslek lisesi'\n",
    "\n",
    "df['Lise Turu'].unique()"
   ]
  },
  {
   "cell_type": "code",
   "execution_count": 23,
   "id": "c7973209-1ad9-4449-8747-81f9d9d6b05c",
   "metadata": {
    "scrolled": true
   },
   "outputs": [
    {
     "data": {
      "text/plain": [
       "(65125, 42)"
      ]
     },
     "execution_count": 23,
     "metadata": {},
     "output_type": "execute_result"
    }
   ],
   "source": [
    "df = df.drop([\"Lise Adi\", \"Lise Adi Diger\"], axis=1)\n",
    "df.shape"
   ]
  },
  {
   "cell_type": "code",
   "execution_count": 24,
   "id": "a7e5c179-ce05-4d02-a189-0b9174995ed0",
   "metadata": {
    "scrolled": true
   },
   "outputs": [
    {
     "data": {
      "text/plain": [
       "array(['sayısal', 'diğer', 'eşit ağırlık', 'sözel', 'dil'], dtype=object)"
      ]
     },
     "execution_count": 24,
     "metadata": {},
     "output_type": "execute_result"
    }
   ],
   "source": [
    "replace_bolum = {\n",
    "    'düz lise bölüm yok': 'alan yok',\n",
    "    'alansız': 'alan yok',\n",
    "    'alan ayrımı yok': 'alan yok',\n",
    "    'alan ayrımı.olmayan lise': 'alan yok',\n",
    "    'bölüm ayrımı olmayanlar': 'alan yok',\n",
    "    'bölüm ayrımı bulunmamaktadır.': 'alan yok',\n",
    "    'alan ayrimi olmayanlar': 'alan yok',\n",
    "    '-': 'alan yok',\n",
    "    'yok': 'alan yok',\n",
    "    'alan bulunmayan özel lise': 'alan yok',\n",
    "    '': 'alan yok',\n",
    "    'alansız': 'alan yok',\n",
    "    'bölüm yok': 'alan yok',\n",
    "    'alan ayrimi olmayanlar': 'alan yok',\n",
    "    '_': 'alan yok',\n",
    "    '.': 'alan yok',\n",
    "    'bölüm yoktu': 'alan yok',\n",
    "    'bolum yok': 'alan yok',\n",
    "    'bölüm ayrımı olmayan': 'alan yok'\n",
    "}\n",
    "\n",
    "df['Lise Bolumu'] = df['Lise Bolumu'].replace(replace_bolum)\n",
    "\n",
    "df.loc[df['Lise Bolumu'].isnull() & df['Lise Bolum Diger'].notnull(), 'Lise Bolumu'] = df['Lise Bolum Diger']\n",
    "\n",
    "df = df.dropna(subset=['Lise Bolumu'])\n",
    "\n",
    "filtered_sayisal = df['Lise Bolumu'].str.contains(\"fen|mf|sayısal|sayisal|fm|m-f\")\n",
    "filtered_ea = df['Lise Bolumu'].str.contains(\"eşit ağırlık|esit agırlık|ea|tm|türkçe-matematik|türkçe matematik|turkce matematik|eşit agırlık|esıt agırlık|türkçe-mat|esi̇t agirlik|eşit agırlık|eşit agırlık|türkçe-mat|turkce-matematik|eşi̇t agirlik|türkçe -matematik|e-a|türkçe ve matematik|eşi̇t ağirlik|eşitağırlık|türkçe- matematik|turkce-matematık|turkce ve matematık|matematik-türkçe|turkce matemati̇k|esitagirlik|türkçe - matematik|t-m|t.m\")\n",
    "filtered_ts = df['Lise Bolumu'].str.contains(\"sözel|sozel|türkçe-sosyal|türkçe sosyal|sosyal bilimler|ts|t/s\")\n",
    "filtered_dil = df['Lise Bolumu'].str.contains(\"dil|ingilizce|yabancı di̇l\")\n",
    "\n",
    "combine = pd.concat([filtered_sayisal, filtered_ea, filtered_ts, filtered_dil])\n",
    "\n",
    "filtered_another = df[~df['Lise Bolumu'].isin(combine)]\n",
    "\n",
    "df.loc[df['Lise Turu'] == 'meslek lisesi', 'Lise Bolumu'] = 'diğer'\n",
    "df.loc[filtered_sayisal, 'Lise Bolumu'] = 'sayısal'\n",
    "df.loc[filtered_ea, 'Lise Bolumu'] = 'eşit ağırlık'\n",
    "df.loc[filtered_ts, 'Lise Bolumu'] = 'sözel'\n",
    "df.loc[filtered_dil, 'Lise Bolumu'] = 'dil'\n",
    "\n",
    "invalid_ids = df.loc[~df['Lise Bolumu'].isin(['diğer', 'sayısal', 'eşit ağırlık', 'sözel', 'dil']), 'id'].tolist()\n",
    "df = df[~df['id'].isin(invalid_ids)]\n",
    "\n",
    "df['Lise Bolumu'].unique()\n"
   ]
  },
  {
   "cell_type": "code",
   "execution_count": 68,
   "id": "8f0f3e02-0c61-4290-923e-1fd0c992c984",
   "metadata": {},
   "outputs": [
    {
     "data": {
      "text/plain": [
       "array([1, 0], dtype=object)"
      ]
     },
     "execution_count": 68,
     "metadata": {},
     "output_type": "execute_result"
    }
   ],
   "source": [
    "df['Girisimcilikle Ilgili Deneyiminizi Aciklayabilir misiniz?'] = df['Girisimcilikle Ilgili Deneyiminizi Aciklayabilir misiniz?'].fillna(0)\n",
    "\n",
    "filtered = df['Girisimcilikle Ilgili Deneyiminizi Aciklayabilir misiniz?'].str.contains('girişimim yok|yer almak cok isterim|görev almayı çok isterim|deneyimim yok', na=False)\n",
    "\n",
    "df.loc[filtered, 'Girisimcilikle Ilgili Deneyiminizi Aciklayabilir misiniz?'] = 0\n",
    "\n",
    "df.loc[~filtered, 'Girisimcilikle Ilgili Deneyiminizi Aciklayabilir misiniz?'] = 1\n",
    "\n",
    "df['Girisimcilikle Ilgili Deneyiminizi Aciklayabilir misiniz?'].unique()\n"
   ]
  },
  {
   "cell_type": "code",
   "execution_count": 72,
   "id": "6de33ad5-6eaf-4ee0-858d-0309731508c0",
   "metadata": {},
   "outputs": [
    {
     "data": {
      "text/plain": [
       "(63495, 41)"
      ]
     },
     "execution_count": 72,
     "metadata": {},
     "output_type": "execute_result"
    }
   ],
   "source": [
    "df = df.drop(['Hangi STK\\'nin Uyesisiniz?'], axis=1)\n",
    "df.shape"
   ]
  },
  {
   "cell_type": "code",
   "execution_count": 27,
   "id": "a2e202da-f1f6-42b2-ad90-95bf8f863418",
   "metadata": {},
   "outputs": [],
   "source": [
    "tr = pd.read_csv(\"il_ilce.csv\")"
   ]
  },
  {
   "cell_type": "code",
   "execution_count": 28,
   "id": "801fe8dc-2bdd-4cb4-a7d8-4260f772a99d",
   "metadata": {},
   "outputs": [
    {
     "data": {
      "text/plain": [
       "array(['adana', 'adıyaman', 'afyonkarahisar', 'aksaray', 'amasya',\n",
       "       'ankara', 'antalya', 'ardahan', 'artvin', 'aydın', 'ağrı',\n",
       "       'balıkesir', 'bartın', 'batman', 'bayburt', 'bilecik', 'bingöl',\n",
       "       'bitlis', 'bolu', 'burdur', 'bursa', 'denizli', 'diyarbakır',\n",
       "       'düzce', 'edirne', 'elazığ', 'erzincan', 'erzurum', 'eskişehir',\n",
       "       'gaziantep', 'giresun', 'gümüşhane', 'hakkâri', 'hatay', 'isparta',\n",
       "       'iğdır', 'kahramanmaraş', 'karabük', 'karaman', 'kars',\n",
       "       'kastamonu', 'kayseri', 'kilis', 'kocaeli', 'konya', 'kütahya',\n",
       "       'kırklareli', 'kırıkkale', 'kırşehir', 'malatya', 'manisa',\n",
       "       'mardin', 'mersin', 'muğla', 'muş', 'nevşehir', 'niğde', 'ordu',\n",
       "       'osmaniye', 'rize', 'sakarya', 'samsun', 'siirt', 'sinop', 'sivas',\n",
       "       'tekirdağ', 'tokat', 'trabzon', 'tunceli', 'uşak', 'van', 'yalova',\n",
       "       'yozgat', 'zonguldak', 'çanakkale', 'çankırı', 'çorum',\n",
       "       'i̇stanbul', 'i̇zmir', 'şanlıurfa', 'şırnak', 'kosova', 'bakü',\n",
       "       'kıbrıs', 'almanya', 'norveç', 'abd', 'ukrayna'], dtype=object)"
      ]
     },
     "execution_count": 28,
     "metadata": {},
     "output_type": "execute_result"
    }
   ],
   "source": [
    "for col in tr.columns:\n",
    "    if tr[col].dtype == 'object':\n",
    "        tr[col] = tr[col].str.lower()\n",
    "tr[\"il\"].unique()"
   ]
  },
  {
   "cell_type": "code",
   "execution_count": 29,
   "id": "9e02b303-16b7-4787-a866-6f22ff8eec3e",
   "metadata": {},
   "outputs": [
    {
     "name": "stderr",
     "output_type": "stream",
     "text": [
      "<>:1: SyntaxWarning: invalid escape sequence '\\/'\n",
      "<>:1: SyntaxWarning: invalid escape sequence '\\/'\n",
      "/tmp/ipykernel_13887/1851444829.py:1: SyntaxWarning: invalid escape sequence '\\/'\n",
      "  \"\"\"tr2 = tr.set_index('ilce')\n"
     ]
    },
    {
     "data": {
      "text/plain": [
       "'tr2 = tr.set_index(\\'ilce\\')\\n\\ndef process_cities(df, data, fill_data, data_map):\\n    df[data] = df[data].str.replace(\\'ı\\', \\'i\\', regex=False)\\n    df.loc[df[data].isnull() & df[fill_data].notnull(), data] = df[fill_data]\\n    \\n    \\n    df = df.dropna(subset=[data])\\n\\n    df[data] = df[data].apply(\\n        lambda x: unicodedata.normalize(\\'NFKD\\', x.strip().lower()).encode(\\'ASCII\\', \\'ignore\\').decode(\\'ASCII\\')\\n    )\\n\\n    df[data] = df[data].apply(\\n        lambda x: re.split(r\\'[\\\\/\\\\-,~ ]\\', x)[-1].strip()\\n    )\\n\\n    df[data] =  df[data].replace(data_map)\\n\\n    ids_to_drop = []\\n\\n    for city, id_ in zip(df[data], df[\"id\"]):\\n        if city not in tr[\"il\"]: # verisetinde olmamasının nedini yazım yanlışlığı olabilir\\n            match_city = get_close_matches(city, tr2[\"il\"]) # yazımı kontrol et\\n            if match_city: # match bulundu ise\\n                df.loc[df[\"id\"]==id_, data] = match_city[0] # yazımı düzelt\\n            else: # şehir match\\'ı bulunmadı \\n                match_district = get_close_matches(city, tr[\"ilce\"]) # tr\\'deki ilçeleri kontrol et\\n                if match_district: # ilçe varsa\\n                    province = tr.loc[tr[\\'ilce\\'] == match_district[0], \\'il\\'].values  \\n                    if len(province) > 0: # ilçe verisetinde var ise\\n                        df.loc[df[\"id\"] == id_, data] = province[0]\\n                    else: # ilçe, veri setinde yok ise\\n                        print(\"TR veri setinde yok\", id_, \"   \", city)\\n                else: # ilçe match\\'ı bulunmadıysa\\n                    ids_to_drop.append(id_)\\n                    print(\"MATCH YOK: \", id_, \"   \", city)\\n            \\n    df = df[~df[\"id\"].isin(ids_to_drop)]\\n    return df'"
      ]
     },
     "execution_count": 29,
     "metadata": {},
     "output_type": "execute_result"
    }
   ],
   "source": [
    "\"\"\"tr2 = tr.set_index('ilce')\n",
    "\n",
    "def process_cities(df, data, fill_data, data_map):\n",
    "    df[data] = df[data].str.replace('ı', 'i', regex=False)\n",
    "    df.loc[df[data].isnull() & df[fill_data].notnull(), data] = df[fill_data]\n",
    "    \n",
    "    \n",
    "    df = df.dropna(subset=[data])\n",
    "\n",
    "    df[data] = df[data].apply(\n",
    "        lambda x: unicodedata.normalize('NFKD', x.strip().lower()).encode('ASCII', 'ignore').decode('ASCII')\n",
    "    )\n",
    "\n",
    "    df[data] = df[data].apply(\n",
    "        lambda x: re.split(r'[\\/\\-,~ ]', x)[-1].strip()\n",
    "    )\n",
    "\n",
    "    df[data] =  df[data].replace(data_map)\n",
    "\n",
    "    ids_to_drop = []\n",
    "\n",
    "    for city, id_ in zip(df[data], df[\"id\"]):\n",
    "        if city not in tr[\"il\"]: # verisetinde olmamasının nedini yazım yanlışlığı olabilir\n",
    "            match_city = get_close_matches(city, tr2[\"il\"]) # yazımı kontrol et\n",
    "            if match_city: # match bulundu ise\n",
    "                df.loc[df[\"id\"]==id_, data] = match_city[0] # yazımı düzelt\n",
    "            else: # şehir match'ı bulunmadı \n",
    "                match_district = get_close_matches(city, tr[\"ilce\"]) # tr'deki ilçeleri kontrol et\n",
    "                if match_district: # ilçe varsa\n",
    "                    province = tr.loc[tr['ilce'] == match_district[0], 'il'].values  \n",
    "                    if len(province) > 0: # ilçe verisetinde var ise\n",
    "                        df.loc[df[\"id\"] == id_, data] = province[0]\n",
    "                    else: # ilçe, veri setinde yok ise\n",
    "                        print(\"TR veri setinde yok\", id_, \"   \", city)\n",
    "                else: # ilçe match'ı bulunmadıysa\n",
    "                    ids_to_drop.append(id_)\n",
    "                    print(\"MATCH YOK: \", id_, \"   \", city)\n",
    "            \n",
    "    df = df[~df[\"id\"].isin(ids_to_drop)]\n",
    "    return df\"\"\"\n"
   ]
  },
  {
   "cell_type": "code",
   "execution_count": 30,
   "id": "98bc5f74-f590-4d14-b8d1-103cc9a7fc63",
   "metadata": {
    "scrolled": true
   },
   "outputs": [
    {
     "data": {
      "text/plain": [
       "'replace_ikametgah = {\\n    \"ş.urfa\": \"şanlıurfa\",\\n    \"k.maraş\": \"kahramanmaraş\"\\n}\\n\\ndf = process_cities(df, \\'Ikametgah Sehri\\', \\'Lise Sehir\\', replace_ikametgah)'"
      ]
     },
     "execution_count": 30,
     "metadata": {},
     "output_type": "execute_result"
    }
   ],
   "source": [
    "\"\"\"replace_ikametgah = {\n",
    "    \"ş.urfa\": \"şanlıurfa\",\n",
    "    \"k.maraş\": \"kahramanmaraş\"\n",
    "}\n",
    "\n",
    "df = process_cities(df, 'Ikametgah Sehri', 'Lise Sehir', replace_ikametgah)\"\"\""
   ]
  },
  {
   "cell_type": "code",
   "execution_count": 31,
   "id": "ae72aa23-4703-4ee0-860e-5fb0590a8786",
   "metadata": {
    "scrolled": true
   },
   "outputs": [
    {
     "data": {
      "text/plain": [
       "'replace_lise_sehir = {\\n    \"ist.\" : \"istanbul\",\\n    \"istanbulkucukcekmece\": \"istanbul\",\\n    \"ş.urfa\": \"şanlıurfa\",\\n    \"k.maraş\": \"kahramanmaraş\"\\n}\\n\\ndf = process_cities(df, \\'Lise Sehir\\', \\'Ikametgah Sehri\\', replace_lise_sehir)\\ndf = df[~df[\\'Lise Sehir\\'].isin([\\'\\', \\'shkoder\\', \\'asdasd\\'])]'"
      ]
     },
     "execution_count": 31,
     "metadata": {},
     "output_type": "execute_result"
    }
   ],
   "source": [
    "\"\"\"replace_lise_sehir = {\n",
    "    \"ist.\" : \"istanbul\",\n",
    "    \"istanbulkucukcekmece\": \"istanbul\",\n",
    "    \"ş.urfa\": \"şanlıurfa\",\n",
    "    \"k.maraş\": \"kahramanmaraş\"\n",
    "}\n",
    "\n",
    "df = process_cities(df, 'Lise Sehir', 'Ikametgah Sehri', replace_lise_sehir)\n",
    "df = df[~df['Lise Sehir'].isin(['', 'shkoder', 'asdasd'])]\"\"\""
   ]
  },
  {
   "cell_type": "code",
   "execution_count": 32,
   "id": "4159bc1c-3e47-4d7b-96e9-8c3a95c86ede",
   "metadata": {
    "scrolled": true
   },
   "outputs": [
    {
     "data": {
      "text/plain": [
       "'replace_dy = {\\n    \"ş.urfa\": \"şanlıurfa\",\\n    \"k.maras\": \"kahramanmaraş\",\\n    \"k.maraş\": \"kahramanmaraş\",\\n    \"ist.\" : \"istanbul\",\\n    \"eyup\": \"eyüpsultan\",\\n    \"gumushacikoy\": \"gümüşhacıköy\",\\n    \"cicekdagi\": \"çiçekdağı\",\\n    \"sevastopol\": \"sivastopol\",\\n    \"yigilca\": \"yığılca\"\\n}\\n\\ndf = process_cities(df, \\'Dogum Yeri\\', \\'Ikametgah Sehri\\', replace_dy)'"
      ]
     },
     "execution_count": 32,
     "metadata": {},
     "output_type": "execute_result"
    }
   ],
   "source": [
    "\"\"\"replace_dy = {\n",
    "    \"ş.urfa\": \"şanlıurfa\",\n",
    "    \"k.maras\": \"kahramanmaraş\",\n",
    "    \"k.maraş\": \"kahramanmaraş\",\n",
    "    \"ist.\" : \"istanbul\",\n",
    "    \"eyup\": \"eyüpsultan\",\n",
    "    \"gumushacikoy\": \"gümüşhacıköy\",\n",
    "    \"cicekdagi\": \"çiçekdağı\",\n",
    "    \"sevastopol\": \"sivastopol\",\n",
    "    \"yigilca\": \"yığılca\"\n",
    "}\n",
    "\n",
    "df = process_cities(df, 'Dogum Yeri', 'Ikametgah Sehri', replace_dy)\"\"\""
   ]
  },
  {
   "cell_type": "code",
   "execution_count": 33,
   "id": "d7803a38-3e24-4390-97d5-4b00d596164d",
   "metadata": {},
   "outputs": [
    {
     "data": {
      "text/plain": [
       "array([ 1,  6, 10,  3,  0,  4,  2,  5,  7,  8, 11,  9, 12, 13, 14])"
      ]
     },
     "execution_count": 33,
     "metadata": {},
     "output_type": "execute_result"
    }
   ],
   "source": [
    "replace_sentence = {\n",
    "    'kardeş sayısı 1 ek bilgi aile hk. anne vefat': 1\n",
    "}\n",
    "\n",
    "df[\"Kardes Sayisi\"] = df[\"Kardes Sayisi\"].replace(replace_sentence)\n",
    "\n",
    "df['Kardes Sayisi'] = pd.to_numeric(df['Kardes Sayisi'])\n",
    "\n",
    "df[\"Kardes Sayisi\"] = df[\"Kardes Sayisi\"].fillna(0)\n",
    "\n",
    "df[\"Kardes Sayisi\"] = df[\"Kardes Sayisi\"].astype(int)\n",
    "\n",
    "df[\"Kardes Sayisi\"].unique()"
   ]
  },
  {
   "cell_type": "code",
   "execution_count": 34,
   "id": "a916affc-749d-4f56-95c9-8f4d0444f4ad",
   "metadata": {},
   "outputs": [
    {
     "data": {
      "text/plain": [
       "array([2014, 2015, 2016, 2017, 2018, 2019, 2020, 2021, 2022])"
      ]
     },
     "execution_count": 34,
     "metadata": {},
     "output_type": "execute_result"
    }
   ],
   "source": [
    "df['Basvuru Yili'].unique()"
   ]
  },
  {
   "cell_type": "code",
   "execution_count": 51,
   "id": "9c44b1b5-d3bc-40fe-ab70-607c83abbe6d",
   "metadata": {},
   "outputs": [],
   "source": [
    "df['Basvuru Yili'] = pd.to_datetime(df['Basvuru Yili'], format='%Y')"
   ]
  },
  {
   "cell_type": "code",
   "execution_count": 52,
   "id": "39bcbeb8-b9a2-4ddd-8cb6-5412df8e8b9c",
   "metadata": {
    "scrolled": true
   },
   "outputs": [],
   "source": [
    "df['Dogum Tarihi']= df['Dogum Tarihi'].replace(to_replace='\\\\.', value=\"/\", regex=True)"
   ]
  },
  {
   "cell_type": "code",
   "execution_count": 53,
   "id": "db2d34f0-cc00-436b-b5d3-d95a15000847",
   "metadata": {
    "scrolled": true
   },
   "outputs": [],
   "source": [
    "df['Dogum Tarihi']= df['Dogum Tarihi'].replace(to_replace='ocak', value='/01/', regex=True)\n",
    "df['Dogum Tarihi']= df['Dogum Tarihi'].replace(to_replace='subat', value='/02/', regex=True)\n",
    "df['Dogum Tarihi']= df['Dogum Tarihi'].replace(to_replace='mart', value='/03/', regex=True)\n",
    "df['Dogum Tarihi']= df['Dogum Tarihi'].replace(to_replace='nisan', value='/04/', regex=True)\n",
    "df['Dogum Tarihi']= df['Dogum Tarihi'].replace(to_replace='mayis', value='/05/', regex=True)\n",
    "df['Dogum Tarihi']= df['Dogum Tarihi'].replace(to_replace='haziran', value='/06/', regex=True)\n",
    "df['Dogum Tarihi']= df['Dogum Tarihi'].replace(to_replace='temmuz', value='/07/', regex=True)\n",
    "df['Dogum Tarihi']= df['Dogum Tarihi'].replace(to_replace='ağustos', value='/08/', regex=True)\n",
    "df['Dogum Tarihi']= df['Dogum Tarihi'].replace(to_replace='eylül', value='/09/', regex=True)\n",
    "df['Dogum Tarihi']= df['Dogum Tarihi'].replace(to_replace='ekim', value='/10/', regex=True)\n",
    "df['Dogum Tarihi']= df['Dogum Tarihi'].replace(to_replace='kasim', value='/11/', regex=True)\n",
    "df['Dogum Tarihi']= df['Dogum Tarihi'].replace(to_replace='aralik', value='/12/', regex=True)"
   ]
  },
  {
   "cell_type": "code",
   "execution_count": 54,
   "id": "a08c9be2-5512-44ea-ad3b-d3e82ad782b6",
   "metadata": {
    "scrolled": true
   },
   "outputs": [],
   "source": [
    "df['Dogum Tarihi']= df['Dogum Tarihi'].replace(to_replace='\\\\_', value=\"\", regex=True)"
   ]
  },
  {
   "cell_type": "code",
   "execution_count": 55,
   "id": "6c0dc85f-9ba0-40a5-928e-8fc9ab4c6179",
   "metadata": {
    "scrolled": true
   },
   "outputs": [],
   "source": [
    "df['Dogum Tarihi'] = pd.to_datetime(df['Dogum Tarihi'], format='mixed', errors='coerce')"
   ]
  },
  {
   "cell_type": "code",
   "execution_count": 56,
   "id": "1926b18f-7c8a-42ae-b009-a3eef722e751",
   "metadata": {},
   "outputs": [
    {
     "data": {
      "text/plain": [
       "(0, 42)"
      ]
     },
     "execution_count": 56,
     "metadata": {},
     "output_type": "execute_result"
    }
   ],
   "source": [
    "df.loc[df['Dogum Tarihi'].isnull() == True].shape"
   ]
  },
  {
   "cell_type": "code",
   "execution_count": 57,
   "id": "298dc873-454d-4fc8-872d-bd7f83216f3a",
   "metadata": {},
   "outputs": [],
   "source": [
    "df.dropna(subset='Dogum Tarihi', inplace=True)"
   ]
  },
  {
   "cell_type": "code",
   "execution_count": 110,
   "id": "3e5c3c9f-811a-44bb-97ce-f8794244844b",
   "metadata": {},
   "outputs": [
    {
     "data": {
      "text/plain": [
       "0                NaN\n",
       "1                NaN\n",
       "2                NaN\n",
       "3                NaN\n",
       "4                NaN\n",
       "            ...     \n",
       "65120              -\n",
       "65121              -\n",
       "65122    500₺ - 999₺\n",
       "65123              -\n",
       "65124    500₺ - 999₺\n",
       "Name: Baska Kurumdan Aldigi Burs Miktari, Length: 63495, dtype: object"
      ]
     },
     "execution_count": 110,
     "metadata": {},
     "output_type": "execute_result"
    }
   ],
   "source": [
    "df_deneme = df.copy()\n",
    "df_deneme['Baska Kurumdan Aldigi Burs Miktari']"
   ]
  },
  {
   "cell_type": "code",
   "execution_count": 111,
   "id": "f1bafa61-1bf1-4f5a-9fe5-404cfbff9ad9",
   "metadata": {},
   "outputs": [
    {
     "name": "stderr",
     "output_type": "stream",
     "text": [
      "<>:11: SyntaxWarning: invalid escape sequence '\\d'\n",
      "<>:11: SyntaxWarning: invalid escape sequence '\\d'\n",
      "/tmp/ipykernel_13887/297223768.py:11: SyntaxWarning: invalid escape sequence '\\d'\n",
      "  ), 'Baska Kurumdan Aldigi Burs Miktari'].str.findall('\\d+').fillna(\"-\")\n"
     ]
    }
   ],
   "source": [
    "df_deneme.loc[\n",
    "                        ~((df_deneme['Baska Kurumdan Aldigi Burs Miktari'] == '1000₺ ve üstü')\n",
    "                              | (df_deneme['Baska Kurumdan Aldigi Burs Miktari'] ==  '500₺ - 999₺')\n",
    "                              | (df_deneme['Baska Kurumdan Aldigi Burs Miktari'] == '0 - 499₺')\n",
    "                              | (df_deneme['Baska Kurumdan Aldigi Burs Miktari'] == '-')\n",
    "                                ), 'Baska Kurumdan Aldigi Burs Miktari'] = df_deneme.loc[\n",
    "                        ~((df_deneme['Baska Kurumdan Aldigi Burs Miktari'] == '1000₺ ve üstü')\n",
    "                              | (df_deneme['Baska Kurumdan Aldigi Burs Miktari'] ==  '500₺ - 999₺')\n",
    "                              | (df_deneme['Baska Kurumdan Aldigi Burs Miktari'] == '0 - 499₺')\n",
    "                              | (df_deneme['Baska Kurumdan Aldigi Burs Miktari'] == '-')\n",
    "                                ), 'Baska Kurumdan Aldigi Burs Miktari'].str.findall('\\d+').fillna(\"-\")"
   ]
  },
  {
   "cell_type": "code",
   "execution_count": 112,
   "id": "fed482ef-98f3-4284-97c2-6acbbbaa3716",
   "metadata": {},
   "outputs": [],
   "source": [
    "df_deneme.drop(df_deneme.loc[\n",
    "                        ~((df_deneme['Baska Kurumdan Aldigi Burs Miktari'] == '1000₺ ve üstü')\n",
    "                              | (df_deneme['Baska Kurumdan Aldigi Burs Miktari'] ==  '500₺ - 999₺')\n",
    "                              | (df_deneme['Baska Kurumdan Aldigi Burs Miktari'] == '0 - 499₺')\n",
    "                              | (df_deneme['Baska Kurumdan Aldigi Burs Miktari'] == '-'))\n",
    "                              & (df_deneme['Baska Kurumdan Aldigi Burs Miktari'].str.len() == 0)\n",
    "                                , 'Baska Kurumdan Aldigi Burs Miktari'].index, inplace=True)"
   ]
  },
  {
   "cell_type": "code",
   "execution_count": 113,
   "id": "73da5b90-c45a-4961-8dae-172e14aefa88",
   "metadata": {},
   "outputs": [],
   "source": [
    "#df_deneme.loc[df_deneme.id == 57067, 'Baska Kurumdan Aldigi Burs Miktari']"
   ]
  },
  {
   "cell_type": "code",
   "execution_count": 114,
   "id": "dc9d9527-67b5-4d14-8e5d-6667be75a7f9",
   "metadata": {
    "scrolled": true
   },
   "outputs": [],
   "source": [
    "df_deneme.loc[\n",
    "                        ~((df_deneme['Baska Kurumdan Aldigi Burs Miktari'] == '1000₺ ve üstü')\n",
    "                              | (df_deneme['Baska Kurumdan Aldigi Burs Miktari'] ==  '500₺ - 999₺')\n",
    "                              | (df_deneme['Baska Kurumdan Aldigi Burs Miktari'] == '0 - 499₺')\n",
    "                              | (df_deneme['Baska Kurumdan Aldigi Burs Miktari'] == '-')\n",
    "                                ), 'Baska Kurumdan Aldigi Burs Miktari'] = df_deneme.loc[\n",
    "                        ~((df_deneme['Baska Kurumdan Aldigi Burs Miktari'] == '1000₺ ve üstü')\n",
    "                              | (df_deneme['Baska Kurumdan Aldigi Burs Miktari'] ==  '500₺ - 999₺')\n",
    "                              | (df_deneme['Baska Kurumdan Aldigi Burs Miktari'] == '0 - 499₺')\n",
    "                              | (df_deneme['Baska Kurumdan Aldigi Burs Miktari'] == '-')\n",
    "                                ), 'Baska Kurumdan Aldigi Burs Miktari'].apply(lambda x: '-' if x == '0' else max(x))"
   ]
  },
  {
   "cell_type": "code",
   "execution_count": 115,
   "id": "1cd52a17-1aa0-435b-8f04-5ae8669857d4",
   "metadata": {},
   "outputs": [],
   "source": [
    "df_deneme.drop(df_deneme.loc[\n",
    "                        ~((df_deneme['Baska Kurumdan Aldigi Burs Miktari'] == '1000₺ ve üstü')\n",
    "                              | (df_deneme['Baska Kurumdan Aldigi Burs Miktari'] ==  '500₺ - 999₺')\n",
    "                              | (df_deneme['Baska Kurumdan Aldigi Burs Miktari'] == '0 - 499₺')\n",
    "                              | (df_deneme['Baska Kurumdan Aldigi Burs Miktari'] == '-'))\n",
    "                              & (df_deneme['Baska Kurumdan Aldigi Burs Miktari'].str.len() == 0)\n",
    "                                , 'Baska Kurumdan Aldigi Burs Miktari'].index, inplace=True)"
   ]
  },
  {
   "cell_type": "code",
   "execution_count": 116,
   "id": "efe53068-b939-420d-ba05-b2e3485c0863",
   "metadata": {},
   "outputs": [
    {
     "data": {
      "text/html": [
       "<div>\n",
       "<style scoped>\n",
       "    .dataframe tbody tr th:only-of-type {\n",
       "        vertical-align: middle;\n",
       "    }\n",
       "\n",
       "    .dataframe tbody tr th {\n",
       "        vertical-align: top;\n",
       "    }\n",
       "\n",
       "    .dataframe thead th {\n",
       "        text-align: right;\n",
       "    }\n",
       "</style>\n",
       "<table border=\"1\" class=\"dataframe\">\n",
       "  <thead>\n",
       "    <tr style=\"text-align: right;\">\n",
       "      <th></th>\n",
       "      <th>yil</th>\n",
       "      <th>tufe</th>\n",
       "    </tr>\n",
       "  </thead>\n",
       "  <tbody>\n",
       "    <tr>\n",
       "      <th>0</th>\n",
       "      <td>2014-01-01</td>\n",
       "      <td>5.17</td>\n",
       "    </tr>\n",
       "    <tr>\n",
       "      <th>1</th>\n",
       "      <td>2015-01-01</td>\n",
       "      <td>4.81</td>\n",
       "    </tr>\n",
       "    <tr>\n",
       "      <th>2</th>\n",
       "      <td>2016-01-01</td>\n",
       "      <td>4.49</td>\n",
       "    </tr>\n",
       "    <tr>\n",
       "      <th>3</th>\n",
       "      <td>2017-01-01</td>\n",
       "      <td>4.02</td>\n",
       "    </tr>\n",
       "    <tr>\n",
       "      <th>4</th>\n",
       "      <td>2018-01-01</td>\n",
       "      <td>3.46</td>\n",
       "    </tr>\n",
       "    <tr>\n",
       "      <th>5</th>\n",
       "      <td>2019-01-01</td>\n",
       "      <td>3.02</td>\n",
       "    </tr>\n",
       "    <tr>\n",
       "      <th>6</th>\n",
       "      <td>2020-01-01</td>\n",
       "      <td>2.70</td>\n",
       "    </tr>\n",
       "    <tr>\n",
       "      <th>7</th>\n",
       "      <td>2021-01-01</td>\n",
       "      <td>2.34</td>\n",
       "    </tr>\n",
       "    <tr>\n",
       "      <th>8</th>\n",
       "      <td>2022-01-01</td>\n",
       "      <td>1.58</td>\n",
       "    </tr>\n",
       "  </tbody>\n",
       "</table>\n",
       "</div>"
      ],
      "text/plain": [
       "         yil  tufe\n",
       "0 2014-01-01  5.17\n",
       "1 2015-01-01  4.81\n",
       "2 2016-01-01  4.49\n",
       "3 2017-01-01  4.02\n",
       "4 2018-01-01  3.46\n",
       "5 2019-01-01  3.02\n",
       "6 2020-01-01  2.70\n",
       "7 2021-01-01  2.34\n",
       "8 2022-01-01  1.58"
      ]
     },
     "execution_count": 116,
     "metadata": {},
     "output_type": "execute_result"
    }
   ],
   "source": [
    "#TÜFE değrlerine göre 2023 baz alınarak tahmini enflasyon\n",
    "tufe=pd.DataFrame(\n",
    "    {\n",
    "        'yil': [2014,2015,2016,2017,2018,2019,2020,2021,2022],\n",
    "        'tufe': [5.17,4.81,4.49,4.02,3.46,3.02,2.70,2.34,1.58]\n",
    "    }\n",
    ")\n",
    "tufe['yil'] = pd.to_datetime(tufe['yil'], format='%Y')\n",
    "tufe"
   ]
  },
  {
   "cell_type": "code",
   "execution_count": 117,
   "id": "373b0740-8d6b-497a-bcdb-852fce0a7d45",
   "metadata": {},
   "outputs": [],
   "source": [
    "for a in tufe.index:\n",
    "    df_deneme.loc[\n",
    "                        ~((df_deneme['Baska Kurumdan Aldigi Burs Miktari'] == '1000₺ ve üstü')\n",
    "                              | (df_deneme['Baska Kurumdan Aldigi Burs Miktari'] ==  '500₺ - 999₺')\n",
    "                              | (df_deneme['Baska Kurumdan Aldigi Burs Miktari'] == '0 - 499₺')\n",
    "                              | (df_deneme['Baska Kurumdan Aldigi Burs Miktari'] == '-'))\n",
    "                              & (df_deneme['Basvuru Yili'].dt.year == tufe.iloc[a].yil.year)\n",
    "                                 , 'Baska Kurumdan Aldigi Burs Miktari'] = df_deneme.loc[\n",
    "                        ~((df_deneme['Baska Kurumdan Aldigi Burs Miktari'] == '1000₺ ve üstü')\n",
    "                              | (df_deneme['Baska Kurumdan Aldigi Burs Miktari'] ==  '500₺ - 999₺')\n",
    "                              | (df_deneme['Baska Kurumdan Aldigi Burs Miktari'] == '0 - 499₺')\n",
    "                              | (df_deneme['Baska Kurumdan Aldigi Burs Miktari'] == '-'))\n",
    "                              & (df_deneme['Basvuru Yili'].dt.year == tufe.iloc[a].yil.year)\n",
    "                                 , 'Baska Kurumdan Aldigi Burs Miktari'].apply(lambda x: tufe.iloc[a].tufe* int(x)).apply(lambda x: '-' if int(x) <= 10 else (\n",
    "                                                                               '0 - 499₺' if (int(x) > 10) & (int(x) <= 500) else (\n",
    "                                                                                   '500₺ - 999₺' if (int(x) > 500) & (int(x) < 1000) else '1000₺ ve üstü')\n",
    "                                                                               ))"
   ]
  },
  {
   "cell_type": "code",
   "execution_count": 118,
   "id": "e3063698-db5e-42b9-bfda-ed2d33c8e4aa",
   "metadata": {},
   "outputs": [],
   "source": [
    "df_deneme.loc[\n",
    "                        ~((df_deneme['Baska Kurumdan Aldigi Burs Miktari'] == '1000₺ ve üstü')\n",
    "                              | (df_deneme['Baska Kurumdan Aldigi Burs Miktari'] ==  '500₺ - 999₺')\n",
    "                              | (df_deneme['Baska Kurumdan Aldigi Burs Miktari'] == '0 - 499₺')\n",
    "                              | (df_deneme['Baska Kurumdan Aldigi Burs Miktari'] == '-'))\n",
    "                                 , 'Baska Kurumdan Aldigi Burs Miktari'] = df_deneme.loc[\n",
    "                        ~((df_deneme['Baska Kurumdan Aldigi Burs Miktari'] == '1000₺ ve üstü')\n",
    "                              | (df_deneme['Baska Kurumdan Aldigi Burs Miktari'] ==  '500₺ - 999₺')\n",
    "                              | (df_deneme['Baska Kurumdan Aldigi Burs Miktari'] == '0 - 499₺')\n",
    "                              | (df_deneme['Baska Kurumdan Aldigi Burs Miktari'] == '-'))\n",
    "                              & (df_deneme['Baska Kurumdan Aldigi Burs Miktari'])\n",
    "                                 , 'Baska Kurumdan Aldigi Burs Miktari'].apply(lambda x: '-' if int(x) <= 10 else (\n",
    "                                                                               '0 - 499₺' if (int(x) > 10) & (int(x) <= 500) else (\n",
    "                                                                                   '500₺ - 999₺' if (int(x) > 500) & (int(x) < 1000) else (\n",
    "                                                                                       '1000₺ ve üstü' if int(x) >= 1000 else 'hata')\n",
    "                                                                               ))\n",
    "                                                                              )"
   ]
  },
  {
   "cell_type": "code",
   "execution_count": 119,
   "id": "2c2b1b76-390f-4726-87c9-d11a0bfc83c8",
   "metadata": {},
   "outputs": [
    {
     "data": {
      "text/plain": [
       "array(['-', '1000₺ ve üstü', '500₺ - 999₺', '0 - 499₺'], dtype=object)"
      ]
     },
     "execution_count": 119,
     "metadata": {},
     "output_type": "execute_result"
    }
   ],
   "source": [
    "df_deneme['Baska Kurumdan Aldigi Burs Miktari'].unique()"
   ]
  },
  {
   "cell_type": "code",
   "execution_count": 93,
   "id": "54e27206-5c3f-45e5-ae6e-2425cb087028",
   "metadata": {},
   "outputs": [
    {
     "name": "stdout",
     "output_type": "stream",
     "text": [
      "[main 3183119] berke\n",
      " 3 files changed, 704 insertions(+), 686 deletions(-)\n",
      "Nesneler ortaya dökülüyor: 9, bitti.\n",
      "Nesneler sayılıyor: 100% (9/9), bitti.\n",
      "Delta sıkıştırması 8 iş parçacığı kullanıyor\n",
      "Nesneler sıkıştırılıyor: 100% (5/5), bitti.\n",
      "Nesneler yazılıyor: 100% (5/5), 6.51 KiB | 6.51 MiB/sn, bitti.\n",
      "Toplam 5 (delta 4), yeniden kullanılan 0 (delta 0), yeniden kullanılan paket 0 (0 konumundan)\n",
      "remote: Resolving deltas: 100% (4/4), completed with 4 local objects.\u001b[K\n",
      "To https://github.com/DALLI-KAKTUS/btk-datathon-2024.git\n",
      "   af43fa1..3183119  main -> main\n"
     ]
    }
   ],
   "source": [
    "!git add .\n",
    "!git commit -m \"berke\"\n",
    "!git push"
   ]
  }
 ],
 "metadata": {
  "kernelspec": {
   "display_name": "Python 3 (ipykernel)",
   "language": "python",
   "name": "python3"
  },
  "language_info": {
   "codemirror_mode": {
    "name": "ipython",
    "version": 3
   },
   "file_extension": ".py",
   "mimetype": "text/x-python",
   "name": "python",
   "nbconvert_exporter": "python",
   "pygments_lexer": "ipython3",
   "version": "3.12.5"
  }
 },
 "nbformat": 4,
 "nbformat_minor": 5
}
